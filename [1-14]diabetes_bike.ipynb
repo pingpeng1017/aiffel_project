{
 "cells": [
  {
   "cell_type": "markdown",
   "id": "a9d691c5",
   "metadata": {},
   "source": [
    "## **1-12. 프로젝트 1 : 손수 설계하는 선형회귀, 당뇨병 수치를 맞춰보자!**"
   ]
  },
  {
   "cell_type": "markdown",
   "id": "15af652b",
   "metadata": {},
   "source": [
    "### **(1) 데이터 가져오기**"
   ]
  },
  {
   "cell_type": "markdown",
   "id": "461eec50",
   "metadata": {},
   "source": [
    "* sklearn.datasets의 load_diabetes에서 데이터를 가져와주세요.\n",
    "* diabetes의 data를 df_X에, target을 df_y에 저장해주세요."
   ]
  },
  {
   "cell_type": "code",
   "execution_count": 1,
   "id": "f67910e1",
   "metadata": {},
   "outputs": [],
   "source": [
    "# 필요한 모듈 import하기\n",
    "from sklearn.datasets import load_diabetes\n",
    "from sklearn.model_selection import train_test_split\n",
    "import matplotlib.pyplot as plt\n",
    "import seaborn as sns\n",
    "import pandas as pd\n",
    "import numpy as np\n",
    "%matplotlib inline"
   ]
  },
  {
   "cell_type": "code",
   "execution_count": 2,
   "id": "ee13f790",
   "metadata": {},
   "outputs": [],
   "source": [
    "# 데이터 불러오기\n",
    "diabetes = load_diabetes()"
   ]
  },
  {
   "cell_type": "code",
   "execution_count": 3,
   "id": "4656b7c7",
   "metadata": {},
   "outputs": [
    {
     "data": {
      "text/html": [
       "<div>\n",
       "<style scoped>\n",
       "    .dataframe tbody tr th:only-of-type {\n",
       "        vertical-align: middle;\n",
       "    }\n",
       "\n",
       "    .dataframe tbody tr th {\n",
       "        vertical-align: top;\n",
       "    }\n",
       "\n",
       "    .dataframe thead th {\n",
       "        text-align: right;\n",
       "    }\n",
       "</style>\n",
       "<table border=\"1\" class=\"dataframe\">\n",
       "  <thead>\n",
       "    <tr style=\"text-align: right;\">\n",
       "      <th></th>\n",
       "      <th>age</th>\n",
       "      <th>sex</th>\n",
       "      <th>bmi</th>\n",
       "      <th>bp</th>\n",
       "      <th>s1</th>\n",
       "      <th>s2</th>\n",
       "      <th>s3</th>\n",
       "      <th>s4</th>\n",
       "      <th>s5</th>\n",
       "      <th>s6</th>\n",
       "    </tr>\n",
       "  </thead>\n",
       "  <tbody>\n",
       "    <tr>\n",
       "      <th>0</th>\n",
       "      <td>0.038076</td>\n",
       "      <td>0.050680</td>\n",
       "      <td>0.061696</td>\n",
       "      <td>0.021872</td>\n",
       "      <td>-0.044223</td>\n",
       "      <td>-0.034821</td>\n",
       "      <td>-0.043401</td>\n",
       "      <td>-0.002592</td>\n",
       "      <td>0.019908</td>\n",
       "      <td>-0.017646</td>\n",
       "    </tr>\n",
       "    <tr>\n",
       "      <th>1</th>\n",
       "      <td>-0.001882</td>\n",
       "      <td>-0.044642</td>\n",
       "      <td>-0.051474</td>\n",
       "      <td>-0.026328</td>\n",
       "      <td>-0.008449</td>\n",
       "      <td>-0.019163</td>\n",
       "      <td>0.074412</td>\n",
       "      <td>-0.039493</td>\n",
       "      <td>-0.068330</td>\n",
       "      <td>-0.092204</td>\n",
       "    </tr>\n",
       "    <tr>\n",
       "      <th>2</th>\n",
       "      <td>0.085299</td>\n",
       "      <td>0.050680</td>\n",
       "      <td>0.044451</td>\n",
       "      <td>-0.005671</td>\n",
       "      <td>-0.045599</td>\n",
       "      <td>-0.034194</td>\n",
       "      <td>-0.032356</td>\n",
       "      <td>-0.002592</td>\n",
       "      <td>0.002864</td>\n",
       "      <td>-0.025930</td>\n",
       "    </tr>\n",
       "    <tr>\n",
       "      <th>3</th>\n",
       "      <td>-0.089063</td>\n",
       "      <td>-0.044642</td>\n",
       "      <td>-0.011595</td>\n",
       "      <td>-0.036656</td>\n",
       "      <td>0.012191</td>\n",
       "      <td>0.024991</td>\n",
       "      <td>-0.036038</td>\n",
       "      <td>0.034309</td>\n",
       "      <td>0.022692</td>\n",
       "      <td>-0.009362</td>\n",
       "    </tr>\n",
       "    <tr>\n",
       "      <th>4</th>\n",
       "      <td>0.005383</td>\n",
       "      <td>-0.044642</td>\n",
       "      <td>-0.036385</td>\n",
       "      <td>0.021872</td>\n",
       "      <td>0.003935</td>\n",
       "      <td>0.015596</td>\n",
       "      <td>0.008142</td>\n",
       "      <td>-0.002592</td>\n",
       "      <td>-0.031991</td>\n",
       "      <td>-0.046641</td>\n",
       "    </tr>\n",
       "  </tbody>\n",
       "</table>\n",
       "</div>"
      ],
      "text/plain": [
       "        age       sex       bmi        bp        s1        s2        s3  \\\n",
       "0  0.038076  0.050680  0.061696  0.021872 -0.044223 -0.034821 -0.043401   \n",
       "1 -0.001882 -0.044642 -0.051474 -0.026328 -0.008449 -0.019163  0.074412   \n",
       "2  0.085299  0.050680  0.044451 -0.005671 -0.045599 -0.034194 -0.032356   \n",
       "3 -0.089063 -0.044642 -0.011595 -0.036656  0.012191  0.024991 -0.036038   \n",
       "4  0.005383 -0.044642 -0.036385  0.021872  0.003935  0.015596  0.008142   \n",
       "\n",
       "         s4        s5        s6  \n",
       "0 -0.002592  0.019908 -0.017646  \n",
       "1 -0.039493 -0.068330 -0.092204  \n",
       "2 -0.002592  0.002864 -0.025930  \n",
       "3  0.034309  0.022692 -0.009362  \n",
       "4 -0.002592 -0.031991 -0.046641  "
      ]
     },
     "execution_count": 3,
     "metadata": {},
     "output_type": "execute_result"
    }
   ],
   "source": [
    "# 데이터프레임으로 변환하기\n",
    "df_diabetes = pd.DataFrame(diabetes.data, columns=diabetes.feature_names)\n",
    "df_diabetes.head()"
   ]
  },
  {
   "cell_type": "code",
   "execution_count": 4,
   "id": "bdd93f41",
   "metadata": {},
   "outputs": [],
   "source": [
    "# 데이터 저장하기\n",
    "df_X = diabetes.data\n",
    "df_y = diabetes.target"
   ]
  },
  {
   "cell_type": "markdown",
   "id": "660962c7",
   "metadata": {},
   "source": [
    "### **(2) 모델에 입력할 데이터 X 준비하기**"
   ]
  },
  {
   "cell_type": "markdown",
   "id": "aeeab1ea",
   "metadata": {},
   "source": [
    "* df_X에 있는 값들을 numpy array로 변환해서 저장해주세요."
   ]
  },
  {
   "cell_type": "code",
   "execution_count": 5,
   "id": "28b917bb",
   "metadata": {},
   "outputs": [
    {
     "data": {
      "text/plain": [
       "(442, 10)"
      ]
     },
     "execution_count": 5,
     "metadata": {},
     "output_type": "execute_result"
    }
   ],
   "source": [
    "# 데이터 X 준비하기\n",
    "X = np.array(df_X)\n",
    "X.shape"
   ]
  },
  {
   "cell_type": "markdown",
   "id": "2f96ac83",
   "metadata": {},
   "source": [
    "### **(3) 모델에 예측할 데이터 y 준비하기**"
   ]
  },
  {
   "cell_type": "markdown",
   "id": "e749fe94",
   "metadata": {},
   "source": [
    "* df_y에 있는 값들을 numpy array로 변환해서 저장해주세요."
   ]
  },
  {
   "cell_type": "code",
   "execution_count": 6,
   "id": "aaed37f7",
   "metadata": {},
   "outputs": [
    {
     "data": {
      "text/plain": [
       "(442,)"
      ]
     },
     "execution_count": 6,
     "metadata": {},
     "output_type": "execute_result"
    }
   ],
   "source": [
    "# 데이터 y 준비하기\n",
    "y = np.array(df_y)\n",
    "y.shape"
   ]
  },
  {
   "cell_type": "markdown",
   "id": "d85eebcc",
   "metadata": {},
   "source": [
    "### **(4) train 데이터와 test 데이터로 분리하기**"
   ]
  },
  {
   "cell_type": "markdown",
   "id": "10d6c9a0",
   "metadata": {},
   "source": [
    "* X와 y 데이터를 각각 train 데이터와 test 데이터로 분리해주세요."
   ]
  },
  {
   "cell_type": "code",
   "execution_count": 7,
   "id": "3e9aab82",
   "metadata": {},
   "outputs": [
    {
     "name": "stdout",
     "output_type": "stream",
     "text": [
      "(353, 10) (353,)\n",
      "(89, 10) (89,)\n"
     ]
    }
   ],
   "source": [
    "# 데이터 분리하기\n",
    "X_train, X_test, y_train, y_test = train_test_split(X, y, test_size=0.2, random_state=33)\n",
    "print(X_train.shape, y_train.shape)\n",
    "print(X_test.shape, y_test.shape)"
   ]
  },
  {
   "cell_type": "markdown",
   "id": "eb8347a8",
   "metadata": {},
   "source": [
    "### **(5) 모델 준비하기**"
   ]
  },
  {
   "cell_type": "markdown",
   "id": "f2053f03",
   "metadata": {},
   "source": [
    "* 입력 데이터 개수에 맞는 가중치 W와 b를 준비해주세요.\n",
    "* 모델 함수를 구현해주세요."
   ]
  },
  {
   "cell_type": "code",
   "execution_count": 8,
   "id": "e1f9633d",
   "metadata": {},
   "outputs": [],
   "source": [
    "# 가중치 준비하기\n",
    "W = np.random.rand(10) # 피처 개수 총 10개\n",
    "b = np.random.rand()"
   ]
  },
  {
   "cell_type": "code",
   "execution_count": 9,
   "id": "8899ba13",
   "metadata": {},
   "outputs": [],
   "source": [
    "# 모델 함수 구현하기\n",
    "def model(X, W, b):\n",
    "    predictions = 0\n",
    "    for i in range(10):\n",
    "        predictions += X[:, i] * W[i]\n",
    "    predictions += b\n",
    "    return predictions"
   ]
  },
  {
   "cell_type": "markdown",
   "id": "e55c7ec0",
   "metadata": {},
   "source": [
    "### **(6) 손실함수 loss 정의하기**"
   ]
  },
  {
   "cell_type": "markdown",
   "id": "c6c63349",
   "metadata": {},
   "source": [
    "* 손실함수를 MSE 함수로 정의해주세요."
   ]
  },
  {
   "cell_type": "code",
   "execution_count": 10,
   "id": "48581cfa",
   "metadata": {},
   "outputs": [],
   "source": [
    "# MSE 함수 구현하기\n",
    "def MSE(a, b):\n",
    "    mse = ((a - b) **2).mean() # 두 값의 차이의 제곱의 평균\n",
    "    return mse"
   ]
  },
  {
   "cell_type": "code",
   "execution_count": 11,
   "id": "90d0f660",
   "metadata": {},
   "outputs": [],
   "source": [
    "# 손실함수 정의하기\n",
    "def loss(X, W, b, y):\n",
    "    predictions = model(X, W, b)\n",
    "    L = MSE(predictions, y)\n",
    "    return L"
   ]
  },
  {
   "cell_type": "markdown",
   "id": "279ecca3",
   "metadata": {},
   "source": [
    "### **(7) 기울기를 구하는 gradient 함수 구현하기**"
   ]
  },
  {
   "cell_type": "markdown",
   "id": "86f4d010",
   "metadata": {},
   "source": [
    "* 기울기를 계산하는 gradient 함수를 구현해주세요."
   ]
  },
  {
   "cell_type": "code",
   "execution_count": 12,
   "id": "64ac41ad",
   "metadata": {},
   "outputs": [],
   "source": [
    "# gradient 함수 구현하기\n",
    "def gradient(X, W, b, y):\n",
    "    # N은 데이터 포인트의 개수\n",
    "    N = len(y)\n",
    "    \n",
    "    # y_pred 준비\n",
    "    y_pred = model(X, W, b)\n",
    "    \n",
    "    # 공식에 맞게 gradient 계산\n",
    "    dW = 1/N * 2 * X.T.dot(y_pred - y)\n",
    "        \n",
    "    # b의 gradient 계산\n",
    "    db = 2 * (y_pred - y).mean()\n",
    "    return dW, db"
   ]
  },
  {
   "cell_type": "code",
   "execution_count": 13,
   "id": "de3deb9b",
   "metadata": {},
   "outputs": [
    {
     "name": "stdout",
     "output_type": "stream",
     "text": [
      "dW: [-1.37034704 -0.31020689 -4.28659989 -3.22470689 -1.54122521 -1.26390642\n",
      "  2.88804638 -3.14290969 -4.13536523 -2.7912375 ]\n",
      "db: -304.1596798672125\n"
     ]
    }
   ],
   "source": [
    "# 경사 계산해보기\n",
    "dW, db = gradient(X, W, b, y)\n",
    "print(\"dW:\", dW)\n",
    "print(\"db:\", db)"
   ]
  },
  {
   "cell_type": "markdown",
   "id": "c80c455d",
   "metadata": {},
   "source": [
    "### **(8) 하이퍼 파라미터인 학습률 설정하기**"
   ]
  },
  {
   "cell_type": "markdown",
   "id": "f3a531cb",
   "metadata": {},
   "source": [
    "* 학습률, learning rate 를 설정해주세요\n",
    "* 만약 학습이 잘 되지 않는다면 learning rate 값을 한번 여러 가지로 설정하며 실험해 보세요."
   ]
  },
  {
   "cell_type": "code",
   "execution_count": 14,
   "id": "fbbb6156",
   "metadata": {},
   "outputs": [],
   "source": [
    "# 학습률 설정하기\n",
    "LEARNING_RATE = 0.03"
   ]
  },
  {
   "cell_type": "markdown",
   "id": "35b05af5",
   "metadata": {},
   "source": [
    "### **(9) 모델 학습하기**"
   ]
  },
  {
   "cell_type": "markdown",
   "id": "2d943186",
   "metadata": {},
   "source": [
    "* 정의된 손실함수와 기울기 함수로 모델을 학습해주세요.\n",
    "* loss값이 충분히 떨어질 때까지 학습을 진행해주세요.\n",
    "* 입력하는 데이터인 X에 들어가는 특성 컬럼들을 몇 개 빼도 괜찮습니다. 다양한 데이터로 실험해 보세요."
   ]
  },
  {
   "cell_type": "code",
   "execution_count": 15,
   "id": "400643de",
   "metadata": {
    "scrolled": false
   },
   "outputs": [
    {
     "name": "stdout",
     "output_type": "stream",
     "text": [
      "Iteration 10 : Loss 12752.1410\n",
      "Iteration 20 : Loss 7876.0899\n",
      "Iteration 30 : Loss 6446.3953\n",
      "Iteration 40 : Loss 6016.6338\n",
      "Iteration 50 : Loss 5877.0965\n",
      "Iteration 60 : Loss 5821.8953\n",
      "Iteration 70 : Loss 5791.3006\n",
      "Iteration 80 : Loss 5767.9833\n",
      "Iteration 90 : Loss 5746.9149\n",
      "Iteration 100 : Loss 5726.6350\n",
      "Iteration 110 : Loss 5706.7186\n",
      "Iteration 120 : Loss 5687.0409\n",
      "Iteration 130 : Loss 5667.5643\n",
      "Iteration 140 : Loss 5648.2766\n",
      "Iteration 150 : Loss 5629.1727\n",
      "Iteration 160 : Loss 5610.2499\n",
      "Iteration 170 : Loss 5591.5061\n",
      "Iteration 180 : Loss 5572.9391\n",
      "Iteration 190 : Loss 5554.5472\n",
      "Iteration 200 : Loss 5536.3285\n",
      "Iteration 210 : Loss 5518.2811\n",
      "Iteration 220 : Loss 5500.4033\n",
      "Iteration 230 : Loss 5482.6933\n",
      "Iteration 240 : Loss 5465.1492\n",
      "Iteration 250 : Loss 5447.7693\n",
      "Iteration 260 : Loss 5430.5520\n",
      "Iteration 270 : Loss 5413.4954\n",
      "Iteration 280 : Loss 5396.5979\n",
      "Iteration 290 : Loss 5379.8579\n",
      "Iteration 300 : Loss 5363.2735\n",
      "Iteration 310 : Loss 5346.8433\n",
      "Iteration 320 : Loss 5330.5656\n",
      "Iteration 330 : Loss 5314.4388\n",
      "Iteration 340 : Loss 5298.4612\n",
      "Iteration 350 : Loss 5282.6314\n",
      "Iteration 360 : Loss 5266.9478\n",
      "Iteration 370 : Loss 5251.4088\n",
      "Iteration 380 : Loss 5236.0129\n",
      "Iteration 390 : Loss 5220.7587\n",
      "Iteration 400 : Loss 5205.6446\n",
      "Iteration 410 : Loss 5190.6691\n",
      "Iteration 420 : Loss 5175.8309\n",
      "Iteration 430 : Loss 5161.1285\n",
      "Iteration 440 : Loss 5146.5604\n",
      "Iteration 450 : Loss 5132.1252\n",
      "Iteration 460 : Loss 5117.8216\n",
      "Iteration 470 : Loss 5103.6482\n",
      "Iteration 480 : Loss 5089.6036\n",
      "Iteration 490 : Loss 5075.6865\n",
      "Iteration 500 : Loss 5061.8955\n",
      "Iteration 510 : Loss 5048.2294\n",
      "Iteration 520 : Loss 5034.6868\n",
      "Iteration 530 : Loss 5021.2664\n",
      "Iteration 540 : Loss 5007.9670\n",
      "Iteration 550 : Loss 4994.7873\n",
      "Iteration 560 : Loss 4981.7260\n",
      "Iteration 570 : Loss 4968.7820\n",
      "Iteration 580 : Loss 4955.9540\n",
      "Iteration 590 : Loss 4943.2408\n",
      "Iteration 600 : Loss 4930.6411\n",
      "Iteration 610 : Loss 4918.1540\n",
      "Iteration 620 : Loss 4905.7780\n",
      "Iteration 630 : Loss 4893.5122\n",
      "Iteration 640 : Loss 4881.3554\n",
      "Iteration 650 : Loss 4869.3063\n",
      "Iteration 660 : Loss 4857.3641\n",
      "Iteration 670 : Loss 4845.5274\n",
      "Iteration 680 : Loss 4833.7952\n",
      "Iteration 690 : Loss 4822.1665\n",
      "Iteration 700 : Loss 4810.6402\n",
      "Iteration 710 : Loss 4799.2151\n",
      "Iteration 720 : Loss 4787.8904\n",
      "Iteration 730 : Loss 4776.6648\n",
      "Iteration 740 : Loss 4765.5375\n",
      "Iteration 750 : Loss 4754.5074\n",
      "Iteration 760 : Loss 4743.5735\n",
      "Iteration 770 : Loss 4732.7348\n",
      "Iteration 780 : Loss 4721.9903\n",
      "Iteration 790 : Loss 4711.3391\n",
      "Iteration 800 : Loss 4700.7801\n",
      "Iteration 810 : Loss 4690.3126\n",
      "Iteration 820 : Loss 4679.9354\n",
      "Iteration 830 : Loss 4669.6478\n",
      "Iteration 840 : Loss 4659.4487\n",
      "Iteration 850 : Loss 4649.3372\n",
      "Iteration 860 : Loss 4639.3126\n",
      "Iteration 870 : Loss 4629.3738\n",
      "Iteration 880 : Loss 4619.5200\n",
      "Iteration 890 : Loss 4609.7503\n",
      "Iteration 900 : Loss 4600.0640\n",
      "Iteration 910 : Loss 4590.4600\n",
      "Iteration 920 : Loss 4580.9376\n",
      "Iteration 930 : Loss 4571.4960\n",
      "Iteration 940 : Loss 4562.1343\n",
      "Iteration 950 : Loss 4552.8517\n",
      "Iteration 960 : Loss 4543.6474\n",
      "Iteration 970 : Loss 4534.5206\n",
      "Iteration 980 : Loss 4525.4706\n",
      "Iteration 990 : Loss 4516.4965\n",
      "Iteration 1000 : Loss 4507.5976\n",
      "Iteration 1010 : Loss 4498.7731\n",
      "Iteration 1020 : Loss 4490.0222\n",
      "Iteration 1030 : Loss 4481.3443\n",
      "Iteration 1040 : Loss 4472.7385\n",
      "Iteration 1050 : Loss 4464.2042\n",
      "Iteration 1060 : Loss 4455.7406\n",
      "Iteration 1070 : Loss 4447.3470\n",
      "Iteration 1080 : Loss 4439.0228\n",
      "Iteration 1090 : Loss 4430.7671\n",
      "Iteration 1100 : Loss 4422.5793\n",
      "Iteration 1110 : Loss 4414.4588\n",
      "Iteration 1120 : Loss 4406.4048\n",
      "Iteration 1130 : Loss 4398.4167\n",
      "Iteration 1140 : Loss 4390.4939\n",
      "Iteration 1150 : Loss 4382.6356\n",
      "Iteration 1160 : Loss 4374.8412\n",
      "Iteration 1170 : Loss 4367.1101\n",
      "Iteration 1180 : Loss 4359.4416\n",
      "Iteration 1190 : Loss 4351.8352\n",
      "Iteration 1200 : Loss 4344.2901\n",
      "Iteration 1210 : Loss 4336.8059\n",
      "Iteration 1220 : Loss 4329.3818\n",
      "Iteration 1230 : Loss 4322.0173\n",
      "Iteration 1240 : Loss 4314.7118\n",
      "Iteration 1250 : Loss 4307.4647\n",
      "Iteration 1260 : Loss 4300.2753\n",
      "Iteration 1270 : Loss 4293.1433\n",
      "Iteration 1280 : Loss 4286.0679\n",
      "Iteration 1290 : Loss 4279.0486\n",
      "Iteration 1300 : Loss 4272.0849\n",
      "Iteration 1310 : Loss 4265.1761\n",
      "Iteration 1320 : Loss 4258.3218\n",
      "Iteration 1330 : Loss 4251.5215\n",
      "Iteration 1340 : Loss 4244.7745\n",
      "Iteration 1350 : Loss 4238.0804\n",
      "Iteration 1360 : Loss 4231.4386\n",
      "Iteration 1370 : Loss 4224.8486\n",
      "Iteration 1380 : Loss 4218.3100\n",
      "Iteration 1390 : Loss 4211.8221\n",
      "Iteration 1400 : Loss 4205.3846\n",
      "Iteration 1410 : Loss 4198.9968\n",
      "Iteration 1420 : Loss 4192.6584\n",
      "Iteration 1430 : Loss 4186.3688\n",
      "Iteration 1440 : Loss 4180.1276\n",
      "Iteration 1450 : Loss 4173.9343\n",
      "Iteration 1460 : Loss 4167.7883\n",
      "Iteration 1470 : Loss 4161.6894\n",
      "Iteration 1480 : Loss 4155.6369\n",
      "Iteration 1490 : Loss 4149.6305\n",
      "Iteration 1500 : Loss 4143.6696\n",
      "Iteration 1510 : Loss 4137.7539\n",
      "Iteration 1520 : Loss 4131.8829\n",
      "Iteration 1530 : Loss 4126.0562\n",
      "Iteration 1540 : Loss 4120.2733\n",
      "Iteration 1550 : Loss 4114.5339\n",
      "Iteration 1560 : Loss 4108.8374\n",
      "Iteration 1570 : Loss 4103.1835\n",
      "Iteration 1580 : Loss 4097.5718\n",
      "Iteration 1590 : Loss 4092.0019\n",
      "Iteration 1600 : Loss 4086.4733\n",
      "Iteration 1610 : Loss 4080.9857\n",
      "Iteration 1620 : Loss 4075.5386\n",
      "Iteration 1630 : Loss 4070.1318\n",
      "Iteration 1640 : Loss 4064.7647\n",
      "Iteration 1650 : Loss 4059.4370\n",
      "Iteration 1660 : Loss 4054.1483\n",
      "Iteration 1670 : Loss 4048.8983\n",
      "Iteration 1680 : Loss 4043.6866\n",
      "Iteration 1690 : Loss 4038.5128\n",
      "Iteration 1700 : Loss 4033.3766\n",
      "Iteration 1710 : Loss 4028.2775\n",
      "Iteration 1720 : Loss 4023.2153\n",
      "Iteration 1730 : Loss 4018.1896\n",
      "Iteration 1740 : Loss 4013.2001\n",
      "Iteration 1750 : Loss 4008.2463\n",
      "Iteration 1760 : Loss 4003.3280\n",
      "Iteration 1770 : Loss 3998.4449\n",
      "Iteration 1780 : Loss 3993.5965\n",
      "Iteration 1790 : Loss 3988.7826\n",
      "Iteration 1800 : Loss 3984.0028\n",
      "Iteration 1810 : Loss 3979.2568\n",
      "Iteration 1820 : Loss 3974.5444\n",
      "Iteration 1830 : Loss 3969.8651\n",
      "Iteration 1840 : Loss 3965.2187\n",
      "Iteration 1850 : Loss 3960.6048\n",
      "Iteration 1860 : Loss 3956.0233\n",
      "Iteration 1870 : Loss 3951.4736\n",
      "Iteration 1880 : Loss 3946.9556\n",
      "Iteration 1890 : Loss 3942.4690\n",
      "Iteration 1900 : Loss 3938.0134\n",
      "Iteration 1910 : Loss 3933.5887\n",
      "Iteration 1920 : Loss 3929.1944\n",
      "Iteration 1930 : Loss 3924.8303\n",
      "Iteration 1940 : Loss 3920.4961\n",
      "Iteration 1950 : Loss 3916.1916\n",
      "Iteration 1960 : Loss 3911.9164\n",
      "Iteration 1970 : Loss 3907.6704\n",
      "Iteration 1980 : Loss 3903.4531\n",
      "Iteration 1990 : Loss 3899.2645\n",
      "Iteration 2000 : Loss 3895.1041\n",
      "Iteration 2010 : Loss 3890.9718\n",
      "Iteration 2020 : Loss 3886.8673\n",
      "Iteration 2030 : Loss 3882.7903\n",
      "Iteration 2040 : Loss 3878.7405\n",
      "Iteration 2050 : Loss 3874.7178\n",
      "Iteration 2060 : Loss 3870.7219\n",
      "Iteration 2070 : Loss 3866.7525\n",
      "Iteration 2080 : Loss 3862.8093\n",
      "Iteration 2090 : Loss 3858.8923\n",
      "Iteration 2100 : Loss 3855.0010\n",
      "Iteration 2110 : Loss 3851.1353\n",
      "Iteration 2120 : Loss 3847.2950\n",
      "Iteration 2130 : Loss 3843.4798\n",
      "Iteration 2140 : Loss 3839.6894\n",
      "Iteration 2150 : Loss 3835.9238\n",
      "Iteration 2160 : Loss 3832.1825\n",
      "Iteration 2170 : Loss 3828.4655\n",
      "Iteration 2180 : Loss 3824.7725\n",
      "Iteration 2190 : Loss 3821.1033\n",
      "Iteration 2200 : Loss 3817.4576\n",
      "Iteration 2210 : Loss 3813.8353\n",
      "Iteration 2220 : Loss 3810.2362\n",
      "Iteration 2230 : Loss 3806.6600\n",
      "Iteration 2240 : Loss 3803.1065\n",
      "Iteration 2250 : Loss 3799.5756\n",
      "Iteration 2260 : Loss 3796.0670\n",
      "Iteration 2270 : Loss 3792.5806\n",
      "Iteration 2280 : Loss 3789.1161\n",
      "Iteration 2290 : Loss 3785.6733\n",
      "Iteration 2300 : Loss 3782.2521\n",
      "Iteration 2310 : Loss 3778.8522\n",
      "Iteration 2320 : Loss 3775.4736\n",
      "Iteration 2330 : Loss 3772.1159\n",
      "Iteration 2340 : Loss 3768.7790\n",
      "Iteration 2350 : Loss 3765.4627\n",
      "Iteration 2360 : Loss 3762.1669\n",
      "Iteration 2370 : Loss 3758.8913\n",
      "Iteration 2380 : Loss 3755.6358\n",
      "Iteration 2390 : Loss 3752.4003\n",
      "Iteration 2400 : Loss 3749.1844\n",
      "Iteration 2410 : Loss 3745.9881\n",
      "Iteration 2420 : Loss 3742.8112\n",
      "Iteration 2430 : Loss 3739.6536\n",
      "Iteration 2440 : Loss 3736.5150\n",
      "Iteration 2450 : Loss 3733.3952\n",
      "Iteration 2460 : Loss 3730.2943\n",
      "Iteration 2470 : Loss 3727.2118\n",
      "Iteration 2480 : Loss 3724.1478\n",
      "Iteration 2490 : Loss 3721.1021\n",
      "Iteration 2500 : Loss 3718.0744\n",
      "Iteration 2510 : Loss 3715.0647\n",
      "Iteration 2520 : Loss 3712.0727\n",
      "Iteration 2530 : Loss 3709.0984\n",
      "Iteration 2540 : Loss 3706.1415\n",
      "Iteration 2550 : Loss 3703.2020\n",
      "Iteration 2560 : Loss 3700.2797\n",
      "Iteration 2570 : Loss 3697.3745\n",
      "Iteration 2580 : Loss 3694.4861\n",
      "Iteration 2590 : Loss 3691.6145\n",
      "Iteration 2600 : Loss 3688.7594\n",
      "Iteration 2610 : Loss 3685.9209\n",
      "Iteration 2620 : Loss 3683.0987\n",
      "Iteration 2630 : Loss 3680.2927\n",
      "Iteration 2640 : Loss 3677.5027\n",
      "Iteration 2650 : Loss 3674.7287\n",
      "Iteration 2660 : Loss 3671.9705\n",
      "Iteration 2670 : Loss 3669.2279\n",
      "Iteration 2680 : Loss 3666.5009\n",
      "Iteration 2690 : Loss 3663.7892\n",
      "Iteration 2700 : Loss 3661.0929\n",
      "Iteration 2710 : Loss 3658.4116\n",
      "Iteration 2720 : Loss 3655.7454\n",
      "Iteration 2730 : Loss 3653.0942\n",
      "Iteration 2740 : Loss 3650.4576\n",
      "Iteration 2750 : Loss 3647.8358\n",
      "Iteration 2760 : Loss 3645.2284\n",
      "Iteration 2770 : Loss 3642.6355\n",
      "Iteration 2780 : Loss 3640.0569\n",
      "Iteration 2790 : Loss 3637.4925\n",
      "Iteration 2800 : Loss 3634.9421\n",
      "Iteration 2810 : Loss 3632.4057\n",
      "Iteration 2820 : Loss 3629.8831\n",
      "Iteration 2830 : Loss 3627.3743\n",
      "Iteration 2840 : Loss 3624.8790\n",
      "Iteration 2850 : Loss 3622.3973\n",
      "Iteration 2860 : Loss 3619.9290\n",
      "Iteration 2870 : Loss 3617.4739\n",
      "Iteration 2880 : Loss 3615.0321\n",
      "Iteration 2890 : Loss 3612.6033\n",
      "Iteration 2900 : Loss 3610.1875\n",
      "Iteration 2910 : Loss 3607.7845\n",
      "Iteration 2920 : Loss 3605.3944\n",
      "Iteration 2930 : Loss 3603.0168\n",
      "Iteration 2940 : Loss 3600.6519\n",
      "Iteration 2950 : Loss 3598.2994\n",
      "Iteration 2960 : Loss 3595.9593\n",
      "Iteration 2970 : Loss 3593.6315\n",
      "Iteration 2980 : Loss 3591.3158\n",
      "Iteration 2990 : Loss 3589.0122\n",
      "Iteration 3000 : Loss 3586.7206\n",
      "Iteration 3010 : Loss 3584.4409\n",
      "Iteration 3020 : Loss 3582.1729\n",
      "Iteration 3030 : Loss 3579.9167\n",
      "Iteration 3040 : Loss 3577.6721\n",
      "Iteration 3050 : Loss 3575.4390\n",
      "Iteration 3060 : Loss 3573.2174\n",
      "Iteration 3070 : Loss 3571.0071\n",
      "Iteration 3080 : Loss 3568.8081\n",
      "Iteration 3090 : Loss 3566.6202\n",
      "Iteration 3100 : Loss 3564.4434\n",
      "Iteration 3110 : Loss 3562.2776\n",
      "Iteration 3120 : Loss 3560.1228\n",
      "Iteration 3130 : Loss 3557.9787\n",
      "Iteration 3140 : Loss 3555.8455\n",
      "Iteration 3150 : Loss 3553.7229\n",
      "Iteration 3160 : Loss 3551.6108\n",
      "Iteration 3170 : Loss 3549.5093\n",
      "Iteration 3180 : Loss 3547.4183\n",
      "Iteration 3190 : Loss 3545.3375\n",
      "Iteration 3200 : Loss 3543.2671\n",
      "Iteration 3210 : Loss 3541.2068\n",
      "Iteration 3220 : Loss 3539.1567\n",
      "Iteration 3230 : Loss 3537.1166\n",
      "Iteration 3240 : Loss 3535.0865\n",
      "Iteration 3250 : Loss 3533.0663\n",
      "Iteration 3260 : Loss 3531.0559\n",
      "Iteration 3270 : Loss 3529.0553\n",
      "Iteration 3280 : Loss 3527.0643\n",
      "Iteration 3290 : Loss 3525.0829\n",
      "Iteration 3300 : Loss 3523.1111\n",
      "Iteration 3310 : Loss 3521.1487\n",
      "Iteration 3320 : Loss 3519.1958\n",
      "Iteration 3330 : Loss 3517.2522\n",
      "Iteration 3340 : Loss 3515.3178\n",
      "Iteration 3350 : Loss 3513.3926\n",
      "Iteration 3360 : Loss 3511.4766\n",
      "Iteration 3370 : Loss 3509.5696\n",
      "Iteration 3380 : Loss 3507.6716\n",
      "Iteration 3390 : Loss 3505.7825\n",
      "Iteration 3400 : Loss 3503.9023\n"
     ]
    },
    {
     "name": "stdout",
     "output_type": "stream",
     "text": [
      "Iteration 3410 : Loss 3502.0309\n",
      "Iteration 3420 : Loss 3500.1683\n",
      "Iteration 3430 : Loss 3498.3143\n",
      "Iteration 3440 : Loss 3496.4689\n",
      "Iteration 3450 : Loss 3494.6321\n",
      "Iteration 3460 : Loss 3492.8038\n",
      "Iteration 3470 : Loss 3490.9839\n",
      "Iteration 3480 : Loss 3489.1724\n",
      "Iteration 3490 : Loss 3487.3692\n",
      "Iteration 3500 : Loss 3485.5743\n",
      "Iteration 3510 : Loss 3483.7875\n",
      "Iteration 3520 : Loss 3482.0090\n",
      "Iteration 3530 : Loss 3480.2384\n",
      "Iteration 3540 : Loss 3478.4760\n",
      "Iteration 3550 : Loss 3476.7215\n",
      "Iteration 3560 : Loss 3474.9749\n",
      "Iteration 3570 : Loss 3473.2361\n",
      "Iteration 3580 : Loss 3471.5052\n",
      "Iteration 3590 : Loss 3469.7821\n",
      "Iteration 3600 : Loss 3468.0666\n",
      "Iteration 3610 : Loss 3466.3588\n",
      "Iteration 3620 : Loss 3464.6586\n",
      "Iteration 3630 : Loss 3462.9659\n",
      "Iteration 3640 : Loss 3461.2807\n",
      "Iteration 3650 : Loss 3459.6030\n",
      "Iteration 3660 : Loss 3457.9327\n",
      "Iteration 3670 : Loss 3456.2697\n",
      "Iteration 3680 : Loss 3454.6140\n",
      "Iteration 3690 : Loss 3452.9655\n",
      "Iteration 3700 : Loss 3451.3243\n",
      "Iteration 3710 : Loss 3449.6901\n",
      "Iteration 3720 : Loss 3448.0631\n",
      "Iteration 3730 : Loss 3446.4432\n",
      "Iteration 3740 : Loss 3444.8302\n",
      "Iteration 3750 : Loss 3443.2242\n",
      "Iteration 3760 : Loss 3441.6252\n",
      "Iteration 3770 : Loss 3440.0330\n",
      "Iteration 3780 : Loss 3438.4476\n",
      "Iteration 3790 : Loss 3436.8690\n",
      "Iteration 3800 : Loss 3435.2971\n",
      "Iteration 3810 : Loss 3433.7319\n",
      "Iteration 3820 : Loss 3432.1734\n",
      "Iteration 3830 : Loss 3430.6215\n",
      "Iteration 3840 : Loss 3429.0761\n",
      "Iteration 3850 : Loss 3427.5373\n",
      "Iteration 3860 : Loss 3426.0049\n",
      "Iteration 3870 : Loss 3424.4790\n",
      "Iteration 3880 : Loss 3422.9594\n",
      "Iteration 3890 : Loss 3421.4462\n",
      "Iteration 3900 : Loss 3419.9394\n",
      "Iteration 3910 : Loss 3418.4388\n",
      "Iteration 3920 : Loss 3416.9444\n",
      "Iteration 3930 : Loss 3415.4563\n",
      "Iteration 3940 : Loss 3413.9742\n",
      "Iteration 3950 : Loss 3412.4983\n",
      "Iteration 3960 : Loss 3411.0285\n",
      "Iteration 3970 : Loss 3409.5647\n",
      "Iteration 3980 : Loss 3408.1070\n",
      "Iteration 3990 : Loss 3406.6552\n",
      "Iteration 4000 : Loss 3405.2093\n",
      "Iteration 4010 : Loss 3403.7693\n",
      "Iteration 4020 : Loss 3402.3351\n",
      "Iteration 4030 : Loss 3400.9068\n",
      "Iteration 4040 : Loss 3399.4843\n",
      "Iteration 4050 : Loss 3398.0675\n",
      "Iteration 4060 : Loss 3396.6564\n",
      "Iteration 4070 : Loss 3395.2510\n",
      "Iteration 4080 : Loss 3393.8512\n",
      "Iteration 4090 : Loss 3392.4571\n",
      "Iteration 4100 : Loss 3391.0685\n",
      "Iteration 4110 : Loss 3389.6855\n",
      "Iteration 4120 : Loss 3388.3079\n",
      "Iteration 4130 : Loss 3386.9359\n",
      "Iteration 4140 : Loss 3385.5693\n",
      "Iteration 4150 : Loss 3384.2081\n",
      "Iteration 4160 : Loss 3382.8522\n",
      "Iteration 4170 : Loss 3381.5018\n",
      "Iteration 4180 : Loss 3380.1566\n",
      "Iteration 4190 : Loss 3378.8167\n",
      "Iteration 4200 : Loss 3377.4821\n",
      "Iteration 4210 : Loss 3376.1526\n",
      "Iteration 4220 : Loss 3374.8284\n",
      "Iteration 4230 : Loss 3373.5093\n",
      "Iteration 4240 : Loss 3372.1954\n",
      "Iteration 4250 : Loss 3370.8865\n",
      "Iteration 4260 : Loss 3369.5828\n",
      "Iteration 4270 : Loss 3368.2840\n",
      "Iteration 4280 : Loss 3366.9903\n",
      "Iteration 4290 : Loss 3365.7015\n",
      "Iteration 4300 : Loss 3364.4178\n",
      "Iteration 4310 : Loss 3363.1389\n",
      "Iteration 4320 : Loss 3361.8649\n",
      "Iteration 4330 : Loss 3360.5958\n",
      "Iteration 4340 : Loss 3359.3315\n",
      "Iteration 4350 : Loss 3358.0721\n",
      "Iteration 4360 : Loss 3356.8174\n",
      "Iteration 4370 : Loss 3355.5675\n",
      "Iteration 4380 : Loss 3354.3223\n",
      "Iteration 4390 : Loss 3353.0819\n",
      "Iteration 4400 : Loss 3351.8461\n",
      "Iteration 4410 : Loss 3350.6149\n",
      "Iteration 4420 : Loss 3349.3884\n",
      "Iteration 4430 : Loss 3348.1665\n",
      "Iteration 4440 : Loss 3346.9491\n",
      "Iteration 4450 : Loss 3345.7364\n",
      "Iteration 4460 : Loss 3344.5281\n",
      "Iteration 4470 : Loss 3343.3243\n",
      "Iteration 4480 : Loss 3342.1250\n",
      "Iteration 4490 : Loss 3340.9302\n",
      "Iteration 4500 : Loss 3339.7398\n",
      "Iteration 4510 : Loss 3338.5538\n",
      "Iteration 4520 : Loss 3337.3721\n",
      "Iteration 4530 : Loss 3336.1949\n",
      "Iteration 4540 : Loss 3335.0219\n",
      "Iteration 4550 : Loss 3333.8533\n",
      "Iteration 4560 : Loss 3332.6889\n",
      "Iteration 4570 : Loss 3331.5288\n",
      "Iteration 4580 : Loss 3330.3730\n",
      "Iteration 4590 : Loss 3329.2213\n",
      "Iteration 4600 : Loss 3328.0739\n",
      "Iteration 4610 : Loss 3326.9306\n",
      "Iteration 4620 : Loss 3325.7915\n",
      "Iteration 4630 : Loss 3324.6565\n",
      "Iteration 4640 : Loss 3323.5256\n",
      "Iteration 4650 : Loss 3322.3988\n",
      "Iteration 4660 : Loss 3321.2760\n",
      "Iteration 4670 : Loss 3320.1573\n",
      "Iteration 4680 : Loss 3319.0427\n",
      "Iteration 4690 : Loss 3317.9320\n",
      "Iteration 4700 : Loss 3316.8253\n",
      "Iteration 4710 : Loss 3315.7225\n",
      "Iteration 4720 : Loss 3314.6237\n",
      "Iteration 4730 : Loss 3313.5288\n",
      "Iteration 4740 : Loss 3312.4378\n",
      "Iteration 4750 : Loss 3311.3507\n",
      "Iteration 4760 : Loss 3310.2674\n",
      "Iteration 4770 : Loss 3309.1880\n",
      "Iteration 4780 : Loss 3308.1124\n",
      "Iteration 4790 : Loss 3307.0406\n",
      "Iteration 4800 : Loss 3305.9725\n",
      "Iteration 4810 : Loss 3304.9083\n",
      "Iteration 4820 : Loss 3303.8477\n",
      "Iteration 4830 : Loss 3302.7909\n",
      "Iteration 4840 : Loss 3301.7378\n",
      "Iteration 4850 : Loss 3300.6884\n",
      "Iteration 4860 : Loss 3299.6427\n",
      "Iteration 4870 : Loss 3298.6006\n",
      "Iteration 4880 : Loss 3297.5621\n",
      "Iteration 4890 : Loss 3296.5272\n",
      "Iteration 4900 : Loss 3295.4960\n",
      "Iteration 4910 : Loss 3294.4683\n",
      "Iteration 4920 : Loss 3293.4441\n",
      "Iteration 4930 : Loss 3292.4235\n",
      "Iteration 4940 : Loss 3291.4065\n",
      "Iteration 4950 : Loss 3290.3929\n",
      "Iteration 4960 : Loss 3289.3829\n",
      "Iteration 4970 : Loss 3288.3763\n",
      "Iteration 4980 : Loss 3287.3731\n",
      "Iteration 4990 : Loss 3286.3734\n",
      "Iteration 5000 : Loss 3285.3772\n",
      "Iteration 5010 : Loss 3284.3843\n",
      "Iteration 5020 : Loss 3283.3948\n",
      "Iteration 5030 : Loss 3282.4087\n",
      "Iteration 5040 : Loss 3281.4260\n",
      "Iteration 5050 : Loss 3280.4466\n",
      "Iteration 5060 : Loss 3279.4705\n",
      "Iteration 5070 : Loss 3278.4977\n",
      "Iteration 5080 : Loss 3277.5283\n",
      "Iteration 5090 : Loss 3276.5621\n",
      "Iteration 5100 : Loss 3275.5991\n",
      "Iteration 5110 : Loss 3274.6395\n",
      "Iteration 5120 : Loss 3273.6830\n",
      "Iteration 5130 : Loss 3272.7298\n",
      "Iteration 5140 : Loss 3271.7798\n",
      "Iteration 5150 : Loss 3270.8329\n",
      "Iteration 5160 : Loss 3269.8893\n",
      "Iteration 5170 : Loss 3268.9487\n",
      "Iteration 5180 : Loss 3268.0114\n",
      "Iteration 5190 : Loss 3267.0772\n",
      "Iteration 5200 : Loss 3266.1460\n",
      "Iteration 5210 : Loss 3265.2180\n",
      "Iteration 5220 : Loss 3264.2931\n",
      "Iteration 5230 : Loss 3263.3712\n",
      "Iteration 5240 : Loss 3262.4524\n",
      "Iteration 5250 : Loss 3261.5367\n",
      "Iteration 5260 : Loss 3260.6240\n",
      "Iteration 5270 : Loss 3259.7143\n",
      "Iteration 5280 : Loss 3258.8076\n",
      "Iteration 5290 : Loss 3257.9038\n",
      "Iteration 5300 : Loss 3257.0031\n",
      "Iteration 5310 : Loss 3256.1053\n",
      "Iteration 5320 : Loss 3255.2105\n",
      "Iteration 5330 : Loss 3254.3186\n",
      "Iteration 5340 : Loss 3253.4297\n",
      "Iteration 5350 : Loss 3252.5436\n",
      "Iteration 5360 : Loss 3251.6605\n",
      "Iteration 5370 : Loss 3250.7802\n",
      "Iteration 5380 : Loss 3249.9028\n",
      "Iteration 5390 : Loss 3249.0283\n",
      "Iteration 5400 : Loss 3248.1566\n",
      "Iteration 5410 : Loss 3247.2877\n",
      "Iteration 5420 : Loss 3246.4217\n",
      "Iteration 5430 : Loss 3245.5585\n",
      "Iteration 5440 : Loss 3244.6981\n",
      "Iteration 5450 : Loss 3243.8404\n",
      "Iteration 5460 : Loss 3242.9856\n",
      "Iteration 5470 : Loss 3242.1335\n",
      "Iteration 5480 : Loss 3241.2841\n",
      "Iteration 5490 : Loss 3240.4375\n",
      "Iteration 5500 : Loss 3239.5936\n",
      "Iteration 5510 : Loss 3238.7524\n",
      "Iteration 5520 : Loss 3237.9140\n",
      "Iteration 5530 : Loss 3237.0782\n",
      "Iteration 5540 : Loss 3236.2451\n",
      "Iteration 5550 : Loss 3235.4146\n",
      "Iteration 5560 : Loss 3234.5869\n",
      "Iteration 5570 : Loss 3233.7617\n",
      "Iteration 5580 : Loss 3232.9392\n",
      "Iteration 5590 : Loss 3232.1193\n",
      "Iteration 5600 : Loss 3231.3021\n",
      "Iteration 5610 : Loss 3230.4874\n",
      "Iteration 5620 : Loss 3229.6754\n",
      "Iteration 5630 : Loss 3228.8659\n",
      "Iteration 5640 : Loss 3228.0589\n",
      "Iteration 5650 : Loss 3227.2546\n",
      "Iteration 5660 : Loss 3226.4528\n",
      "Iteration 5670 : Loss 3225.6535\n",
      "Iteration 5680 : Loss 3224.8567\n",
      "Iteration 5690 : Loss 3224.0625\n",
      "Iteration 5700 : Loss 3223.2707\n",
      "Iteration 5710 : Loss 3222.4815\n",
      "Iteration 5720 : Loss 3221.6948\n",
      "Iteration 5730 : Loss 3220.9105\n",
      "Iteration 5740 : Loss 3220.1287\n",
      "Iteration 5750 : Loss 3219.3493\n",
      "Iteration 5760 : Loss 3218.5724\n",
      "Iteration 5770 : Loss 3217.7979\n",
      "Iteration 5780 : Loss 3217.0259\n",
      "Iteration 5790 : Loss 3216.2562\n",
      "Iteration 5800 : Loss 3215.4890\n",
      "Iteration 5810 : Loss 3214.7241\n",
      "Iteration 5820 : Loss 3213.9617\n",
      "Iteration 5830 : Loss 3213.2016\n",
      "Iteration 5840 : Loss 3212.4439\n",
      "Iteration 5850 : Loss 3211.6885\n",
      "Iteration 5860 : Loss 3210.9355\n",
      "Iteration 5870 : Loss 3210.1849\n",
      "Iteration 5880 : Loss 3209.4365\n",
      "Iteration 5890 : Loss 3208.6905\n",
      "Iteration 5900 : Loss 3207.9468\n",
      "Iteration 5910 : Loss 3207.2054\n",
      "Iteration 5920 : Loss 3206.4663\n",
      "Iteration 5930 : Loss 3205.7294\n",
      "Iteration 5940 : Loss 3204.9949\n",
      "Iteration 5950 : Loss 3204.2626\n",
      "Iteration 5960 : Loss 3203.5325\n",
      "Iteration 5970 : Loss 3202.8047\n",
      "Iteration 5980 : Loss 3202.0792\n",
      "Iteration 5990 : Loss 3201.3559\n",
      "Iteration 6000 : Loss 3200.6348\n",
      "Iteration 6010 : Loss 3199.9159\n",
      "Iteration 6020 : Loss 3199.1992\n",
      "Iteration 6030 : Loss 3198.4847\n",
      "Iteration 6040 : Loss 3197.7724\n",
      "Iteration 6050 : Loss 3197.0623\n",
      "Iteration 6060 : Loss 3196.3543\n",
      "Iteration 6070 : Loss 3195.6485\n",
      "Iteration 6080 : Loss 3194.9449\n",
      "Iteration 6090 : Loss 3194.2434\n",
      "Iteration 6100 : Loss 3193.5441\n",
      "Iteration 6110 : Loss 3192.8468\n"
     ]
    },
    {
     "name": "stdout",
     "output_type": "stream",
     "text": [
      "Iteration 6120 : Loss 3192.1517\n",
      "Iteration 6130 : Loss 3191.4587\n",
      "Iteration 6140 : Loss 3190.7678\n",
      "Iteration 6150 : Loss 3190.0791\n",
      "Iteration 6160 : Loss 3189.3924\n",
      "Iteration 6170 : Loss 3188.7077\n",
      "Iteration 6180 : Loss 3188.0252\n",
      "Iteration 6190 : Loss 3187.3447\n",
      "Iteration 6200 : Loss 3186.6663\n",
      "Iteration 6210 : Loss 3185.9899\n",
      "Iteration 6220 : Loss 3185.3156\n",
      "Iteration 6230 : Loss 3184.6433\n",
      "Iteration 6240 : Loss 3183.9730\n",
      "Iteration 6250 : Loss 3183.3047\n",
      "Iteration 6260 : Loss 3182.6385\n",
      "Iteration 6270 : Loss 3181.9743\n",
      "Iteration 6280 : Loss 3181.3120\n",
      "Iteration 6290 : Loss 3180.6518\n",
      "Iteration 6300 : Loss 3179.9935\n",
      "Iteration 6310 : Loss 3179.3372\n",
      "Iteration 6320 : Loss 3178.6829\n",
      "Iteration 6330 : Loss 3178.0305\n",
      "Iteration 6340 : Loss 3177.3801\n",
      "Iteration 6350 : Loss 3176.7316\n",
      "Iteration 6360 : Loss 3176.0851\n",
      "Iteration 6370 : Loss 3175.4405\n",
      "Iteration 6380 : Loss 3174.7978\n",
      "Iteration 6390 : Loss 3174.1570\n",
      "Iteration 6400 : Loss 3173.5182\n",
      "Iteration 6410 : Loss 3172.8812\n",
      "Iteration 6420 : Loss 3172.2462\n",
      "Iteration 6430 : Loss 3171.6130\n",
      "Iteration 6440 : Loss 3170.9817\n",
      "Iteration 6450 : Loss 3170.3523\n",
      "Iteration 6460 : Loss 3169.7248\n",
      "Iteration 6470 : Loss 3169.0991\n",
      "Iteration 6480 : Loss 3168.4753\n",
      "Iteration 6490 : Loss 3167.8533\n",
      "Iteration 6500 : Loss 3167.2332\n",
      "Iteration 6510 : Loss 3166.6149\n",
      "Iteration 6520 : Loss 3165.9985\n",
      "Iteration 6530 : Loss 3165.3838\n",
      "Iteration 6540 : Loss 3164.7710\n",
      "Iteration 6550 : Loss 3164.1600\n",
      "Iteration 6560 : Loss 3163.5508\n",
      "Iteration 6570 : Loss 3162.9434\n",
      "Iteration 6580 : Loss 3162.3377\n",
      "Iteration 6590 : Loss 3161.7339\n",
      "Iteration 6600 : Loss 3161.1318\n",
      "Iteration 6610 : Loss 3160.5315\n",
      "Iteration 6620 : Loss 3159.9330\n",
      "Iteration 6630 : Loss 3159.3362\n",
      "Iteration 6640 : Loss 3158.7412\n",
      "Iteration 6650 : Loss 3158.1480\n",
      "Iteration 6660 : Loss 3157.5564\n",
      "Iteration 6670 : Loss 3156.9666\n",
      "Iteration 6680 : Loss 3156.3786\n",
      "Iteration 6690 : Loss 3155.7922\n",
      "Iteration 6700 : Loss 3155.2076\n",
      "Iteration 6710 : Loss 3154.6247\n",
      "Iteration 6720 : Loss 3154.0435\n",
      "Iteration 6730 : Loss 3153.4639\n",
      "Iteration 6740 : Loss 3152.8861\n",
      "Iteration 6750 : Loss 3152.3100\n",
      "Iteration 6760 : Loss 3151.7355\n",
      "Iteration 6770 : Loss 3151.1627\n",
      "Iteration 6780 : Loss 3150.5916\n",
      "Iteration 6790 : Loss 3150.0222\n",
      "Iteration 6800 : Loss 3149.4544\n",
      "Iteration 6810 : Loss 3148.8882\n",
      "Iteration 6820 : Loss 3148.3237\n",
      "Iteration 6830 : Loss 3147.7609\n",
      "Iteration 6840 : Loss 3147.1996\n",
      "Iteration 6850 : Loss 3146.6400\n",
      "Iteration 6860 : Loss 3146.0821\n",
      "Iteration 6870 : Loss 3145.5257\n",
      "Iteration 6880 : Loss 3144.9710\n",
      "Iteration 6890 : Loss 3144.4178\n",
      "Iteration 6900 : Loss 3143.8663\n",
      "Iteration 6910 : Loss 3143.3164\n",
      "Iteration 6920 : Loss 3142.7680\n",
      "Iteration 6930 : Loss 3142.2212\n",
      "Iteration 6940 : Loss 3141.6761\n",
      "Iteration 6950 : Loss 3141.1325\n",
      "Iteration 6960 : Loss 3140.5904\n",
      "Iteration 6970 : Loss 3140.0499\n",
      "Iteration 6980 : Loss 3139.5110\n",
      "Iteration 6990 : Loss 3138.9737\n",
      "Iteration 7000 : Loss 3138.4378\n",
      "Iteration 7010 : Loss 3137.9036\n",
      "Iteration 7020 : Loss 3137.3708\n",
      "Iteration 7030 : Loss 3136.8396\n",
      "Iteration 7040 : Loss 3136.3099\n",
      "Iteration 7050 : Loss 3135.7818\n",
      "Iteration 7060 : Loss 3135.2551\n",
      "Iteration 7070 : Loss 3134.7300\n",
      "Iteration 7080 : Loss 3134.2064\n",
      "Iteration 7090 : Loss 3133.6843\n",
      "Iteration 7100 : Loss 3133.1636\n",
      "Iteration 7110 : Loss 3132.6445\n",
      "Iteration 7120 : Loss 3132.1268\n",
      "Iteration 7130 : Loss 3131.6107\n",
      "Iteration 7140 : Loss 3131.0960\n",
      "Iteration 7150 : Loss 3130.5828\n",
      "Iteration 7160 : Loss 3130.0710\n",
      "Iteration 7170 : Loss 3129.5607\n",
      "Iteration 7180 : Loss 3129.0519\n",
      "Iteration 7190 : Loss 3128.5445\n",
      "Iteration 7200 : Loss 3128.0386\n",
      "Iteration 7210 : Loss 3127.5341\n",
      "Iteration 7220 : Loss 3127.0311\n",
      "Iteration 7230 : Loss 3126.5294\n",
      "Iteration 7240 : Loss 3126.0292\n",
      "Iteration 7250 : Loss 3125.5305\n",
      "Iteration 7260 : Loss 3125.0331\n",
      "Iteration 7270 : Loss 3124.5372\n",
      "Iteration 7280 : Loss 3124.0427\n",
      "Iteration 7290 : Loss 3123.5496\n",
      "Iteration 7300 : Loss 3123.0579\n",
      "Iteration 7310 : Loss 3122.5675\n",
      "Iteration 7320 : Loss 3122.0786\n",
      "Iteration 7330 : Loss 3121.5911\n",
      "Iteration 7340 : Loss 3121.1049\n",
      "Iteration 7350 : Loss 3120.6201\n",
      "Iteration 7360 : Loss 3120.1367\n",
      "Iteration 7370 : Loss 3119.6547\n",
      "Iteration 7380 : Loss 3119.1740\n",
      "Iteration 7390 : Loss 3118.6947\n",
      "Iteration 7400 : Loss 3118.2167\n",
      "Iteration 7410 : Loss 3117.7401\n",
      "Iteration 7420 : Loss 3117.2649\n",
      "Iteration 7430 : Loss 3116.7910\n",
      "Iteration 7440 : Loss 3116.3184\n",
      "Iteration 7450 : Loss 3115.8471\n",
      "Iteration 7460 : Loss 3115.3772\n",
      "Iteration 7470 : Loss 3114.9086\n",
      "Iteration 7480 : Loss 3114.4414\n",
      "Iteration 7490 : Loss 3113.9754\n",
      "Iteration 7500 : Loss 3113.5108\n",
      "Iteration 7510 : Loss 3113.0474\n",
      "Iteration 7520 : Loss 3112.5854\n",
      "Iteration 7530 : Loss 3112.1247\n",
      "Iteration 7540 : Loss 3111.6653\n",
      "Iteration 7550 : Loss 3111.2071\n",
      "Iteration 7560 : Loss 3110.7503\n",
      "Iteration 7570 : Loss 3110.2947\n",
      "Iteration 7580 : Loss 3109.8404\n",
      "Iteration 7590 : Loss 3109.3874\n",
      "Iteration 7600 : Loss 3108.9357\n",
      "Iteration 7610 : Loss 3108.4852\n",
      "Iteration 7620 : Loss 3108.0360\n",
      "Iteration 7630 : Loss 3107.5880\n",
      "Iteration 7640 : Loss 3107.1413\n",
      "Iteration 7650 : Loss 3106.6959\n",
      "Iteration 7660 : Loss 3106.2517\n",
      "Iteration 7670 : Loss 3105.8087\n",
      "Iteration 7680 : Loss 3105.3670\n",
      "Iteration 7690 : Loss 3104.9265\n",
      "Iteration 7700 : Loss 3104.4873\n",
      "Iteration 7710 : Loss 3104.0493\n",
      "Iteration 7720 : Loss 3103.6125\n",
      "Iteration 7730 : Loss 3103.1769\n",
      "Iteration 7740 : Loss 3102.7425\n",
      "Iteration 7750 : Loss 3102.3094\n",
      "Iteration 7760 : Loss 3101.8774\n",
      "Iteration 7770 : Loss 3101.4467\n",
      "Iteration 7780 : Loss 3101.0172\n",
      "Iteration 7790 : Loss 3100.5888\n",
      "Iteration 7800 : Loss 3100.1617\n",
      "Iteration 7810 : Loss 3099.7357\n",
      "Iteration 7820 : Loss 3099.3109\n",
      "Iteration 7830 : Loss 3098.8873\n",
      "Iteration 7840 : Loss 3098.4649\n",
      "Iteration 7850 : Loss 3098.0437\n",
      "Iteration 7860 : Loss 3097.6236\n",
      "Iteration 7870 : Loss 3097.2047\n",
      "Iteration 7880 : Loss 3096.7870\n",
      "Iteration 7890 : Loss 3096.3704\n",
      "Iteration 7900 : Loss 3095.9550\n",
      "Iteration 7910 : Loss 3095.5407\n",
      "Iteration 7920 : Loss 3095.1276\n",
      "Iteration 7930 : Loss 3094.7157\n",
      "Iteration 7940 : Loss 3094.3048\n",
      "Iteration 7950 : Loss 3093.8951\n",
      "Iteration 7960 : Loss 3093.4866\n",
      "Iteration 7970 : Loss 3093.0792\n",
      "Iteration 7980 : Loss 3092.6729\n",
      "Iteration 7990 : Loss 3092.2677\n",
      "Iteration 8000 : Loss 3091.8636\n",
      "Iteration 8010 : Loss 3091.4607\n",
      "Iteration 8020 : Loss 3091.0589\n",
      "Iteration 8030 : Loss 3090.6582\n",
      "Iteration 8040 : Loss 3090.2586\n",
      "Iteration 8050 : Loss 3089.8601\n",
      "Iteration 8060 : Loss 3089.4627\n",
      "Iteration 8070 : Loss 3089.0664\n",
      "Iteration 8080 : Loss 3088.6712\n",
      "Iteration 8090 : Loss 3088.2770\n",
      "Iteration 8100 : Loss 3087.8840\n",
      "Iteration 8110 : Loss 3087.4921\n",
      "Iteration 8120 : Loss 3087.1012\n",
      "Iteration 8130 : Loss 3086.7114\n",
      "Iteration 8140 : Loss 3086.3227\n",
      "Iteration 8150 : Loss 3085.9351\n",
      "Iteration 8160 : Loss 3085.5485\n",
      "Iteration 8170 : Loss 3085.1630\n",
      "Iteration 8180 : Loss 3084.7785\n",
      "Iteration 8190 : Loss 3084.3951\n",
      "Iteration 8200 : Loss 3084.0128\n",
      "Iteration 8210 : Loss 3083.6315\n",
      "Iteration 8220 : Loss 3083.2512\n",
      "Iteration 8230 : Loss 3082.8720\n",
      "Iteration 8240 : Loss 3082.4939\n",
      "Iteration 8250 : Loss 3082.1167\n",
      "Iteration 8260 : Loss 3081.7407\n",
      "Iteration 8270 : Loss 3081.3656\n",
      "Iteration 8280 : Loss 3080.9916\n",
      "Iteration 8290 : Loss 3080.6186\n",
      "Iteration 8300 : Loss 3080.2466\n",
      "Iteration 8310 : Loss 3079.8756\n",
      "Iteration 8320 : Loss 3079.5057\n",
      "Iteration 8330 : Loss 3079.1367\n",
      "Iteration 8340 : Loss 3078.7688\n",
      "Iteration 8350 : Loss 3078.4019\n",
      "Iteration 8360 : Loss 3078.0360\n",
      "Iteration 8370 : Loss 3077.6711\n",
      "Iteration 8380 : Loss 3077.3072\n",
      "Iteration 8390 : Loss 3076.9443\n",
      "Iteration 8400 : Loss 3076.5823\n",
      "Iteration 8410 : Loss 3076.2214\n",
      "Iteration 8420 : Loss 3075.8614\n",
      "Iteration 8430 : Loss 3075.5025\n",
      "Iteration 8440 : Loss 3075.1445\n",
      "Iteration 8450 : Loss 3074.7875\n",
      "Iteration 8460 : Loss 3074.4314\n",
      "Iteration 8470 : Loss 3074.0764\n",
      "Iteration 8480 : Loss 3073.7223\n",
      "Iteration 8490 : Loss 3073.3691\n",
      "Iteration 8500 : Loss 3073.0169\n",
      "Iteration 8510 : Loss 3072.6657\n",
      "Iteration 8520 : Loss 3072.3155\n",
      "Iteration 8530 : Loss 3071.9662\n",
      "Iteration 8540 : Loss 3071.6178\n",
      "Iteration 8550 : Loss 3071.2704\n",
      "Iteration 8560 : Loss 3070.9239\n",
      "Iteration 8570 : Loss 3070.5784\n",
      "Iteration 8580 : Loss 3070.2338\n",
      "Iteration 8590 : Loss 3069.8902\n",
      "Iteration 8600 : Loss 3069.5475\n",
      "Iteration 8610 : Loss 3069.2057\n",
      "Iteration 8620 : Loss 3068.8649\n",
      "Iteration 8630 : Loss 3068.5249\n",
      "Iteration 8640 : Loss 3068.1859\n",
      "Iteration 8650 : Loss 3067.8479\n",
      "Iteration 8660 : Loss 3067.5107\n",
      "Iteration 8670 : Loss 3067.1744\n",
      "Iteration 8680 : Loss 3066.8391\n",
      "Iteration 8690 : Loss 3066.5047\n",
      "Iteration 8700 : Loss 3066.1711\n",
      "Iteration 8710 : Loss 3065.8385\n",
      "Iteration 8720 : Loss 3065.5068\n",
      "Iteration 8730 : Loss 3065.1760\n",
      "Iteration 8740 : Loss 3064.8460\n",
      "Iteration 8750 : Loss 3064.5170\n",
      "Iteration 8760 : Loss 3064.1889\n",
      "Iteration 8770 : Loss 3063.8616\n",
      "Iteration 8780 : Loss 3063.5352\n",
      "Iteration 8790 : Loss 3063.2097\n",
      "Iteration 8800 : Loss 3062.8851\n",
      "Iteration 8810 : Loss 3062.5614\n",
      "Iteration 8820 : Loss 3062.2385\n",
      "Iteration 8830 : Loss 3061.9165\n",
      "Iteration 8840 : Loss 3061.5954\n",
      "Iteration 8850 : Loss 3061.2752\n",
      "Iteration 8860 : Loss 3060.9558\n",
      "Iteration 8870 : Loss 3060.6372\n",
      "Iteration 8880 : Loss 3060.3196\n",
      "Iteration 8890 : Loss 3060.0028\n",
      "Iteration 8900 : Loss 3059.6868\n",
      "Iteration 8910 : Loss 3059.3717\n",
      "Iteration 8920 : Loss 3059.0574\n",
      "Iteration 8930 : Loss 3058.7440\n",
      "Iteration 8940 : Loss 3058.4314\n",
      "Iteration 8950 : Loss 3058.1197\n",
      "Iteration 8960 : Loss 3057.8088\n",
      "Iteration 8970 : Loss 3057.4988\n",
      "Iteration 8980 : Loss 3057.1896\n",
      "Iteration 8990 : Loss 3056.8812\n",
      "Iteration 9000 : Loss 3056.5736\n",
      "Iteration 9010 : Loss 3056.2669\n",
      "Iteration 9020 : Loss 3055.9610\n",
      "Iteration 9030 : Loss 3055.6559\n",
      "Iteration 9040 : Loss 3055.3516\n",
      "Iteration 9050 : Loss 3055.0482\n",
      "Iteration 9060 : Loss 3054.7455\n",
      "Iteration 9070 : Loss 3054.4437\n",
      "Iteration 9080 : Loss 3054.1427\n",
      "Iteration 9090 : Loss 3053.8425\n",
      "Iteration 9100 : Loss 3053.5431\n",
      "Iteration 9110 : Loss 3053.2445\n",
      "Iteration 9120 : Loss 3052.9467\n",
      "Iteration 9130 : Loss 3052.6497\n",
      "Iteration 9140 : Loss 3052.3535\n",
      "Iteration 9150 : Loss 3052.0580\n",
      "Iteration 9160 : Loss 3051.7634\n",
      "Iteration 9170 : Loss 3051.4696\n",
      "Iteration 9180 : Loss 3051.1765\n",
      "Iteration 9190 : Loss 3050.8843\n",
      "Iteration 9200 : Loss 3050.5928\n",
      "Iteration 9210 : Loss 3050.3021\n",
      "Iteration 9220 : Loss 3050.0122\n",
      "Iteration 9230 : Loss 3049.7230\n",
      "Iteration 9240 : Loss 3049.4346\n",
      "Iteration 9250 : Loss 3049.1470\n",
      "Iteration 9260 : Loss 3048.8602\n",
      "Iteration 9270 : Loss 3048.5741\n",
      "Iteration 9280 : Loss 3048.2888\n"
     ]
    },
    {
     "name": "stdout",
     "output_type": "stream",
     "text": [
      "Iteration 9290 : Loss 3048.0042\n",
      "Iteration 9300 : Loss 3047.7205\n",
      "Iteration 9310 : Loss 3047.4374\n",
      "Iteration 9320 : Loss 3047.1551\n",
      "Iteration 9330 : Loss 3046.8736\n",
      "Iteration 9340 : Loss 3046.5928\n",
      "Iteration 9350 : Loss 3046.3128\n",
      "Iteration 9360 : Loss 3046.0335\n",
      "Iteration 9370 : Loss 3045.7550\n",
      "Iteration 9380 : Loss 3045.4772\n",
      "Iteration 9390 : Loss 3045.2001\n",
      "Iteration 9400 : Loss 3044.9238\n",
      "Iteration 9410 : Loss 3044.6482\n",
      "Iteration 9420 : Loss 3044.3734\n",
      "Iteration 9430 : Loss 3044.0993\n",
      "Iteration 9440 : Loss 3043.8259\n",
      "Iteration 9450 : Loss 3043.5532\n",
      "Iteration 9460 : Loss 3043.2813\n",
      "Iteration 9470 : Loss 3043.0100\n",
      "Iteration 9480 : Loss 3042.7395\n",
      "Iteration 9490 : Loss 3042.4698\n",
      "Iteration 9500 : Loss 3042.2007\n",
      "Iteration 9510 : Loss 3041.9323\n",
      "Iteration 9520 : Loss 3041.6647\n",
      "Iteration 9530 : Loss 3041.3978\n",
      "Iteration 9540 : Loss 3041.1316\n",
      "Iteration 9550 : Loss 3040.8660\n",
      "Iteration 9560 : Loss 3040.6012\n",
      "Iteration 9570 : Loss 3040.3371\n",
      "Iteration 9580 : Loss 3040.0737\n",
      "Iteration 9590 : Loss 3039.8110\n",
      "Iteration 9600 : Loss 3039.5490\n",
      "Iteration 9610 : Loss 3039.2877\n",
      "Iteration 9620 : Loss 3039.0271\n",
      "Iteration 9630 : Loss 3038.7671\n",
      "Iteration 9640 : Loss 3038.5079\n",
      "Iteration 9650 : Loss 3038.2493\n",
      "Iteration 9660 : Loss 3037.9914\n",
      "Iteration 9670 : Loss 3037.7342\n",
      "Iteration 9680 : Loss 3037.4777\n",
      "Iteration 9690 : Loss 3037.2219\n",
      "Iteration 9700 : Loss 3036.9667\n",
      "Iteration 9710 : Loss 3036.7122\n",
      "Iteration 9720 : Loss 3036.4584\n",
      "Iteration 9730 : Loss 3036.2052\n",
      "Iteration 9740 : Loss 3035.9528\n",
      "Iteration 9750 : Loss 3035.7009\n",
      "Iteration 9760 : Loss 3035.4498\n",
      "Iteration 9770 : Loss 3035.1993\n",
      "Iteration 9780 : Loss 3034.9495\n",
      "Iteration 9790 : Loss 3034.7003\n",
      "Iteration 9800 : Loss 3034.4518\n",
      "Iteration 9810 : Loss 3034.2039\n",
      "Iteration 9820 : Loss 3033.9567\n",
      "Iteration 9830 : Loss 3033.7102\n",
      "Iteration 9840 : Loss 3033.4643\n",
      "Iteration 9850 : Loss 3033.2190\n",
      "Iteration 9860 : Loss 3032.9744\n",
      "Iteration 9870 : Loss 3032.7305\n",
      "Iteration 9880 : Loss 3032.4871\n",
      "Iteration 9890 : Loss 3032.2445\n",
      "Iteration 9900 : Loss 3032.0024\n",
      "Iteration 9910 : Loss 3031.7610\n",
      "Iteration 9920 : Loss 3031.5202\n",
      "Iteration 9930 : Loss 3031.2801\n",
      "Iteration 9940 : Loss 3031.0406\n",
      "Iteration 9950 : Loss 3030.8017\n",
      "Iteration 9960 : Loss 3030.5634\n",
      "Iteration 9970 : Loss 3030.3258\n",
      "Iteration 9980 : Loss 3030.0888\n",
      "Iteration 9990 : Loss 3029.8524\n",
      "Iteration 10000 : Loss 3029.6167\n"
     ]
    }
   ],
   "source": [
    "losses = [] # 손실함수값이 단계별로 얼마 정도인지를 저장할 리스트\n",
    "\n",
    "for i in range(1, 10001):\n",
    "    dW, db = gradient(X_train, W, b, y_train) # 모델이 prediction을 예측하고, 손실함수값을 계산함과 동시에 기울기 계산\n",
    "    W -= LEARNING_RATE * dW #  w = w - η * dw 로 업데이트\n",
    "    b -= LEARNING_RATE * db # b = b - η * db 로 업데이트 \n",
    "    L = loss(X_train, W, b, y_train) # 현재의 loss 값 계산\n",
    "    losses.append(L) # loss 값 기록\n",
    "    if i % 10 == 0:\n",
    "        print('Iteration %d : Loss %0.4f' % (i, L))"
   ]
  },
  {
   "cell_type": "code",
   "execution_count": 16,
   "id": "1d12a2ee",
   "metadata": {},
   "outputs": [
    {
     "data": {
      "image/png": "[encoded data removed]",
      "text/plain": [
       "<Figure size 432x288 with 1 Axes>"
      ]
     },
     "metadata": {
      "needs_background": "light"
     },
     "output_type": "display_data"
    }
   ],
   "source": [
    "# 시각화하기\n",
    "plt.plot(losses)\n",
    "plt.show()"
   ]
  },
  {
   "cell_type": "code",
   "execution_count": 17,
   "id": "5e40f2b4",
   "metadata": {},
   "outputs": [
    {
     "data": {
      "text/plain": [
       "(array([  20.33452668, -162.9470442 ,  422.25343117,  282.24731892,\n",
       "         -55.18041086,  -91.04227197, -217.77944116,  141.2543414 ,\n",
       "         353.38898164,  125.44984598]),\n",
       " 154.39701324661806)"
      ]
     },
     "execution_count": 17,
     "metadata": {},
     "output_type": "execute_result"
    }
   ],
   "source": [
    "# W, b값 확인하기\n",
    "W, b"
   ]
  },
  {
   "cell_type": "markdown",
   "id": "f83c185e",
   "metadata": {},
   "source": [
    "### **(10) test 데이터에 대한 성능 확인하기**"
   ]
  },
  {
   "cell_type": "markdown",
   "id": "0128465f",
   "metadata": {},
   "source": [
    "* test 데이터에 대한 성능을 확인해주세요."
   ]
  },
  {
   "cell_type": "code",
   "execution_count": 18,
   "id": "c8c27947",
   "metadata": {},
   "outputs": [
    {
     "data": {
      "text/plain": [
       "2680.137026151103"
      ]
     },
     "execution_count": 18,
     "metadata": {},
     "output_type": "execute_result"
    }
   ],
   "source": [
    "# test 데이터로 성능 확인하기\n",
    "prediction = model(X_test, W, b)\n",
    "mse = loss(X_test, W, b, y_test)\n",
    "mse"
   ]
  },
  {
   "cell_type": "markdown",
   "id": "9a53084b",
   "metadata": {},
   "source": [
    "### **(11) 정답 데이터와 예측한 데이터 시각화하기**"
   ]
  },
  {
   "cell_type": "markdown",
   "id": "409ac113",
   "metadata": {},
   "source": [
    "* x축에는 X 데이터의 첫 번째 컬럼을, y축에는 정답인 target 데이터를 넣어서 모델이 예측한 데이터를 시각화해 주세요."
   ]
  },
  {
   "cell_type": "code",
   "execution_count": 19,
   "id": "6247b167",
   "metadata": {},
   "outputs": [
    {
     "data": {
      "image/png": "[encoded data removed]",
      "text/plain": [
       "<Figure size 432x288 with 1 Axes>"
      ]
     },
     "metadata": {
      "needs_background": "light"
     },
     "output_type": "display_data"
    }
   ],
   "source": [
    "# 데이터 시각화하기\n",
    "plt.scatter(X_test[:, 0], y_test, color='royalblue', label='actual') \n",
    "plt.scatter(X_test[:, 0], prediction, color='crimson', label='prediction')\n",
    "plt.legend()\n",
    "plt.show()"
   ]
  },
  {
   "cell_type": "markdown",
   "id": "6452ef7b",
   "metadata": {},
   "source": [
    "LEARNING_RATE와 Iteration을 더 높은 값으로 지정해주고 random_state 값을 33으로 변경하여 **MSE 손실함수값 2680**을 달성하였다."
   ]
  },
  {
   "cell_type": "markdown",
   "id": "42974c0b",
   "metadata": {},
   "source": [
    "---"
   ]
  },
  {
   "cell_type": "markdown",
   "id": "89deacc9",
   "metadata": {},
   "source": [
    "## **1-13. 프로젝트 2 : 날씨 좋은 월요일 오후 세 시, 자전거 타는 사람은 몇 명?**"
   ]
  },
  {
   "cell_type": "markdown",
   "id": "cc39eba8",
   "metadata": {},
   "source": [
    "### **(1) 데이터 가져오기**"
   ]
  },
  {
   "cell_type": "markdown",
   "id": "515fe505",
   "metadata": {},
   "source": [
    "* 터미널에서 ~/data/data/bike-sharing-demand 경로에 train.csv 데이터를 train 변수로 가져 옵니다."
   ]
  },
  {
   "cell_type": "code",
   "execution_count": 20,
   "id": "d1a9744c",
   "metadata": {},
   "outputs": [
    {
     "data": {
      "text/html": [
       "<div>\n",
       "<style scoped>\n",
       "    .dataframe tbody tr th:only-of-type {\n",
       "        vertical-align: middle;\n",
       "    }\n",
       "\n",
       "    .dataframe tbody tr th {\n",
       "        vertical-align: top;\n",
       "    }\n",
       "\n",
       "    .dataframe thead th {\n",
       "        text-align: right;\n",
       "    }\n",
       "</style>\n",
       "<table border=\"1\" class=\"dataframe\">\n",
       "  <thead>\n",
       "    <tr style=\"text-align: right;\">\n",
       "      <th></th>\n",
       "      <th>datetime</th>\n",
       "      <th>season</th>\n",
       "      <th>holiday</th>\n",
       "      <th>workingday</th>\n",
       "      <th>weather</th>\n",
       "      <th>temp</th>\n",
       "      <th>atemp</th>\n",
       "      <th>humidity</th>\n",
       "      <th>windspeed</th>\n",
       "      <th>casual</th>\n",
       "      <th>registered</th>\n",
       "      <th>count</th>\n",
       "    </tr>\n",
       "  </thead>\n",
       "  <tbody>\n",
       "    <tr>\n",
       "      <th>0</th>\n",
       "      <td>2011-01-01 00:00:00</td>\n",
       "      <td>1</td>\n",
       "      <td>0</td>\n",
       "      <td>0</td>\n",
       "      <td>1</td>\n",
       "      <td>9.84</td>\n",
       "      <td>14.395</td>\n",
       "      <td>81</td>\n",
       "      <td>0.0</td>\n",
       "      <td>3</td>\n",
       "      <td>13</td>\n",
       "      <td>16</td>\n",
       "    </tr>\n",
       "    <tr>\n",
       "      <th>1</th>\n",
       "      <td>2011-01-01 01:00:00</td>\n",
       "      <td>1</td>\n",
       "      <td>0</td>\n",
       "      <td>0</td>\n",
       "      <td>1</td>\n",
       "      <td>9.02</td>\n",
       "      <td>13.635</td>\n",
       "      <td>80</td>\n",
       "      <td>0.0</td>\n",
       "      <td>8</td>\n",
       "      <td>32</td>\n",
       "      <td>40</td>\n",
       "    </tr>\n",
       "    <tr>\n",
       "      <th>2</th>\n",
       "      <td>2011-01-01 02:00:00</td>\n",
       "      <td>1</td>\n",
       "      <td>0</td>\n",
       "      <td>0</td>\n",
       "      <td>1</td>\n",
       "      <td>9.02</td>\n",
       "      <td>13.635</td>\n",
       "      <td>80</td>\n",
       "      <td>0.0</td>\n",
       "      <td>5</td>\n",
       "      <td>27</td>\n",
       "      <td>32</td>\n",
       "    </tr>\n",
       "    <tr>\n",
       "      <th>3</th>\n",
       "      <td>2011-01-01 03:00:00</td>\n",
       "      <td>1</td>\n",
       "      <td>0</td>\n",
       "      <td>0</td>\n",
       "      <td>1</td>\n",
       "      <td>9.84</td>\n",
       "      <td>14.395</td>\n",
       "      <td>75</td>\n",
       "      <td>0.0</td>\n",
       "      <td>3</td>\n",
       "      <td>10</td>\n",
       "      <td>13</td>\n",
       "    </tr>\n",
       "    <tr>\n",
       "      <th>4</th>\n",
       "      <td>2011-01-01 04:00:00</td>\n",
       "      <td>1</td>\n",
       "      <td>0</td>\n",
       "      <td>0</td>\n",
       "      <td>1</td>\n",
       "      <td>9.84</td>\n",
       "      <td>14.395</td>\n",
       "      <td>75</td>\n",
       "      <td>0.0</td>\n",
       "      <td>0</td>\n",
       "      <td>1</td>\n",
       "      <td>1</td>\n",
       "    </tr>\n",
       "  </tbody>\n",
       "</table>\n",
       "</div>"
      ],
      "text/plain": [
       "              datetime  season  holiday  workingday  weather  temp   atemp  \\\n",
       "0  2011-01-01 00:00:00       1        0           0        1  9.84  14.395   \n",
       "1  2011-01-01 01:00:00       1        0           0        1  9.02  13.635   \n",
       "2  2011-01-01 02:00:00       1        0           0        1  9.02  13.635   \n",
       "3  2011-01-01 03:00:00       1        0           0        1  9.84  14.395   \n",
       "4  2011-01-01 04:00:00       1        0           0        1  9.84  14.395   \n",
       "\n",
       "   humidity  windspeed  casual  registered  count  \n",
       "0        81        0.0       3          13     16  \n",
       "1        80        0.0       8          32     40  \n",
       "2        80        0.0       5          27     32  \n",
       "3        75        0.0       3          10     13  \n",
       "4        75        0.0       0           1      1  "
      ]
     },
     "execution_count": 20,
     "metadata": {},
     "output_type": "execute_result"
    }
   ],
   "source": [
    "# 데이터 불러오기\n",
    "train = pd.read_csv(\"~/data/data/bike-sharing-demand/train.csv\")\n",
    "train.head()"
   ]
  },
  {
   "cell_type": "markdown",
   "id": "a7304625",
   "metadata": {},
   "source": [
    "### **(2) datetime 컬럼을 datetime 자료형으로 변환하고 연, 월, 일, 시, 분, 초까지 6가지 컬럼 생성하기**"
   ]
  },
  {
   "cell_type": "markdown",
   "id": "f24f8b39",
   "metadata": {},
   "source": [
    "* to_datetime 활용"
   ]
  },
  {
   "cell_type": "code",
   "execution_count": 21,
   "id": "6b67070c",
   "metadata": {},
   "outputs": [],
   "source": [
    "# datetime 컬럼을 datetime 자료형으로 변환하기\n",
    "train['datetime'] = pd.to_datetime(train['datetime'])\n",
    "\n",
    "# 연, 월, 일, 시, 분, 초 컬럼 생성하기\n",
    "train['year'] = train['datetime'].dt.year\n",
    "train['month'] = train['datetime'].dt.month\n",
    "train['day'] = train['datetime'].dt.day\n",
    "train['hour'] = train['datetime'].dt.hour\n",
    "train['minute'] = train['datetime'].dt.minute\n",
    "train['second'] = train['datetime'].dt.second"
   ]
  },
  {
   "cell_type": "code",
   "execution_count": 22,
   "id": "f58d5220",
   "metadata": {
    "scrolled": false
   },
   "outputs": [
    {
     "data": {
      "text/html": [
       "<div>\n",
       "<style scoped>\n",
       "    .dataframe tbody tr th:only-of-type {\n",
       "        vertical-align: middle;\n",
       "    }\n",
       "\n",
       "    .dataframe tbody tr th {\n",
       "        vertical-align: top;\n",
       "    }\n",
       "\n",
       "    .dataframe thead th {\n",
       "        text-align: right;\n",
       "    }\n",
       "</style>\n",
       "<table border=\"1\" class=\"dataframe\">\n",
       "  <thead>\n",
       "    <tr style=\"text-align: right;\">\n",
       "      <th></th>\n",
       "      <th>datetime</th>\n",
       "      <th>season</th>\n",
       "      <th>holiday</th>\n",
       "      <th>workingday</th>\n",
       "      <th>weather</th>\n",
       "      <th>temp</th>\n",
       "      <th>atemp</th>\n",
       "      <th>humidity</th>\n",
       "      <th>windspeed</th>\n",
       "      <th>casual</th>\n",
       "      <th>registered</th>\n",
       "      <th>count</th>\n",
       "      <th>year</th>\n",
       "      <th>month</th>\n",
       "      <th>day</th>\n",
       "      <th>hour</th>\n",
       "      <th>minute</th>\n",
       "      <th>second</th>\n",
       "    </tr>\n",
       "  </thead>\n",
       "  <tbody>\n",
       "    <tr>\n",
       "      <th>0</th>\n",
       "      <td>2011-01-01 00:00:00</td>\n",
       "      <td>1</td>\n",
       "      <td>0</td>\n",
       "      <td>0</td>\n",
       "      <td>1</td>\n",
       "      <td>9.84</td>\n",
       "      <td>14.395</td>\n",
       "      <td>81</td>\n",
       "      <td>0.0</td>\n",
       "      <td>3</td>\n",
       "      <td>13</td>\n",
       "      <td>16</td>\n",
       "      <td>2011</td>\n",
       "      <td>1</td>\n",
       "      <td>1</td>\n",
       "      <td>0</td>\n",
       "      <td>0</td>\n",
       "      <td>0</td>\n",
       "    </tr>\n",
       "    <tr>\n",
       "      <th>1</th>\n",
       "      <td>2011-01-01 01:00:00</td>\n",
       "      <td>1</td>\n",
       "      <td>0</td>\n",
       "      <td>0</td>\n",
       "      <td>1</td>\n",
       "      <td>9.02</td>\n",
       "      <td>13.635</td>\n",
       "      <td>80</td>\n",
       "      <td>0.0</td>\n",
       "      <td>8</td>\n",
       "      <td>32</td>\n",
       "      <td>40</td>\n",
       "      <td>2011</td>\n",
       "      <td>1</td>\n",
       "      <td>1</td>\n",
       "      <td>1</td>\n",
       "      <td>0</td>\n",
       "      <td>0</td>\n",
       "    </tr>\n",
       "    <tr>\n",
       "      <th>2</th>\n",
       "      <td>2011-01-01 02:00:00</td>\n",
       "      <td>1</td>\n",
       "      <td>0</td>\n",
       "      <td>0</td>\n",
       "      <td>1</td>\n",
       "      <td>9.02</td>\n",
       "      <td>13.635</td>\n",
       "      <td>80</td>\n",
       "      <td>0.0</td>\n",
       "      <td>5</td>\n",
       "      <td>27</td>\n",
       "      <td>32</td>\n",
       "      <td>2011</td>\n",
       "      <td>1</td>\n",
       "      <td>1</td>\n",
       "      <td>2</td>\n",
       "      <td>0</td>\n",
       "      <td>0</td>\n",
       "    </tr>\n",
       "    <tr>\n",
       "      <th>3</th>\n",
       "      <td>2011-01-01 03:00:00</td>\n",
       "      <td>1</td>\n",
       "      <td>0</td>\n",
       "      <td>0</td>\n",
       "      <td>1</td>\n",
       "      <td>9.84</td>\n",
       "      <td>14.395</td>\n",
       "      <td>75</td>\n",
       "      <td>0.0</td>\n",
       "      <td>3</td>\n",
       "      <td>10</td>\n",
       "      <td>13</td>\n",
       "      <td>2011</td>\n",
       "      <td>1</td>\n",
       "      <td>1</td>\n",
       "      <td>3</td>\n",
       "      <td>0</td>\n",
       "      <td>0</td>\n",
       "    </tr>\n",
       "    <tr>\n",
       "      <th>4</th>\n",
       "      <td>2011-01-01 04:00:00</td>\n",
       "      <td>1</td>\n",
       "      <td>0</td>\n",
       "      <td>0</td>\n",
       "      <td>1</td>\n",
       "      <td>9.84</td>\n",
       "      <td>14.395</td>\n",
       "      <td>75</td>\n",
       "      <td>0.0</td>\n",
       "      <td>0</td>\n",
       "      <td>1</td>\n",
       "      <td>1</td>\n",
       "      <td>2011</td>\n",
       "      <td>1</td>\n",
       "      <td>1</td>\n",
       "      <td>4</td>\n",
       "      <td>0</td>\n",
       "      <td>0</td>\n",
       "    </tr>\n",
       "  </tbody>\n",
       "</table>\n",
       "</div>"
      ],
      "text/plain": [
       "             datetime  season  holiday  workingday  weather  temp   atemp  \\\n",
       "0 2011-01-01 00:00:00       1        0           0        1  9.84  14.395   \n",
       "1 2011-01-01 01:00:00       1        0           0        1  9.02  13.635   \n",
       "2 2011-01-01 02:00:00       1        0           0        1  9.02  13.635   \n",
       "3 2011-01-01 03:00:00       1        0           0        1  9.84  14.395   \n",
       "4 2011-01-01 04:00:00       1        0           0        1  9.84  14.395   \n",
       "\n",
       "   humidity  windspeed  casual  registered  count  year  month  day  hour  \\\n",
       "0        81        0.0       3          13     16  2011      1    1     0   \n",
       "1        80        0.0       8          32     40  2011      1    1     1   \n",
       "2        80        0.0       5          27     32  2011      1    1     2   \n",
       "3        75        0.0       3          10     13  2011      1    1     3   \n",
       "4        75        0.0       0           1      1  2011      1    1     4   \n",
       "\n",
       "   minute  second  \n",
       "0       0       0  \n",
       "1       0       0  \n",
       "2       0       0  \n",
       "3       0       0  \n",
       "4       0       0  "
      ]
     },
     "execution_count": 22,
     "metadata": {},
     "output_type": "execute_result"
    }
   ],
   "source": [
    "train.head()"
   ]
  },
  {
   "cell_type": "markdown",
   "id": "14c086d6",
   "metadata": {},
   "source": [
    "### **(3) year, month, day, hour, minute, second 데이터 개수 시각화하기**"
   ]
  },
  {
   "cell_type": "markdown",
   "id": "05c1cd98",
   "metadata": {},
   "source": [
    "* sns.countplot 활용해서 시각화하기\n",
    "* subplot을 활용해서 한 번에 6개의 그래프 함께 시각화하기"
   ]
  },
  {
   "cell_type": "code",
   "execution_count": 23,
   "id": "cfb04280",
   "metadata": {},
   "outputs": [
    {
     "data": {
      "image/png": "[encoded data removed]",
      "text/plain": [
       "<Figure size 1296x720 with 6 Axes>"
      ]
     },
     "metadata": {
      "needs_background": "light"
     },
     "output_type": "display_data"
    }
   ],
   "source": [
    "# 6개의 그래프 시각화하기\n",
    "fig, axes = plt.subplots(2, 3, figsize=(18, 10))\n",
    "\n",
    "sns.countplot(x='year', data=train, ax=axes[0][0])\n",
    "sns.countplot(x='month', data=train, ax=axes[0][1])\n",
    "sns.countplot(x='day', data=train, ax=axes[0][2])\n",
    "sns.countplot(x='hour', data=train, ax=axes[1][0])\n",
    "sns.countplot(x='minute', data=train, ax=axes[1][1])\n",
    "sns.countplot(x='second', data=train, ax=axes[1][2])\n",
    "\n",
    "plt.show()"
   ]
  },
  {
   "cell_type": "markdown",
   "id": "cea23672",
   "metadata": {},
   "source": [
    "### **(4) X, y 컬럼 선택 및 train/test 데이터 분리**"
   ]
  },
  {
   "cell_type": "markdown",
   "id": "c8446d15",
   "metadata": {},
   "source": [
    "* X(feature) 에는 어떤 데이터 컬럼을 넣어야 될지 고민해 봅시다. 데이터 컬럼을 추가하거나 빼면서 잘 조합하여 데이터를 넣기 바랍니다.\n",
    "* count 값을 맞추고자 하므로, y 변수에 count 컬럼의 데이터 넣기"
   ]
  },
  {
   "cell_type": "markdown",
   "id": "d4a9432a",
   "metadata": {},
   "source": [
    "Heatmap으로 변수간 상관계수를 살펴보자!"
   ]
  },
  {
   "cell_type": "code",
   "execution_count": 24,
   "id": "17155b0f",
   "metadata": {},
   "outputs": [
    {
     "data": {
      "text/plain": [
       "<AxesSubplot:>"
      ]
     },
     "execution_count": 24,
     "metadata": {},
     "output_type": "execute_result"
    },
    {
     "data": {
      "image/png": "[encoded data removed]",
      "text/plain": [
       "<Figure size 1080x720 with 2 Axes>"
      ]
     },
     "metadata": {
      "needs_background": "light"
     },
     "output_type": "display_data"
    }
   ],
   "source": [
    "# 상관관계 확인하기\n",
    "plt.subplots(figsize=(15, 10))\n",
    "sns.heatmap(train.corr(), annot=True, cmap='viridis')"
   ]
  },
  {
   "cell_type": "markdown",
   "id": "90031364",
   "metadata": {},
   "source": [
    "요소의 값들이 다 0인 minute과 second는 제거하고 다시 확인해보기로 하였다."
   ]
  },
  {
   "cell_type": "code",
   "execution_count": 25,
   "id": "fe387a05",
   "metadata": {},
   "outputs": [],
   "source": [
    "# minute과 second 칼럼 제거\n",
    "train.drop(['minute', 'second'], axis=1, inplace=True)"
   ]
  },
  {
   "cell_type": "code",
   "execution_count": 26,
   "id": "a7ac019a",
   "metadata": {},
   "outputs": [
    {
     "data": {
      "text/plain": [
       "<AxesSubplot:>"
      ]
     },
     "execution_count": 26,
     "metadata": {},
     "output_type": "execute_result"
    },
    {
     "data": {
      "image/png": "[encoded data removed]",
      "text/plain": [
       "<Figure size 1080x720 with 2 Axes>"
      ]
     },
     "metadata": {
      "needs_background": "light"
     },
     "output_type": "display_data"
    }
   ],
   "source": [
    "# 히트맵으로 시각화하기\n",
    "plt.subplots(figsize=(15, 10))\n",
    "sns.heatmap(train.corr(), annot=True, cmap='plasma')"
   ]
  },
  {
   "cell_type": "markdown",
   "id": "138b1230",
   "metadata": {},
   "source": [
    "* 강한 상관관계: casual, registered\n",
    "* 약한 상관관계: holiday, workingday, day"
   ]
  },
  {
   "cell_type": "markdown",
   "id": "31830b61",
   "metadata": {},
   "source": [
    "위의 5가지 피처를 제거하고 진행해보기로 하였다."
   ]
  },
  {
   "cell_type": "code",
   "execution_count": 27,
   "id": "ac95802d",
   "metadata": {},
   "outputs": [],
   "source": [
    "# X 컬럼 선택하기\n",
    "X = train[['season', 'weather', 'temp', 'atemp', 'humidity', 'windspeed', 'year', 'month', 'hour']].values\n",
    "\n",
    "# y 컬럼 선택하기\n",
    "y = train['count'].values"
   ]
  },
  {
   "cell_type": "markdown",
   "id": "2b3b7d1f",
   "metadata": {},
   "source": [
    "y = train['count']는 인덱스 정보와 함께 데이터를 포함하는 Series 객체를 반환한다.\n",
    "<br>y = train['count'].values는 데이터만을 포함하는 NumPy 배열을 반환한다."
   ]
  },
  {
   "cell_type": "code",
   "execution_count": 28,
   "id": "edf3615b",
   "metadata": {
    "scrolled": true
   },
   "outputs": [
    {
     "name": "stdout",
     "output_type": "stream",
     "text": [
      "(8708, 9) (8708,)\n",
      "(2178, 9) (2178,)\n"
     ]
    }
   ],
   "source": [
    "# 데이터 분리하기\n",
    "X_train, X_test, y_train, y_test = train_test_split(X, y, test_size=0.2, random_state=21)\n",
    "print(X_train.shape, y_train.shape) \n",
    "print(X_test.shape, y_test.shape)"
   ]
  },
  {
   "cell_type": "markdown",
   "id": "f517acb1",
   "metadata": {},
   "source": [
    "### **(5) LinearRegression 모델 학습**"
   ]
  },
  {
   "cell_type": "markdown",
   "id": "256271ac",
   "metadata": {},
   "source": [
    "* sklearn의 LinearRegression 모델 불러오기 및 학습하기"
   ]
  },
  {
   "cell_type": "code",
   "execution_count": 29,
   "id": "2c419950",
   "metadata": {},
   "outputs": [
    {
     "data": {
      "text/plain": [
       "LinearRegression()"
      ]
     },
     "execution_count": 29,
     "metadata": {},
     "output_type": "execute_result"
    }
   ],
   "source": [
    "# 모델 불러오기\n",
    "from sklearn.linear_model import LinearRegression\n",
    "\n",
    "model = LinearRegression()\n",
    "\n",
    "# 학습하기\n",
    "model.fit(X_train, y_train)"
   ]
  },
  {
   "cell_type": "markdown",
   "id": "9b0845b1",
   "metadata": {},
   "source": [
    "### **(6) 학습된 모델로 X_test에 대한 예측값 출력 및 손실함수값 계산**"
   ]
  },
  {
   "cell_type": "markdown",
   "id": "dfdcb6a5",
   "metadata": {},
   "source": [
    "* 학습된 모델에 X_test를 입력해서 예측값 출력하기\n",
    "* 모델이 예측한 값과 정답 target 간의 손실함수 값 계산하기\n",
    "* mse 값과 함께 rmse 값도 계산하기"
   ]
  },
  {
   "cell_type": "code",
   "execution_count": 30,
   "id": "11bdea97",
   "metadata": {},
   "outputs": [
    {
     "data": {
      "text/plain": [
       "array([245.05601242, 227.09978396, 379.88508455, ..., 158.22342868,\n",
       "       202.03378958, 285.70922719])"
      ]
     },
     "execution_count": 30,
     "metadata": {},
     "output_type": "execute_result"
    }
   ],
   "source": [
    "# 예측값 출력하기\n",
    "predictions = model.predict(X_test)\n",
    "predictions"
   ]
  },
  {
   "cell_type": "code",
   "execution_count": 31,
   "id": "033a22e8",
   "metadata": {},
   "outputs": [
    {
     "data": {
      "text/plain": [
       "18259.629048963114"
      ]
     },
     "execution_count": 31,
     "metadata": {},
     "output_type": "execute_result"
    }
   ],
   "source": [
    "# 손실함수 값 계산하기\n",
    "from sklearn.metrics import mean_squared_error\n",
    "\n",
    "# mse\n",
    "mse = mean_squared_error(y_test, predictions)\n",
    "mse"
   ]
  },
  {
   "cell_type": "code",
   "execution_count": 32,
   "id": "e3143695",
   "metadata": {},
   "outputs": [
    {
     "data": {
      "text/plain": [
       "135.12819487051217"
      ]
     },
     "execution_count": 32,
     "metadata": {},
     "output_type": "execute_result"
    }
   ],
   "source": [
    "# rmse\n",
    "rmse = np.sqrt(mse)\n",
    "rmse"
   ]
  },
  {
   "cell_type": "markdown",
   "id": "067b6128",
   "metadata": {},
   "source": [
    "### **(7) x축은 temp 또는 humidity로, y축은 count로 예측 결과 시각화하기**"
   ]
  },
  {
   "cell_type": "markdown",
   "id": "5ebf5c72",
   "metadata": {},
   "source": [
    "* x축에 X 데이터 중 temp 데이터를, y축에는 count 데이터를 넣어서 시각화하기\n",
    "* x축에 X 데이터 중 humidity 데이터를, y축에는 count 데이터를 넣어서 시각화하기"
   ]
  },
  {
   "cell_type": "code",
   "execution_count": 33,
   "id": "b52824a2",
   "metadata": {},
   "outputs": [
    {
     "data": {
      "image/png": "[encoded data removed]",
      "text/plain": [
       "<Figure size 432x288 with 1 Axes>"
      ]
     },
     "metadata": {
      "needs_background": "light"
     },
     "output_type": "display_data"
    }
   ],
   "source": [
    "# temp 데이터 시각화하기\n",
    "plt.scatter(X_test[:, 2], y_test, color='gold', label='actual')\n",
    "plt.scatter(X_test[:, 2], predictions, color='lawngreen', label='prediction')\n",
    "plt.xlabel('temp')\n",
    "plt.ylabel('count')\n",
    "plt.legend()\n",
    "plt.show()"
   ]
  },
  {
   "cell_type": "code",
   "execution_count": 34,
   "id": "5cb1e2b1",
   "metadata": {},
   "outputs": [
    {
     "data": {
      "image/png": "[encoded data removed]",
      "text/plain": [
       "<Figure size 432x288 with 1 Axes>"
      ]
     },
     "metadata": {
      "needs_background": "light"
     },
     "output_type": "display_data"
    }
   ],
   "source": [
    "# humidity 데이터 시각화하기\n",
    "plt.scatter(X_test[:, 4], y_test, color='hotpink', label='actual')\n",
    "plt.scatter(X_test[:, 4], predictions, color='purple', label='prediction')\n",
    "plt.xlabel('humidity')\n",
    "plt.ylabel('count')\n",
    "plt.legend()\n",
    "plt.show()"
   ]
  },
  {
   "cell_type": "markdown",
   "id": "e51a7716",
   "metadata": {},
   "source": [
    "불필요한 컬럼들을 삭제하고 위의 당뇨병 프로젝트와 마찬가지로 random_state를 변경해주어 **RMSE 값 135**를 달성하였다."
   ]
  },
  {
   "cell_type": "markdown",
   "id": "8b746b04",
   "metadata": {},
   "source": [
    "---"
   ]
  },
  {
   "cell_type": "markdown",
   "id": "9cbcffd5",
   "metadata": {},
   "source": [
    "### **프로젝트 회고**"
   ]
  },
  {
   "cell_type": "markdown",
   "id": "760132f9",
   "metadata": {},
   "source": [
    "이번 프로젝트는 단계별로 설명히 잘 되어 있어서 큰 어려움 없이 마칠 수 있었다. 해당 프로젝트를 통해 손실함수의 개념과 손실함수가 필요한 이유를 이해하고, 쓸 수 있는 함수의 종류와 구현을 익히는 연습을 할 수 있었고, 손실함수값을 줄이기 위해서 기울기가 얼마나 중요한 요소인지 알게 되었다. 이전에도 MSE 값을 낮추어 모델의 성능을 높이는 프로젝트를 진행했었지만, 직접 함수를 구현하지는 않았었는데, 이번에는 직접 모델 함수부터 RMSE 함수까지 구현하면서 원리에 대해서 조금 더 자세하게 이해하게 되었던 것 같다. 그리고 learning rate와 random state와 같은 값들을 여러가지로 설정해보면서 loss 값이 어떻게 바뀌는지 눈으로 직접 확인할 수 있어 해당 값들을 변경함으로서 손실함수값에 어떤 영향을 끼치는지 확실하게 알 수 있었다. 프로젝트 2번에서와 같이, 확실히 사이킷런(sklearn) 라이브러리를 사용하면 모델이 학습하기 위한 손실함수, 기울기 계산을 직접할 필요가 없기 때문에 훠~얼씬 간편한 것 같다. 또한 시각화를 진행하면서 seaborn에 얼마나 다양한 color palette들이 존재하는지 알 수 있었으며 꾸미는 맛이 있었다! 🎨🌈"
   ]
  },
  {
   "cell_type": "markdown",
   "id": "7ac447cd",
   "metadata": {},
   "source": [
    "#### **새로 알게 된 것!**\n",
    "**(개념 정리하고 가즈아~)**\n",
    "* 모델 학습: 모델이 입력을 받았을 때 정답값에 가까운 출력을 낼 수 있는 최적의 \"매개변수\", 혹은 \"파라미터\" 를 찾는다는 뜻\n",
    "* 모델의 오차: 정답과 예측값 간의 차이\n",
    "* 손실함수(loss function) / 비용함수(cost function): 모델의 오차를 계산하는 함수\n",
    "* 경사하강법(Gradient Descent Method): 기울기를 사용해서 점차적으로 매개변수를 업데이트 하는 방식\n",
    "* 하이퍼 파라미터: 사람이 직접 사전에 정하고 시작해야 하는 파라미터"
   ]
  },
  {
   "cell_type": "markdown",
   "id": "597b08e9",
   "metadata": {},
   "source": [
    "**“모델이 얼마나 틀렸는지를 평가하는 지표”로는 네 가지가 있다.**\n",
    "* MAE: Mean Absolute Error, 오차의 절댓값의 평균\n",
    "* MSE: Mean Squared Error, 오차의 제곱의 평균\n",
    "* RMSE: Root Mean Squared Error, MSE의 제곱근\n",
    "* R-squared: Coefficient of Determination, 결정 계수"
   ]
  },
  {
   "cell_type": "markdown",
   "id": "66f258e6",
   "metadata": {},
   "source": [
    "**참고한 레퍼런스**\n",
    "<br>[Pandas 기초] 시계열 데이터(timeseries), Timestamp와 Period https://yganalyst.github.io/data_handling/Pd_8/\n",
    "<br>상관관계 분석(Pandas) & Heatmap 그리기 https://blog.naver.com/PostView.nhn?blogId=kiddwannabe&logNo=221205309816\n",
    "<br>19-09 numpy로 변환 (values) https://wikidocs.net/151305\n",
    "<br>데이터 추출(array, to_numpy, values)-pandas(8) https://kongdols-room.tistory.com/110"
   ]
  }
 ],
 "metadata": {
  "kernelspec": {
   "display_name": "Python 3 (ipykernel)",
   "language": "python",
   "name": "python3"
  },
  "language_info": {
   "codemirror_mode": {
    "name": "ipython",
    "version": 3
   },
   "file_extension": ".py",
   "mimetype": "text/x-python",
   "name": "python",
   "nbconvert_exporter": "python",
   "pygments_lexer": "ipython3",
   "version": "3.9.7"
  }
 },
 "nbformat": 4,
 "nbformat_minor": 5
}
