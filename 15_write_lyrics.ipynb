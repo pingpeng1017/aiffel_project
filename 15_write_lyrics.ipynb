{
 "cells": [
  {
   "cell_type": "markdown",
   "id": "06b5bbc7",
   "metadata": {},
   "source": [
    "## **프로젝트: 멋진 작사가 만들기**"
   ]
  },
  {
   "cell_type": "markdown",
   "id": "e4d1edfa",
   "metadata": {},
   "source": [
    "### **Step 1. 데이터 읽어오기**"
   ]
  },
  {
   "cell_type": "code",
   "execution_count": 1,
   "id": "6fdc9a33",
   "metadata": {},
   "outputs": [],
   "source": [
    "# 필요한 라이브러리 import\n",
    "import glob\n",
    "import os, re \n",
    "import numpy as np\n",
    "import tensorflow as tf\n",
    "from sklearn.model_selection import train_test_split"
   ]
  },
  {
   "cell_type": "code",
   "execution_count": 2,
   "id": "b865e628",
   "metadata": {},
   "outputs": [
    {
     "name": "stdout",
     "output_type": "stream",
     "text": [
      "데이터 크기: 187088\n",
      "Examples:\n",
      " ['Looking for some education', 'Made my way into the night', 'All that bullshit conversation', \"Baby, can't you read the signs? I won't bore you with the details, baby\", \"I don't even wanna waste your time\", \"Let's just say that maybe\", 'You could help me ease my mind', \"I ain't Mr. Right But if you're looking for fast love\", \"If that's love in your eyes\", \"It's more than enough\"]\n"
     ]
    }
   ],
   "source": [
    "# 데이터 불러오기\n",
    "txt_file_path = 'C:/Users/Minjoo Lee/AIFFEL/lyricist/data/lyrics/*'\n",
    "txt_list = glob.glob(txt_file_path)\n",
    "\n",
    "raw_corpus = [] \n",
    "\n",
    "# 여러개의 txt 파일을 모두 읽어서 raw_corpus에 담기\n",
    "for txt_file in txt_list:\n",
    "    with open(txt_file, 'rt', encoding='UTF8') as f:\n",
    "        raw = f.read().splitlines()\n",
    "        raw_corpus.extend(raw)\n",
    "\n",
    "print(\"데이터 크기:\", len(raw_corpus))\n",
    "print(\"Examples:\\n\", raw_corpus[:10])"
   ]
  },
  {
   "cell_type": "markdown",
   "id": "647af869",
   "metadata": {},
   "source": [
    "### **Step 2. 데이터 정제**"
   ]
  },
  {
   "cell_type": "code",
   "execution_count": 3,
   "id": "a762f151",
   "metadata": {},
   "outputs": [
    {
     "name": "stdout",
     "output_type": "stream",
     "text": [
      "<start> this is sample sentence . <end>\n"
     ]
    }
   ],
   "source": [
    "# 정제 함수\n",
    "def preprocess_sentence(sentence):\n",
    "    sentence = sentence.lower().strip()\n",
    "    sentence = re.sub(r\"([?.!,¿])\", r\" \\1 \", sentence)\n",
    "    sentence = re.sub(r'[\" \"]+', \" \", sentence)\n",
    "    sentence = re.sub(r\"[^a-zA-Z?.!,¿]+\", \" \", sentence)\n",
    "    sentence = sentence.strip()\n",
    "    sentence = '<start> ' + sentence + ' <end>'\n",
    "    return sentence\n",
    "\n",
    "# 문장이 어떻게 필터링 되는지 확인\n",
    "print(preprocess_sentence(\"This @_is ;;;sample        sentence.\"))"
   ]
  },
  {
   "cell_type": "code",
   "execution_count": 4,
   "id": "6913f8b7",
   "metadata": {},
   "outputs": [
    {
     "data": {
      "text/plain": [
       "['<start> looking for some education <end>',\n",
       " '<start> made my way into the night <end>',\n",
       " '<start> all that bullshit conversation <end>',\n",
       " '<start> baby , can t you read the signs ? i won t bore you with the details , baby <end>',\n",
       " '<start> i don t even wanna waste your time <end>',\n",
       " '<start> let s just say that maybe <end>',\n",
       " '<start> you could help me ease my mind <end>',\n",
       " '<start> i ain t mr . right but if you re looking for fast love <end>',\n",
       " '<start> if that s love in your eyes <end>',\n",
       " '<start> it s more than enough <end>']"
      ]
     },
     "execution_count": 4,
     "metadata": {},
     "output_type": "execute_result"
    }
   ],
   "source": [
    "# 정제 데이터 구축\n",
    "# 정제된 문장을 담을 리스트\n",
    "corpus = []\n",
    "\n",
    "# raw_corpus list에 저장된 문장들을 순서대로 반환하여 sentence에 저장\n",
    "for sentence in raw_corpus:\n",
    "    # 원하지 않는 문장은 건너뛰기\n",
    "    if len(sentence) == 0: continue # 길이가 0\n",
    "    if sentence[-1] == \":\": continue # 문장의 끝이 :\n",
    "    \n",
    "    # preprocess_sentence() 함수를 이용하여 문장을 정제를 하고 담아주기\n",
    "    preprocessed_sentence = preprocess_sentence(sentence)\n",
    "    corpus.append(preprocessed_sentence)\n",
    "        \n",
    "# 정제된 결과 확인\n",
    "corpus[:10]"
   ]
  },
  {
   "cell_type": "code",
   "execution_count": 5,
   "id": "92428a1a",
   "metadata": {},
   "outputs": [
    {
     "name": "stdout",
     "output_type": "stream",
     "text": [
      "[[  2 304  28 ...   0   0   0]\n",
      " [  2 221  13 ...   0   0   0]\n",
      " [  2  24  17 ...   0   0   0]\n",
      " ...\n",
      " [  2  23  77 ...   0   0   0]\n",
      " [  2  42  26 ...   0   0   0]\n",
      " [  2  23  77 ...   0   0   0]] <keras.preprocessing.text.Tokenizer object at 0x000001A2FD2E5708>\n"
     ]
    }
   ],
   "source": [
    "# 데이터를 토큰화하는 함수\n",
    "def tokenize(corpus):\n",
    "    tokenizer = tf.keras.preprocessing.text.Tokenizer(\n",
    "        num_words=12000, \n",
    "        filters=' ',\n",
    "        oov_token=\"<unk>\"\n",
    "    )\n",
    "    # corpus를 이용해 tokenizer 내부의 단어장 완성\n",
    "    tokenizer.fit_on_texts(corpus)\n",
    "    # tokenizer를 이용해 corpus를 Tensor로 변환\n",
    "    tensor = tokenizer.texts_to_sequences(corpus)\n",
    "    # 입력 데이터의 시퀀스 길이를 일정하게 맞추기\n",
    "    tensor = tf.keras.preprocessing.sequence.pad_sequences(tensor, padding='post', maxlen=15)  \n",
    "    \n",
    "    print(tensor,tokenizer)\n",
    "    return tensor, tokenizer\n",
    "\n",
    "tensor, tokenizer = tokenize(corpus)"
   ]
  },
  {
   "cell_type": "markdown",
   "id": "240c5002",
   "metadata": {},
   "source": [
    "생성된 텐서 데이터를 3번째 행, 10번째 열까지만 출력해보자."
   ]
  },
  {
   "cell_type": "code",
   "execution_count": 6,
   "id": "c9042abf",
   "metadata": {},
   "outputs": [
    {
     "name": "stdout",
     "output_type": "stream",
     "text": [
      "[[   2  304   28   99 4811    3    0    0    0    0]\n",
      " [   2  221   13   85  226    6  115    3    0    0]\n",
      " [   2   24   17 1087 2347    3    0    0    0    0]]\n"
     ]
    }
   ],
   "source": [
    "print(tensor[:3, :10])"
   ]
  },
  {
   "cell_type": "code",
   "execution_count": 7,
   "id": "0f232f9c",
   "metadata": {},
   "outputs": [
    {
     "name": "stdout",
     "output_type": "stream",
     "text": [
      "1 : <unk>\n",
      "2 : <start>\n",
      "3 : <end>\n",
      "4 : ,\n",
      "5 : i\n",
      "6 : the\n",
      "7 : you\n",
      "8 : and\n",
      "9 : a\n",
      "10 : to\n"
     ]
    }
   ],
   "source": [
    "# 단어 사전이 어떻게 구축되었는지 확인\n",
    "for idx in tokenizer.index_word:\n",
    "    print(idx, \":\", tokenizer.index_word[idx])\n",
    "\n",
    "    if idx >= 10: break"
   ]
  },
  {
   "cell_type": "markdown",
   "id": "58587dfb",
   "metadata": {},
   "source": [
    "2번 인덱스가 `<start>`여서 모든 행이 2로 시작하는 것을 확인할 수 있다."
   ]
  },
  {
   "cell_type": "code",
   "execution_count": 8,
   "id": "214d98ca",
   "metadata": {},
   "outputs": [
    {
     "name": "stdout",
     "output_type": "stream",
     "text": [
      "[   2  304   28   99 4811    3    0    0    0    0    0    0    0    0]\n",
      "[ 304   28   99 4811    3    0    0    0    0    0    0    0    0    0]\n"
     ]
    }
   ],
   "source": [
    "# tensor에서 마지막 토큰을 잘라내서 소스 문장을 생성\n",
    "src_input = tensor[:, :-1]  \n",
    "# tensor에서 <start>를 잘라내서 타겟 문장을 생성\n",
    "tgt_input = tensor[:, 1:]    \n",
    "\n",
    "print(src_input[0])\n",
    "print(tgt_input[0])"
   ]
  },
  {
   "cell_type": "markdown",
   "id": "6ce76ff7",
   "metadata": {},
   "source": [
    "행 뒤쪽에 0이 많이 나온 부분은 정해진 입력 시퀀스 길이보다 문장이 짧을 경우 0으로 패딩을 채워 넣은 것이다."
   ]
  },
  {
   "cell_type": "markdown",
   "id": "2326d7ed",
   "metadata": {},
   "source": [
    "### **Step 3. 평가 데이터셋 분리**"
   ]
  },
  {
   "cell_type": "code",
   "execution_count": 9,
   "id": "ca2740bc",
   "metadata": {},
   "outputs": [],
   "source": [
    "# 데이터셋 분리\n",
    "enc_train, enc_val, dec_train, dec_val = train_test_split(src_input,\n",
    "                                                          tgt_input,\n",
    "                                                          test_size=0.2,\n",
    "                                                          random_state=88)"
   ]
  },
  {
   "cell_type": "code",
   "execution_count": 10,
   "id": "505dbf63",
   "metadata": {},
   "outputs": [
    {
     "name": "stdout",
     "output_type": "stream",
     "text": [
      "Source Train: (140599, 14)\n",
      "Target Train: (140599, 14)\n"
     ]
    }
   ],
   "source": [
    "# 데이터셋 크기 확인\n",
    "print(\"Source Train:\", enc_train.shape)\n",
    "print(\"Target Train:\", dec_train.shape)"
   ]
  },
  {
   "cell_type": "code",
   "execution_count": 11,
   "id": "3ec6f19f",
   "metadata": {},
   "outputs": [],
   "source": [
    "# 데이터셋 객체 생성\n",
    "def create_dataset(src_input,tgt_input):\n",
    "    BUFFER_SIZE = len(src_input)\n",
    "    BATCH_SIZE = 256\n",
    "    steps_per_epoch = len(src_input) // BATCH_SIZE\n",
    "\n",
    "    VOCAB_SIZE = tokenizer.num_words + 1\n",
    "\n",
    "    dataset = tf.data.Dataset.from_tensor_slices((src_input, tgt_input))\n",
    "    dataset = dataset.shuffle(BUFFER_SIZE)\n",
    "    dataset = dataset.batch(BATCH_SIZE, drop_remainder=True)\n",
    "    return dataset\n",
    "\n",
    "train_dataset = create_dataset(enc_train, dec_train)\n",
    "valid_dataset = create_dataset(enc_val, dec_val)"
   ]
  },
  {
   "cell_type": "markdown",
   "id": "fa6ef3be",
   "metadata": {},
   "source": [
    "### **Step 4. 인공지능 만들기**"
   ]
  },
  {
   "cell_type": "code",
   "execution_count": 12,
   "id": "7160e4d6",
   "metadata": {},
   "outputs": [],
   "source": [
    "# 모델 구현\n",
    "class TextGenerator(tf.keras.Model):\n",
    "    def __init__(self, vocab_size, embedding_size, hidden_size, dropout_rate):\n",
    "        super().__init__()\n",
    "        self.embedding = tf.keras.layers.Embedding(vocab_size, embedding_size)\n",
    "        self.rnn_1 = tf.keras.layers.LSTM(hidden_size, return_sequences=True)\n",
    "        self.dropout_1 = tf.keras.layers.Dropout(dropout_rate)\n",
    "        self.rnn_2 = tf.keras.layers.LSTM(hidden_size, return_sequences=True)\n",
    "        self.dropout_2 = tf.keras.layers.Dropout(dropout_rate)\n",
    "        self.linear = tf.keras.layers.Dense(vocab_size)\n",
    "    \n",
    "    def call(self, x):\n",
    "        out = self.embedding(x)\n",
    "        out = self.rnn_1(out)\n",
    "        out = self.dropout_1(out)\n",
    "        out = self.rnn_2(out)\n",
    "        out = self.dropout_2(out)\n",
    "        out = self.linear(out)\n",
    "        \n",
    "        return out\n",
    "\n",
    "embedding_size = 2048 # 워드 벡터의 차원수를 말하며 단어가 추상적으로 표현되는 크기\n",
    "hidden_size = 2048 # 모델에 얼마나 많은 일꾼을 둘 것인가?\n",
    "dropout_rate = 0.3\n",
    "model = TextGenerator(tokenizer.num_words + 1, embedding_size , hidden_size, dropout_rate) "
   ]
  },
  {
   "cell_type": "code",
   "execution_count": 13,
   "id": "88c3cdc2",
   "metadata": {},
   "outputs": [
    {
     "data": {
      "text/plain": [
       "<tf.Tensor: shape=(256, 14, 12001), dtype=float32, numpy=\n",
       "array([[[ 2.20508409e-05, -2.12793937e-04, -2.23272931e-04, ...,\n",
       "          5.97649014e-05,  5.42264141e-04,  3.75149946e-04],\n",
       "        [-1.24799219e-04, -5.40660512e-05, -1.87071098e-04, ...,\n",
       "         -3.34151526e-04,  7.11201865e-04,  5.41243469e-04],\n",
       "        [ 3.83689068e-04, -4.85550008e-05, -7.43447221e-04, ...,\n",
       "          2.70551536e-05,  1.94942718e-03,  1.79052731e-04],\n",
       "        ...,\n",
       "        [ 3.15069477e-03, -7.85289099e-04,  7.34388537e-04, ...,\n",
       "          2.43239244e-03, -5.62601606e-04,  3.17141647e-03],\n",
       "        [ 3.44104529e-03, -1.01122388e-03,  5.23312890e-04, ...,\n",
       "          2.01807218e-03, -1.05212757e-03,  2.84965150e-03],\n",
       "        [ 3.66271264e-03, -1.03131810e-03,  7.22386001e-04, ...,\n",
       "          1.00560614e-03, -1.21428224e-03,  2.28481996e-03]],\n",
       "\n",
       "       [[ 2.20508409e-05, -2.12793937e-04, -2.23272931e-04, ...,\n",
       "          5.97649014e-05,  5.42264141e-04,  3.75149946e-04],\n",
       "        [-9.71507179e-05, -4.27577790e-04, -2.62272661e-04, ...,\n",
       "         -6.10541319e-05,  5.04075550e-04,  7.02890975e-04],\n",
       "        [-9.76244992e-05, -5.72325836e-04, -7.76058587e-04, ...,\n",
       "         -1.58878349e-04,  2.73219775e-04,  6.18671183e-04],\n",
       "        ...,\n",
       "        [-2.46939925e-03, -2.74370052e-03, -1.85784302e-03, ...,\n",
       "          1.71915244e-03, -1.52973371e-04,  1.72417599e-03],\n",
       "        [-1.65129139e-03, -2.51628365e-03, -1.53480924e-03, ...,\n",
       "          7.62064534e-04, -2.88068783e-04,  1.29253906e-03],\n",
       "        [-8.46668554e-04, -2.02275044e-03, -9.00194747e-04, ...,\n",
       "         -4.38038784e-04, -1.47435916e-04,  7.51075859e-04]],\n",
       "\n",
       "       [[ 2.20508409e-05, -2.12793937e-04, -2.23272931e-04, ...,\n",
       "          5.97649014e-05,  5.42264141e-04,  3.75149946e-04],\n",
       "        [ 1.16766227e-04, -3.23991670e-04, -2.02432639e-04, ...,\n",
       "         -2.35855798e-04,  1.04025437e-03,  8.22033442e-04],\n",
       "        [-1.34570160e-04, -7.12583540e-04,  7.19432195e-04, ...,\n",
       "          3.15635058e-04,  9.99298994e-04,  8.98578437e-04],\n",
       "        ...,\n",
       "        [-1.67428656e-03,  4.45193000e-04, -3.41568113e-04, ...,\n",
       "         -5.79901796e-04,  2.21679127e-03,  6.71669142e-04],\n",
       "        [-1.34083943e-03,  2.92001612e-04, -1.23744237e-03, ...,\n",
       "         -1.26961630e-03,  1.90887111e-03,  2.62350892e-04],\n",
       "        [-8.53345729e-04,  2.13536521e-04, -1.31954043e-03, ...,\n",
       "         -2.33089877e-03,  1.71354902e-03, -2.70686112e-04]],\n",
       "\n",
       "       ...,\n",
       "\n",
       "       [[ 2.20508409e-05, -2.12793937e-04, -2.23272931e-04, ...,\n",
       "          5.97649014e-05,  5.42264141e-04,  3.75149946e-04],\n",
       "        [ 2.27057317e-04, -1.17715164e-04, -6.09528870e-05, ...,\n",
       "          8.53795573e-05,  1.16752961e-03,  5.24847303e-04],\n",
       "        [-5.60394488e-04, -7.89607220e-05,  6.19788043e-05, ...,\n",
       "          2.46924665e-05,  9.80905606e-04,  5.85777976e-04],\n",
       "        ...,\n",
       "        [ 1.98374037e-04,  5.33664075e-04,  2.46119988e-03, ...,\n",
       "         -3.45719769e-03, -1.83425238e-03, -1.58073861e-04],\n",
       "        [ 3.15551762e-04,  1.02264120e-03,  2.89400690e-03, ...,\n",
       "         -4.36834572e-03, -1.26863446e-03, -5.88360010e-04],\n",
       "        [ 3.31425807e-04,  1.55901979e-03,  3.27736558e-03, ...,\n",
       "         -5.15427394e-03, -7.07068713e-04, -9.35000775e-04]],\n",
       "\n",
       "       [[ 2.20508409e-05, -2.12793937e-04, -2.23272931e-04, ...,\n",
       "          5.97649014e-05,  5.42264141e-04,  3.75149946e-04],\n",
       "        [-5.25569427e-04, -6.53778494e-04, -6.56700635e-04, ...,\n",
       "         -1.54277965e-04,  1.34279369e-03,  4.84938937e-04],\n",
       "        [-1.48007530e-03, -7.72674859e-04, -1.45117554e-03, ...,\n",
       "         -6.24836306e-04,  1.14302163e-03,  3.65013606e-04],\n",
       "        ...,\n",
       "        [-1.90689589e-03, -2.51067779e-03, -3.12650343e-03, ...,\n",
       "         -1.06021564e-03, -2.59891083e-03,  1.38395966e-03],\n",
       "        [-1.04080653e-03, -2.30072555e-03, -2.34638061e-03, ...,\n",
       "         -1.96584407e-03, -2.39354977e-03,  8.45166680e-04],\n",
       "        [-3.58289864e-04, -1.88363751e-03, -1.50490145e-03, ...,\n",
       "         -2.92196684e-03, -1.97879039e-03,  2.95706181e-04]],\n",
       "\n",
       "       [[ 2.20508409e-05, -2.12793937e-04, -2.23272931e-04, ...,\n",
       "          5.97649014e-05,  5.42264141e-04,  3.75149946e-04],\n",
       "        [-3.20662512e-04, -4.58049966e-04, -3.15261743e-04, ...,\n",
       "         -1.06383748e-04,  4.82937467e-04,  6.55516458e-04],\n",
       "        [-4.64892597e-04, -9.11819341e-04, -2.38017921e-04, ...,\n",
       "         -6.77148055e-04,  1.00275374e-03,  1.54003163e-03],\n",
       "        ...,\n",
       "        [ 2.09595123e-03, -1.07714906e-03,  1.59862393e-03, ...,\n",
       "         -3.93991265e-03,  5.39737695e-04, -4.77032881e-04],\n",
       "        [ 2.09915219e-03, -4.66931029e-04,  1.93577516e-03, ...,\n",
       "         -4.74344241e-03,  9.48841451e-04, -1.01119059e-03],\n",
       "        [ 1.97737524e-03,  2.07126723e-04,  2.25956459e-03, ...,\n",
       "         -5.44082606e-03,  1.32269820e-03, -1.42162177e-03]]],\n",
       "      dtype=float32)>"
      ]
     },
     "execution_count": 13,
     "metadata": {},
     "output_type": "execute_result"
    }
   ],
   "source": [
    "# 데이터셋에서 데이터 한 배치만 불러오는 방법\n",
    "for src_sample, tgt_sample in train_dataset.take(1): break\n",
    "    \n",
    "# 불러온 데이터를 모델에 넣어보기\n",
    "model(src_sample)"
   ]
  },
  {
   "cell_type": "code",
   "execution_count": 14,
   "id": "9d3e0230",
   "metadata": {},
   "outputs": [
    {
     "name": "stdout",
     "output_type": "stream",
     "text": [
      "Model: \"text_generator\"\n",
      "_________________________________________________________________\n",
      " Layer (type)                Output Shape              Param #   \n",
      "=================================================================\n",
      " embedding (Embedding)       multiple                  24578048  \n",
      "                                                                 \n",
      " lstm (LSTM)                 multiple                  33562624  \n",
      "                                                                 \n",
      " dropout (Dropout)           multiple                  0         \n",
      "                                                                 \n",
      " lstm_1 (LSTM)               multiple                  33562624  \n",
      "                                                                 \n",
      " dropout_1 (Dropout)         multiple                  0         \n",
      "                                                                 \n",
      " dense (Dense)               multiple                  24590049  \n",
      "                                                                 \n",
      "=================================================================\n",
      "Total params: 116,293,345\n",
      "Trainable params: 116,293,345\n",
      "Non-trainable params: 0\n",
      "_________________________________________________________________\n"
     ]
    }
   ],
   "source": [
    "# 모델 구조 확인\n",
    "model.summary()"
   ]
  },
  {
   "cell_type": "markdown",
   "id": "b0aa6db6",
   "metadata": {},
   "source": [
    "모델은 입력 시퀀스의 길이를 모르기 때문에 Output Shape를 특정할 수 없다."
   ]
  },
  {
   "cell_type": "code",
   "execution_count": 15,
   "id": "32c3300e",
   "metadata": {
    "scrolled": false
   },
   "outputs": [
    {
     "name": "stdout",
     "output_type": "stream",
     "text": [
      "Epoch 1/10\n",
      "549/549 [==============================] - 89s 157ms/step - loss: 3.3773 - val_loss: 2.9916\n",
      "Epoch 2/10\n",
      "549/549 [==============================] - 86s 157ms/step - loss: 2.8317 - val_loss: 2.7249\n",
      "Epoch 3/10\n",
      "549/549 [==============================] - 89s 161ms/step - loss: 2.5245 - val_loss: 2.5458\n",
      "Epoch 4/10\n",
      "549/549 [==============================] - 88s 161ms/step - loss: 2.2521 - val_loss: 2.4206\n",
      "Epoch 5/10\n",
      "549/549 [==============================] - 87s 157ms/step - loss: 2.0159 - val_loss: 2.3332\n",
      "Epoch 6/10\n",
      "549/549 [==============================] - 88s 159ms/step - loss: 1.8177 - val_loss: 2.2756\n",
      "Epoch 7/10\n",
      "549/549 [==============================] - 87s 159ms/step - loss: 1.6557 - val_loss: 2.2409\n",
      "Epoch 8/10\n",
      "549/549 [==============================] - 87s 159ms/step - loss: 1.5267 - val_loss: 2.2218\n",
      "Epoch 9/10\n",
      "549/549 [==============================] - 87s 158ms/step - loss: 1.4233 - val_loss: 2.2158\n",
      "Epoch 10/10\n",
      "549/549 [==============================] - 88s 160ms/step - loss: 1.3421 - val_loss: 2.2223\n"
     ]
    },
    {
     "data": {
      "text/plain": [
       "<keras.callbacks.History at 0x1a281dd9a08>"
      ]
     },
     "execution_count": 15,
     "metadata": {},
     "output_type": "execute_result"
    }
   ],
   "source": [
    "# 모델 훈련\n",
    "optimizer = tf.keras.optimizers.Adam(learning_rate=0.001)\n",
    "loss = tf.keras.losses.SparseCategoricalCrossentropy(from_logits=True,\n",
    "                                                     reduction='none')\n",
    "\n",
    "model.compile(loss=loss, optimizer=optimizer)\n",
    "model.fit(train_dataset, \n",
    "          validation_data=valid_dataset,\n",
    "          batch_size=256,\n",
    "          epochs=10)"
   ]
  },
  {
   "cell_type": "markdown",
   "id": "b3d0d0a3",
   "metadata": {},
   "source": [
    "### **Step 5. 평가하기**"
   ]
  },
  {
   "cell_type": "code",
   "execution_count": 16,
   "id": "78ac2c2f",
   "metadata": {},
   "outputs": [],
   "source": [
    "# 문장 생성 함수\n",
    "# 모델에게 시작 문장을 전달하면 모델이 시작 문장을 바탕으로 작문을 진행\n",
    "def generate_text(model, tokenizer, init_sentence=\"<start>\", max_len=15):\n",
    "    # 테스트를 위해서 입력받은 init_sentence도 텐서로 변환\n",
    "    test_input = tokenizer.texts_to_sequences([init_sentence])\n",
    "    test_tensor = tf.convert_to_tensor(test_input, dtype=tf.int64)\n",
    "    end_token = tokenizer.word_index[\"<end>\"]\n",
    "\n",
    "    # 단어 하나씩 예측해 문장 만들기\n",
    "    while True: # 루프를 돌면서 init_sentence에 단어를 하나씩 생성\n",
    "        predict = model(test_tensor) \n",
    "        predict_word = tf.argmax(tf.nn.softmax(predict, axis=-1), axis=-1)[:, -1] \n",
    "        test_tensor = tf.concat([test_tensor, tf.expand_dims(predict_word, axis=0)], axis=-1)\n",
    "        if predict_word.numpy()[0] == end_token: break\n",
    "        if test_tensor.shape[1] >= max_len: break\n",
    "\n",
    "    generated = \"\"\n",
    "    # tokenizer를 이용해 word index를 단어로 하나씩 변환\n",
    "    for word_index in test_tensor[0].numpy():\n",
    "        generated += tokenizer.index_word[word_index] + \" \"\n",
    "\n",
    "    return generated # 최종적으로 모델이 생성한 문장을 반환"
   ]
  },
  {
   "cell_type": "code",
   "execution_count": 17,
   "id": "a76ec9cd",
   "metadata": {},
   "outputs": [
    {
     "data": {
      "text/plain": [
       "'<start> i love you <end> '"
      ]
     },
     "execution_count": 17,
     "metadata": {},
     "output_type": "execute_result"
    }
   ],
   "source": [
    "generate_text(model, tokenizer, init_sentence=\"<start> i love\", max_len=15)"
   ]
  },
  {
   "cell_type": "markdown",
   "id": "2e958a75",
   "metadata": {},
   "source": [
    "---"
   ]
  },
  {
   "cell_type": "markdown",
   "id": "b7f844dd",
   "metadata": {},
   "source": [
    "### **프로젝트 회고**"
   ]
  },
  {
   "cell_type": "markdown",
   "id": "05d260f6",
   "metadata": {},
   "source": [
    "이번 프로젝트에서의 목표는 10 epoch 안에 val_loss 값을 2.2 이하로 줄이는 것이었다. 그러나 초기 val_loss 값이 이미 2.2에 근접한 값이었기 때문에 embedding_size와 hidden_size를 조절하는 것만으로는 val_loss 값을 쉽게 개선할 수 없었다. 따라서, 추가적인 시도를 해봤다. 첫번째로는 model.fit에 다양한 인자를 추가해봤지만, 이는 val_loss 값에 큰 변화를 가져오지 못했다. 그 다음으로는 dropout 레이어를 추가하고 random_state 숫자를 변경해가며 실험해봤는데, 이렇게 함으로써 val_loss 값을 2.2로 달성할 수 있었다. 그러나 마지막 epoch에서 val_loss 값이 증가하는 현상을 관찰할 수 있었고, 이는 과대적합이 발생했을 가능성을 의미한다. 따라서, 과대적합을 완화하기 위해 추가적인 조치가 필요할 것으로 판단된다. 모델 구조 변경, 하이퍼파라미터 튜닝, 정규화 등 여러가지를 시도해봤는데도 불구하고 모델의 성능 향상이 크게 이루어지지 않았는데, LSTM을 대체할 다른 모델을 사용해보는 것도 하나의 방법일 것 같다."
   ]
  },
  {
   "cell_type": "markdown",
   "id": "dc6c0272",
   "metadata": {},
   "source": [
    "#### **새로 알게 된 것!**\n",
    "* 시퀀스(Sequence): 연속된 데이터 요소들이 순서대로 나열된 것\n",
    "* 순환신경망(RNN): 순차적인 데이터를 다루는 인공지능 모델, 이전 단계의 정보를 기억하면서 현재 단계의 입력과 함께 다음 단계의 출력을 계산하는 방식으로 동작\n",
    "* 언어 모델(Language Model): 이전 단어들의 시퀀스가 주어졌을 때, 다음 단어의 확률을 예측하는 모델\n",
    "\n",
    "**GPU 설치**  \n",
    "드.디.어. 로컬 환경에 GPU를 성공적으로 설치했다!!! 이번 프로젝트에서 학습 시간이 너무 오래 걸려서 이전에 실패했던 GPU 설치에 다시 도전해봤다. 그 결과로 확실히 클라우드 서비스 대신 로컬에서 GPU를 사용하면 학습 시간이 단축되고 작업을 보다 빠른 속도로 수행할 수 있었다. 이제 GPU를 통해 딥러닝 작업을 로컬에서 더욱 빠르고 효율적으로 진행할 수 있게 되었다 :)"
   ]
  },
  {
   "cell_type": "markdown",
   "id": "1a02ed2a",
   "metadata": {},
   "source": [
    "**참고한 레퍼런스**\n",
    "<br>[Python] 시퀀스 자료형 #1 리스트(list) https://kukuta.tistory.com/310\n",
    "<br>[인공지능 개념] Tensor란 무엇인가? https://rekt77.tistory.com/102\n",
    "<br>tf.keras.Model - TensorFlow https://www.tensorflow.org/api_docs/python/tf/keras/Model#fit\n",
    "<br>GPU 지원 - TensorFlow https://www.tensorflow.org/install/gpu?hl=ko\n",
    "<br>[jupyter notebook]tensorflow-gpu 사용 설정하기 https://hengbokhan.tistory.com/75"
   ]
  }
 ],
 "metadata": {
  "kernelspec": {
   "display_name": "Python 3 (ipykernel)",
   "language": "python",
   "name": "python3"
  },
  "language_info": {
   "codemirror_mode": {
    "name": "ipython",
    "version": 3
   },
   "file_extension": ".py",
   "mimetype": "text/x-python",
   "name": "python",
   "nbconvert_exporter": "python",
   "pygments_lexer": "ipython3",
   "version": "3.9.7"
  }
 },
 "nbformat": 4,
 "nbformat_minor": 5
}
