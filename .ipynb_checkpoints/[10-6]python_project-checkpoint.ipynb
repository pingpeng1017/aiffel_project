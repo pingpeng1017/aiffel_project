{
 "cells": [
  {
   "cell_type": "code",
   "execution_count": 1,
   "id": "72a6fb95",
   "metadata": {},
   "outputs": [],
   "source": [
    "# 전화 번호가 들어왔을 때 뒷자리 숫자 5개를 #####로 바꾸는 프로그램\n",
    "# 전화 번호 형태는 010-xxxxx-xxxxx\n",
    "\n",
    "def change_num(nums):\n",
    "    answer = nums.replace(nums[-5:], '#####')\n",
    "    return answer"
   ]
  },
  {
   "cell_type": "code",
   "execution_count": 2,
   "id": "de092b21",
   "metadata": {},
   "outputs": [
    {
     "data": {
      "text/plain": [
       "'010-13579-#####'"
      ]
     },
     "execution_count": 2,
     "metadata": {},
     "output_type": "execute_result"
    }
   ],
   "source": [
    "change_num('010-13579-24688')"
   ]
  },
  {
   "cell_type": "code",
   "execution_count": 3,
   "id": "51219173",
   "metadata": {},
   "outputs": [],
   "source": [
    "# 리스트 평탄화 (중첩을 모두 제거하고 풀어서 1차원 리스트로 만드는 것)\n",
    "\n",
    "def flatten(data):\n",
    "    output = []  # 빈 리스트를 만듭니다.\n",
    "    # 반복문과 재귀를 활용하여 함수 채워봐요.\n",
    "    for a in data:\n",
    "        if type(a) == list:\n",
    "            output += flatten(a)\n",
    "        else:\n",
    "            output.append(a)\n",
    "    return output"
   ]
  },
  {
   "cell_type": "code",
   "execution_count": 4,
   "id": "1821f630",
   "metadata": {},
   "outputs": [
    {
     "data": {
      "text/plain": [
       "[1, 2, 3, 4, 5, 6, 7, 8, 9]"
      ]
     },
     "execution_count": 4,
     "metadata": {},
     "output_type": "execute_result"
    }
   ],
   "source": [
    "a = [[1, 2], 3, [[4, 5, 6], 7], 8, 9]\n",
    "flatten(a)"
   ]
  },
  {
   "cell_type": "code",
   "execution_count": 5,
   "id": "f392f9e3",
   "metadata": {},
   "outputs": [],
   "source": [
    "# 10 이하 숫자만 곱해주는 함수\n",
    "\n",
    "def mul(*values):\n",
    "    # pass를 활용하여 함수를 완성해봐요!\n",
    "    output = 1\n",
    "    for num in values:\n",
    "        if num <= 10:\n",
    "            output *= num\n",
    "        else:\n",
    "            pass\n",
    "    return output"
   ]
  },
  {
   "cell_type": "code",
   "execution_count": 6,
   "id": "60e5b5c4",
   "metadata": {},
   "outputs": [
    {
     "data": {
      "text/plain": [
       "120"
      ]
     },
     "execution_count": 6,
     "metadata": {},
     "output_type": "execute_result"
    }
   ],
   "source": [
    "mul(2, 3, 4, 5)"
   ]
  }
 ],
 "metadata": {
  "kernelspec": {
   "display_name": "Python 3 (ipykernel)",
   "language": "python",
   "name": "python3"
  },
  "language_info": {
   "codemirror_mode": {
    "name": "ipython",
    "version": 3
   },
   "file_extension": ".py",
   "mimetype": "text/x-python",
   "name": "python",
   "nbconvert_exporter": "python",
   "pygments_lexer": "ipython3",
   "version": "3.9.7"
  }
 },
 "nbformat": 4,
 "nbformat_minor": 5
}
