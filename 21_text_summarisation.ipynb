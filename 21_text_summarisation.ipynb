{
 "cells": [
  {
   "cell_type": "markdown",
   "id": "af76fb72",
   "metadata": {},
   "source": [
    "## **프로젝트: 뉴스기사 요약해보기**"
   ]
  },
  {
   "cell_type": "code",
   "execution_count": 1,
   "id": "2371c185",
   "metadata": {},
   "outputs": [],
   "source": [
    "# 필요한 라이브러리 import\n",
    "import nltk\n",
    "import numpy as np\n",
    "import pandas as pd\n",
    "import os\n",
    "import re\n",
    "import matplotlib.pyplot as plt\n",
    "\n",
    "from nltk.corpus import stopwords\n",
    "from bs4 import BeautifulSoup \n",
    "from tensorflow.keras.preprocessing.text import Tokenizer \n",
    "from tensorflow.keras.preprocessing.sequence import pad_sequences\n",
    "from tensorflow.keras.layers import Input, LSTM, Embedding, Dense, Concatenate, TimeDistributed\n",
    "from tensorflow.keras.layers import AdditiveAttention\n",
    "from tensorflow.keras.models import Model\n",
    "from tensorflow.keras.callbacks import EarlyStopping, ModelCheckpoint\n",
    "\n",
    "import urllib.request\n",
    "import warnings\n",
    "warnings.filterwarnings(\"ignore\", category=UserWarning, module='bs4')"
   ]
  },
  {
   "cell_type": "markdown",
   "id": "2ba66741",
   "metadata": {},
   "source": [
    "### **Step 1. 데이터 수집하기**"
   ]
  },
  {
   "cell_type": "code",
   "execution_count": 2,
   "id": "a1b9bb80",
   "metadata": {},
   "outputs": [],
   "source": [
    "# 데이터 불러오기\n",
    "urllib.request.urlretrieve(\"https://raw.githubusercontent.com/sunnysai12345/News_Summary/master/news_summary_more.csv\", filename=\"news_summary_more.csv\")\n",
    "data = pd.read_csv('news_summary_more.csv', encoding='iso-8859-1')"
   ]
  },
  {
   "cell_type": "code",
   "execution_count": 3,
   "id": "5074acf9",
   "metadata": {},
   "outputs": [
    {
     "data": {
      "text/html": [
       "<div>\n",
       "<style scoped>\n",
       "    .dataframe tbody tr th:only-of-type {\n",
       "        vertical-align: middle;\n",
       "    }\n",
       "\n",
       "    .dataframe tbody tr th {\n",
       "        vertical-align: top;\n",
       "    }\n",
       "\n",
       "    .dataframe thead th {\n",
       "        text-align: right;\n",
       "    }\n",
       "</style>\n",
       "<table border=\"1\" class=\"dataframe\">\n",
       "  <thead>\n",
       "    <tr style=\"text-align: right;\">\n",
       "      <th></th>\n",
       "      <th>headlines</th>\n",
       "      <th>text</th>\n",
       "    </tr>\n",
       "  </thead>\n",
       "  <tbody>\n",
       "    <tr>\n",
       "      <th>79046</th>\n",
       "      <td>United Spirits profit rises 43.6% despite decl...</td>\n",
       "      <td>Liquor firm United Spirits posted a 43.6% year...</td>\n",
       "    </tr>\n",
       "    <tr>\n",
       "      <th>90038</th>\n",
       "      <td>Govt asks IITs to develop revenue model for th...</td>\n",
       "      <td>The HRD Ministry has directed all the IITs to ...</td>\n",
       "    </tr>\n",
       "    <tr>\n",
       "      <th>86960</th>\n",
       "      <td>Russian internet giant Yandex shows its self-d...</td>\n",
       "      <td>Russian internet giant Yandex on Tuesday showe...</td>\n",
       "    </tr>\n",
       "    <tr>\n",
       "      <th>25770</th>\n",
       "      <td>Grofers shuts fruits and vegetables segment in...</td>\n",
       "      <td>Gurugram-based grocery delivery startup Grofer...</td>\n",
       "    </tr>\n",
       "    <tr>\n",
       "      <th>50732</th>\n",
       "      <td>Mother Teresa is only naturalised Indian to wi...</td>\n",
       "      <td>Mother Teresa remains the only person till dat...</td>\n",
       "    </tr>\n",
       "    <tr>\n",
       "      <th>79203</th>\n",
       "      <td>Walmart developing cameras that can spot unhap...</td>\n",
       "      <td>US-based retail giant Walmart is developing a ...</td>\n",
       "    </tr>\n",
       "    <tr>\n",
       "      <th>61618</th>\n",
       "      <td>Delhi's Bhalswa landfill site catches fire</td>\n",
       "      <td>Bhalswa landfill site in New Delhi caught fire...</td>\n",
       "    </tr>\n",
       "    <tr>\n",
       "      <th>16907</th>\n",
       "      <td>Climber's body found on Europe's highest peak ...</td>\n",
       "      <td>The body of a Russian climber has been found p...</td>\n",
       "    </tr>\n",
       "    <tr>\n",
       "      <th>36796</th>\n",
       "      <td>'Sarbjit' producer accused of sexually assault...</td>\n",
       "      <td>Sandeep Singh, the producer of Randeep Hooda a...</td>\n",
       "    </tr>\n",
       "    <tr>\n",
       "      <th>14036</th>\n",
       "      <td>Man who stole $1.2 mn of wine from Goldman CEO...</td>\n",
       "      <td>Nicolas De-Meyer, a former personal assistant ...</td>\n",
       "    </tr>\n",
       "  </tbody>\n",
       "</table>\n",
       "</div>"
      ],
      "text/plain": [
       "                                               headlines  \\\n",
       "79046  United Spirits profit rises 43.6% despite decl...   \n",
       "90038  Govt asks IITs to develop revenue model for th...   \n",
       "86960  Russian internet giant Yandex shows its self-d...   \n",
       "25770  Grofers shuts fruits and vegetables segment in...   \n",
       "50732  Mother Teresa is only naturalised Indian to wi...   \n",
       "79203  Walmart developing cameras that can spot unhap...   \n",
       "61618         Delhi's Bhalswa landfill site catches fire   \n",
       "16907  Climber's body found on Europe's highest peak ...   \n",
       "36796  'Sarbjit' producer accused of sexually assault...   \n",
       "14036  Man who stole $1.2 mn of wine from Goldman CEO...   \n",
       "\n",
       "                                                    text  \n",
       "79046  Liquor firm United Spirits posted a 43.6% year...  \n",
       "90038  The HRD Ministry has directed all the IITs to ...  \n",
       "86960  Russian internet giant Yandex on Tuesday showe...  \n",
       "25770  Gurugram-based grocery delivery startup Grofer...  \n",
       "50732  Mother Teresa remains the only person till dat...  \n",
       "79203  US-based retail giant Walmart is developing a ...  \n",
       "61618  Bhalswa landfill site in New Delhi caught fire...  \n",
       "16907  The body of a Russian climber has been found p...  \n",
       "36796  Sandeep Singh, the producer of Randeep Hooda a...  \n",
       "14036  Nicolas De-Meyer, a former personal assistant ...  "
      ]
     },
     "execution_count": 3,
     "metadata": {},
     "output_type": "execute_result"
    }
   ],
   "source": [
    "# 데이터 확인\n",
    "data.sample(10)"
   ]
  },
  {
   "cell_type": "markdown",
   "id": "75e2a2a4",
   "metadata": {},
   "source": [
    "데이터는 기사의 본문에 해당되는 text와 headlines 두 가지 열로 구성되어 있다.  \n",
    "* 추상적 요약: text를 본문, headlines를 이미 요약된 데이터로 사용\n",
    "* 추출적 요약: text 열만을 사용"
   ]
  },
  {
   "cell_type": "markdown",
   "id": "beeb88ac",
   "metadata": {},
   "source": [
    "### **Step 2. 데이터 전처리하기 (추상적 요약)**"
   ]
  },
  {
   "cell_type": "markdown",
   "id": "6158f394",
   "metadata": {},
   "source": [
    "#### **중복 샘플과 NULL 값이 존재하는 샘플 제거**"
   ]
  },
  {
   "cell_type": "code",
   "execution_count": 4,
   "id": "cb316774",
   "metadata": {},
   "outputs": [
    {
     "name": "stdout",
     "output_type": "stream",
     "text": [
      "text 열에서 중복을 배제한 유일한 샘플의 수 : 98360\n",
      "headlines 열에서 중복을 배제한 유일한 샘플의 수 : 98280\n"
     ]
    }
   ],
   "source": [
    "# 중복 샘플 유무 확인\n",
    "print('text 열에서 중복을 배제한 유일한 샘플의 수 :', data['text'].nunique())\n",
    "print('headlines 열에서 중복을 배제한 유일한 샘플의 수 :', data['headlines'].nunique())"
   ]
  },
  {
   "cell_type": "markdown",
   "id": "b14251c4",
   "metadata": {},
   "source": [
    "데이터의 headlines는 아주 간단한 요약들도 많아서 text가 달라도 headlines는 동일할 수 있지만, text 자체가 중복이 된 경우는 중복 샘플이므로 제거해야 한다."
   ]
  },
  {
   "cell_type": "code",
   "execution_count": 5,
   "id": "8fc3c990",
   "metadata": {},
   "outputs": [
    {
     "name": "stdout",
     "output_type": "stream",
     "text": [
      "전체 샘플수 : 98360\n"
     ]
    }
   ],
   "source": [
    "# 중복 샘플 제거\n",
    "data.drop_duplicates(subset = ['text'], inplace=True)\n",
    "print('전체 샘플수 :', (len(data)))"
   ]
  },
  {
   "cell_type": "markdown",
   "id": "22ae437a",
   "metadata": {},
   "source": [
    "만약 Null 값을 가지는 샘플이 있었다면, 여전히 Null 값 한개가 어딘가 남아있을 수 있다."
   ]
  },
  {
   "cell_type": "code",
   "execution_count": 6,
   "id": "d680b107",
   "metadata": {},
   "outputs": [
    {
     "data": {
      "text/plain": [
       "headlines    0\n",
       "text         0\n",
       "dtype: int64"
      ]
     },
     "execution_count": 6,
     "metadata": {},
     "output_type": "execute_result"
    }
   ],
   "source": [
    "# Null 값이 있는 확인\n",
    "data.isnull().sum()"
   ]
  },
  {
   "cell_type": "markdown",
   "id": "037cfa93",
   "metadata": {},
   "source": [
    "주어진 데이터에서는 Null 값이 없기 때문에 추가적인 처리가 필요하지 않다."
   ]
  },
  {
   "cell_type": "markdown",
   "id": "90a612a9",
   "metadata": {},
   "source": [
    "#### **텍스트 정규화와 불용어 제거**"
   ]
  },
  {
   "cell_type": "code",
   "execution_count": 7,
   "id": "d4431708",
   "metadata": {},
   "outputs": [
    {
     "name": "stdout",
     "output_type": "stream",
     "text": [
      "정규화 사전의 수:  120\n"
     ]
    }
   ],
   "source": [
    "# 텍스트 정규화를 위한 사전 구성\n",
    "contractions = {\"ain't\": \"is not\", \"aren't\": \"are not\",\"can't\": \"cannot\", \"'cause\": \"because\", \"could've\": \"could have\", \"couldn't\": \"could not\",\n",
    "                           \"didn't\": \"did not\",  \"doesn't\": \"does not\", \"don't\": \"do not\", \"hadn't\": \"had not\", \"hasn't\": \"has not\", \"haven't\": \"have not\",\n",
    "                           \"he'd\": \"he would\",\"he'll\": \"he will\", \"he's\": \"he is\", \"how'd\": \"how did\", \"how'd'y\": \"how do you\", \"how'll\": \"how will\", \"how's\": \"how is\",\n",
    "                           \"I'd\": \"I would\", \"I'd've\": \"I would have\", \"I'll\": \"I will\", \"I'll've\": \"I will have\",\"I'm\": \"I am\", \"I've\": \"I have\", \"i'd\": \"i would\",\n",
    "                           \"i'd've\": \"i would have\", \"i'll\": \"i will\",  \"i'll've\": \"i will have\",\"i'm\": \"i am\", \"i've\": \"i have\", \"isn't\": \"is not\", \"it'd\": \"it would\",\n",
    "                           \"it'd've\": \"it would have\", \"it'll\": \"it will\", \"it'll've\": \"it will have\",\"it's\": \"it is\", \"let's\": \"let us\", \"ma'am\": \"madam\",\n",
    "                           \"mayn't\": \"may not\", \"might've\": \"might have\",\"mightn't\": \"might not\",\"mightn't've\": \"might not have\", \"must've\": \"must have\",\n",
    "                           \"mustn't\": \"must not\", \"mustn't've\": \"must not have\", \"needn't\": \"need not\", \"needn't've\": \"need not have\",\"o'clock\": \"of the clock\",\n",
    "                           \"oughtn't\": \"ought not\", \"oughtn't've\": \"ought not have\", \"shan't\": \"shall not\", \"sha'n't\": \"shall not\", \"shan't've\": \"shall not have\",\n",
    "                           \"she'd\": \"she would\", \"she'd've\": \"she would have\", \"she'll\": \"she will\", \"she'll've\": \"she will have\", \"she's\": \"she is\",\n",
    "                           \"should've\": \"should have\", \"shouldn't\": \"should not\", \"shouldn't've\": \"should not have\", \"so've\": \"so have\",\"so's\": \"so as\",\n",
    "                           \"this's\": \"this is\",\"that'd\": \"that would\", \"that'd've\": \"that would have\", \"that's\": \"that is\", \"there'd\": \"there would\",\n",
    "                           \"there'd've\": \"there would have\", \"there's\": \"there is\", \"here's\": \"here is\",\"they'd\": \"they would\", \"they'd've\": \"they would have\",\n",
    "                           \"they'll\": \"they will\", \"they'll've\": \"they will have\", \"they're\": \"they are\", \"they've\": \"they have\", \"to've\": \"to have\",\n",
    "                           \"wasn't\": \"was not\", \"we'd\": \"we would\", \"we'd've\": \"we would have\", \"we'll\": \"we will\", \"we'll've\": \"we will have\", \"we're\": \"we are\",\n",
    "                           \"we've\": \"we have\", \"weren't\": \"were not\", \"what'll\": \"what will\", \"what'll've\": \"what will have\", \"what're\": \"what are\",\n",
    "                           \"what's\": \"what is\", \"what've\": \"what have\", \"when's\": \"when is\", \"when've\": \"when have\", \"where'd\": \"where did\", \"where's\": \"where is\",\n",
    "                           \"where've\": \"where have\", \"who'll\": \"who will\", \"who'll've\": \"who will have\", \"who's\": \"who is\", \"who've\": \"who have\",\n",
    "                           \"why's\": \"why is\", \"why've\": \"why have\", \"will've\": \"will have\", \"won't\": \"will not\", \"won't've\": \"will not have\",\n",
    "                           \"would've\": \"would have\", \"wouldn't\": \"would not\", \"wouldn't've\": \"would not have\", \"y'all\": \"you all\",\n",
    "                           \"y'all'd\": \"you all would\",\"y'all'd've\": \"you all would have\",\"y'all're\": \"you all are\",\"y'all've\": \"you all have\",\n",
    "                           \"you'd\": \"you would\", \"you'd've\": \"you would have\", \"you'll\": \"you will\", \"you'll've\": \"you will have\",\n",
    "                           \"you're\": \"you are\", \"you've\": \"you have\"}\n",
    "\n",
    "print(\"정규화 사전의 수: \", len(contractions))"
   ]
  },
  {
   "cell_type": "markdown",
   "id": "92455a09",
   "metadata": {},
   "source": [
    "일반적으로 텍스트에는 자주 등장하지만 자연어 처리를 할 때 실질적으로 별 도움이 되지 않는 단어들이 존재하는데, 이를 불용어(stopwords)라고 한다.  \n",
    "NLTK에서 제공하는 불용어 리스트를 참조해, 샘플에서 불용어를 제거하도록 하자."
   ]
  },
  {
   "cell_type": "code",
   "execution_count": 8,
   "id": "03de71fb",
   "metadata": {},
   "outputs": [
    {
     "name": "stdout",
     "output_type": "stream",
     "text": [
      "불용어 개수 : 179\n",
      "['i', 'me', 'my', 'myself', 'we', 'our', 'ours', 'ourselves', 'you', \"you're\", \"you've\", \"you'll\", \"you'd\", 'your', 'yours', 'yourself', 'yourselves', 'he', 'him', 'his', 'himself', 'she', \"she's\", 'her', 'hers', 'herself', 'it', \"it's\", 'its', 'itself', 'they', 'them', 'their', 'theirs', 'themselves', 'what', 'which', 'who', 'whom', 'this', 'that', \"that'll\", 'these', 'those', 'am', 'is', 'are', 'was', 'were', 'be', 'been', 'being', 'have', 'has', 'had', 'having', 'do', 'does', 'did', 'doing', 'a', 'an', 'the', 'and', 'but', 'if', 'or', 'because', 'as', 'until', 'while', 'of', 'at', 'by', 'for', 'with', 'about', 'against', 'between', 'into', 'through', 'during', 'before', 'after', 'above', 'below', 'to', 'from', 'up', 'down', 'in', 'out', 'on', 'off', 'over', 'under', 'again', 'further', 'then', 'once', 'here', 'there', 'when', 'where', 'why', 'how', 'all', 'any', 'both', 'each', 'few', 'more', 'most', 'other', 'some', 'such', 'no', 'nor', 'not', 'only', 'own', 'same', 'so', 'than', 'too', 'very', 's', 't', 'can', 'will', 'just', 'don', \"don't\", 'should', \"should've\", 'now', 'd', 'll', 'm', 'o', 're', 've', 'y', 'ain', 'aren', \"aren't\", 'couldn', \"couldn't\", 'didn', \"didn't\", 'doesn', \"doesn't\", 'hadn', \"hadn't\", 'hasn', \"hasn't\", 'haven', \"haven't\", 'isn', \"isn't\", 'ma', 'mightn', \"mightn't\", 'mustn', \"mustn't\", 'needn', \"needn't\", 'shan', \"shan't\", 'shouldn', \"shouldn't\", 'wasn', \"wasn't\", 'weren', \"weren't\", 'won', \"won't\", 'wouldn', \"wouldn't\"]\n"
     ]
    }
   ],
   "source": [
    "# 불용어 개수 확인\n",
    "print('불용어 개수 :', len(stopwords.words('english') ))\n",
    "print(stopwords.words('english'))"
   ]
  },
  {
   "cell_type": "code",
   "execution_count": 9,
   "id": "b3081248",
   "metadata": {},
   "outputs": [],
   "source": [
    "# 데이터 전처리 함수\n",
    "def preprocess_sentence(sentence, remove_stopwords=True):\n",
    "    sentence = sentence.lower() # 텍스트 소문자화\n",
    "    sentence = BeautifulSoup(sentence, \"lxml\").text # <br />, <a href = ...> 등의 html 태그 제거\n",
    "    sentence = re.sub(r'\\([^)]*\\)', '', sentence) # 괄호로 닫힌 문자열 (...) 제거\n",
    "    sentence = re.sub('\"','', sentence) # 쌍따옴표 \" 제거\n",
    "    sentence = ' '.join([contractions[t] if t in contractions else t for t in sentence.split(\" \")]) # 약어 정규화\n",
    "    sentence = re.sub(r\"'s\\b\",\"\", sentence) # 소유격 제거\n",
    "    sentence = re.sub(\"[^a-zA-Z]\", \" \", sentence) # 영어 외 문자(숫자, 특수문자 등) 공백으로 변환\n",
    "    sentence = re.sub('[m]{2,}', 'mm', sentence) # m이 3개 이상이면 2개로 변경\n",
    "    \n",
    "    # 불용어 제거 (text)\n",
    "    if remove_stopwords:\n",
    "        tokens = ' '.join(word for word in sentence.split() if not word in stopwords.words('english') if len(word) > 1)\n",
    "    # 불용어 미제거 (headlines)\n",
    "    else:\n",
    "        tokens = ' '.join(word for word in sentence.split() if len(word) > 1)\n",
    "    return tokens"
   ]
  },
  {
   "cell_type": "markdown",
   "id": "bd7f4086",
   "metadata": {},
   "source": [
    "임의로 0번째 샘플을 지정하여 전처리 전과 후의 결과를 확인해보자."
   ]
  },
  {
   "cell_type": "code",
   "execution_count": 10,
   "id": "123f4fd9",
   "metadata": {},
   "outputs": [
    {
     "name": "stdout",
     "output_type": "stream",
     "text": [
      "text:  saurav kant alumnus upgrad iiit pg program machine learning artificial intelligence sr systems engineer infosys almost years work experience program upgrad degree career support helped transition data scientist tech mahindra salary hike upgrad online power learning powered lakh careers\n",
      "headlines: upgrad learner switches to career in ml al with salary hike\n"
     ]
    }
   ],
   "source": [
    "temp_text = data['text'][0]\n",
    "temp_headlines = data['headlines'][0]\n",
    "\n",
    "print(\"text: \", preprocess_sentence(temp_text))\n",
    "print(\"headlines:\", preprocess_sentence(temp_headlines, False))"
   ]
  },
  {
   "cell_type": "markdown",
   "id": "404f773a",
   "metadata": {},
   "source": [
    "전처리 함수가 잘 작동하는 것을 확인했으므로, 이제 전체 훈련 데이터에 대해 전처리를 수행한다.  \n",
    "text 열의 경우 불용어를 제거하고, headlines 열의 경우 불용어를 제거하지 않는다."
   ]
  },
  {
   "cell_type": "code",
   "execution_count": 11,
   "id": "6296f879",
   "metadata": {},
   "outputs": [
    {
     "name": "stdout",
     "output_type": "stream",
     "text": [
      "text 전처리 후 결과:  ['saurav kant alumnus upgrad iiit pg program machine learning artificial intelligence sr systems engineer infosys almost years work experience program upgrad degree career support helped transition data scientist tech mahindra salary hike upgrad online power learning powered lakh careers', 'kunal shah credit card bill payment platform cred gave users chance win free food swiggy one year pranav kaushik delhi techie bagged reward spending cred coins users get one cred coin per rupee bill paid used avail rewards brands like ixigo bookmyshow ubereats cult fit', 'new zealand defeated india wickets fourth odi hamilton thursday win first match five match odi series india lost international match rohit sharma captaincy consecutive victories dating back march match witnessed india getting seventh lowest total odi cricket history', 'aegon life iterm insurance plan customers enjoy tax benefits premiums paid save taxes plan provides life cover age years also customers options insure critical illnesses disability accidental death benefit rider life cover age years', 'speaking sexual harassment allegations rajkumar hirani sonam kapoor said known hirani many years true metoo movement get derailed metoo movement always believe woman case need reserve judgment added hirani accused assistant worked sanju']\n"
     ]
    }
   ],
   "source": [
    "clean_text = []\n",
    "\n",
    "# 전체 text 데이터에 대한 전처리\n",
    "for s in data['text']:\n",
    "    clean_text.append(preprocess_sentence(s))\n",
    "\n",
    "# 전처리 후 출력\n",
    "print(\"text 전처리 후 결과: \", clean_text[:5])"
   ]
  },
  {
   "cell_type": "code",
   "execution_count": 12,
   "id": "9d79247b",
   "metadata": {},
   "outputs": [
    {
     "name": "stdout",
     "output_type": "stream",
     "text": [
      "headlines 전처리 후 결과:  ['upgrad learner switches to career in ml al with salary hike', 'delhi techie wins free food from swiggy for one year on cred', 'new zealand end rohit sharma led india match winning streak', 'aegon life iterm insurance plan helps customers save tax', 'have known hirani for yrs what if metoo claims are not true sonam']\n"
     ]
    }
   ],
   "source": [
    "clean_headlines = []\n",
    "\n",
    "# 전체 headlines 데이터에 대한 전처리\n",
    "for s in data['headlines']:\n",
    "    clean_headlines.append(preprocess_sentence(s, False))\n",
    "\n",
    "print(\"headlines 전처리 후 결과: \", clean_headlines[:5])"
   ]
  },
  {
   "cell_type": "markdown",
   "id": "c844d9a1",
   "metadata": {},
   "source": [
    "이렇게 텍스트 정제의 과정을 거친 후에는 다시 한번 빈(empty) 샘플이 생겼는지 확인해보는 것이 좋다."
   ]
  },
  {
   "cell_type": "code",
   "execution_count": 13,
   "id": "42d1e56f",
   "metadata": {},
   "outputs": [],
   "source": [
    "data['text'] = clean_text\n",
    "data['healines'] = clean_headlines\n",
    "\n",
    "# 빈 값을 Null 값으로 변환\n",
    "data.replace('', np.nan, inplace=True)"
   ]
  },
  {
   "cell_type": "code",
   "execution_count": 14,
   "id": "39919ea0",
   "metadata": {},
   "outputs": [
    {
     "data": {
      "text/plain": [
       "headlines    0\n",
       "text         0\n",
       "healines     0\n",
       "dtype: int64"
      ]
     },
     "execution_count": 14,
     "metadata": {},
     "output_type": "execute_result"
    }
   ],
   "source": [
    "# Null 값이 생겼는지 확인\n",
    "data.isnull().sum()"
   ]
  },
  {
   "cell_type": "code",
   "execution_count": 15,
   "id": "d6146c86",
   "metadata": {},
   "outputs": [
    {
     "name": "stdout",
     "output_type": "stream",
     "text": [
      "전체 샘플수 : 98360\n"
     ]
    }
   ],
   "source": [
    "print('전체 샘플수 :', (len(data)))"
   ]
  },
  {
   "cell_type": "markdown",
   "id": "b0f1f36a",
   "metadata": {},
   "source": [
    "#### **샘플의 최대 길이 정하기**"
   ]
  },
  {
   "cell_type": "code",
   "execution_count": 16,
   "id": "ac8eca53",
   "metadata": {},
   "outputs": [
    {
     "name": "stdout",
     "output_type": "stream",
     "text": [
      "텍스트의 최소 길이: 1\n",
      "텍스트의 최대 길이: 60\n",
      "텍스트의 평균 길이: 35.09968483123221\n",
      "요약의 최소 길이: 1\n",
      "요약의 최대 길이: 18\n",
      "요약의 평균 길이: 9.553660024400163\n"
     ]
    },
    {
     "data": {
      "image/png": "[encoded data removed]",
      "text/plain": [
       "<Figure size 640x480 with 2 Axes>"
      ]
     },
     "metadata": {},
     "output_type": "display_data"
    },
    {
     "data": {
      "image/png": "[encoded data removed]",
      "text/plain": [
       "<Figure size 640x480 with 1 Axes>"
      ]
     },
     "metadata": {},
     "output_type": "display_data"
    },
    {
     "data": {
      "image/png": "[encoded data removed]",
      "text/plain": [
       "<Figure size 640x480 with 1 Axes>"
      ]
     },
     "metadata": {},
     "output_type": "display_data"
    }
   ],
   "source": [
    "# 길이 분포 출력\n",
    "text_len = [len(s.split()) for s in data['text']]\n",
    "headlines_len = [len(s.split()) for s in data['headlines']]\n",
    "\n",
    "print('텍스트의 최소 길이: {}'.format(np.min(text_len)))\n",
    "print('텍스트의 최대 길이: {}'.format(np.max(text_len)))\n",
    "print('텍스트의 평균 길이: {}'.format(np.mean(text_len)))\n",
    "print('요약의 최소 길이: {}'.format(np.min(headlines_len)))\n",
    "print('요약의 최대 길이: {}'.format(np.max(headlines_len)))\n",
    "print('요약의 평균 길이: {}'.format(np.mean(headlines_len)))\n",
    "\n",
    "plt.subplot(1, 2, 1)\n",
    "plt.boxplot(headlines_len)\n",
    "plt.title('Headlines')\n",
    "plt.subplot(1, 2, 2)\n",
    "plt.boxplot(text_len)\n",
    "plt.title('Text')\n",
    "plt.tight_layout()\n",
    "plt.show()\n",
    "\n",
    "plt.title('Headlines')\n",
    "plt.hist(headlines_len, bins=40)\n",
    "plt.xlabel('Length of Samples')\n",
    "plt.ylabel('Number of Samples')\n",
    "plt.show()\n",
    "\n",
    "plt.title('Text')\n",
    "plt.hist(text_len, bins=40)\n",
    "plt.xlabel('Length of Samples')\n",
    "plt.ylabel('Number of Samples')\n",
    "plt.show()"
   ]
  },
  {
   "cell_type": "markdown",
   "id": "87e873d0",
   "metadata": {},
   "source": [
    "text의 최대 길이와 headlines의 적절한 최대 길이를 임의로 정해보자."
   ]
  },
  {
   "cell_type": "code",
   "execution_count": 17,
   "id": "f3483659",
   "metadata": {},
   "outputs": [],
   "source": [
    "# 최대 길이 지정\n",
    "text_max_len = 43\n",
    "headlines_max_len = 12"
   ]
  },
  {
   "cell_type": "markdown",
   "id": "c3a2f70f",
   "metadata": {},
   "source": [
    "이 길이를 선택했을 때, 얼마나 많은 샘플들을 자르지 않고 포함할 수 있는지 통계로 확인하는 편이 객관적으로 길이를 결정하는 데 도움이 된다."
   ]
  },
  {
   "cell_type": "code",
   "execution_count": 18,
   "id": "5fc60cd9",
   "metadata": {},
   "outputs": [],
   "source": [
    "# 데이터의 몇 %가 해당하는지 계산하는 함수\n",
    "def below_threshold_len(max_len, nested_list):\n",
    "    cnt = 0\n",
    "    for s in nested_list:\n",
    "        if(len(s.split()) <= max_len):\n",
    "            cnt = cnt + 1\n",
    "    print('전체 샘플 중 길이가 %s 이하인 샘플의 비율: %s'%(max_len, (cnt / len(nested_list))))"
   ]
  },
  {
   "cell_type": "code",
   "execution_count": 19,
   "id": "41266b93",
   "metadata": {},
   "outputs": [
    {
     "name": "stdout",
     "output_type": "stream",
     "text": [
      "전체 샘플 중 길이가 43 이하인 샘플의 비율: 0.9871797478649857\n",
      "전체 샘플 중 길이가 12 이하인 샘플의 비율: 0.9768198454656364\n"
     ]
    }
   ],
   "source": [
    "below_threshold_len(text_max_len, data['text'])\n",
    "below_threshold_len(headlines_max_len, data['headlines'])"
   ]
  },
  {
   "cell_type": "markdown",
   "id": "963830a8",
   "metadata": {},
   "source": [
    "정해진 길이에 맞춰 자르는 것이 아니라, 정해진 길이보다 길면 제외하는 방법으로 데이터를 정제하도록 하자."
   ]
  },
  {
   "cell_type": "code",
   "execution_count": 20,
   "id": "27bfbbb6",
   "metadata": {},
   "outputs": [
    {
     "name": "stdout",
     "output_type": "stream",
     "text": [
      "전체 샘플수 : 94839\n"
     ]
    }
   ],
   "source": [
    "data = data[data['text'].apply(lambda x: len(x.split()) <= text_max_len)]\n",
    "data = data[data['headlines'].apply(lambda x: len(x.split()) <= headlines_max_len)]\n",
    "print('전체 샘플수 :', (len(data)))"
   ]
  },
  {
   "cell_type": "markdown",
   "id": "b8e2a414",
   "metadata": {},
   "source": [
    "#### **시작 토큰과 종료 토큰 추가하기**"
   ]
  },
  {
   "cell_type": "code",
   "execution_count": 21,
   "id": "741c92d0",
   "metadata": {
    "scrolled": false
   },
   "outputs": [
    {
     "data": {
      "text/html": [
       "<div>\n",
       "<style scoped>\n",
       "    .dataframe tbody tr th:only-of-type {\n",
       "        vertical-align: middle;\n",
       "    }\n",
       "\n",
       "    .dataframe tbody tr th {\n",
       "        vertical-align: top;\n",
       "    }\n",
       "\n",
       "    .dataframe thead th {\n",
       "        text-align: right;\n",
       "    }\n",
       "</style>\n",
       "<table border=\"1\" class=\"dataframe\">\n",
       "  <thead>\n",
       "    <tr style=\"text-align: right;\">\n",
       "      <th></th>\n",
       "      <th>headlines</th>\n",
       "      <th>text</th>\n",
       "      <th>healines</th>\n",
       "      <th>decoder_input</th>\n",
       "      <th>decoder_target</th>\n",
       "    </tr>\n",
       "  </thead>\n",
       "  <tbody>\n",
       "    <tr>\n",
       "      <th>2</th>\n",
       "      <td>New Zealand end Rohit Sharma-led India's 12-ma...</td>\n",
       "      <td>new zealand defeated india wickets fourth odi ...</td>\n",
       "      <td>new zealand end rohit sharma led india match w...</td>\n",
       "      <td>sostoken New Zealand end Rohit Sharma-led Indi...</td>\n",
       "      <td>New Zealand end Rohit Sharma-led India's 12-ma...</td>\n",
       "    </tr>\n",
       "    <tr>\n",
       "      <th>3</th>\n",
       "      <td>Aegon life iTerm insurance plan helps customer...</td>\n",
       "      <td>aegon life iterm insurance plan customers enjo...</td>\n",
       "      <td>aegon life iterm insurance plan helps customer...</td>\n",
       "      <td>sostoken Aegon life iTerm insurance plan helps...</td>\n",
       "      <td>Aegon life iTerm insurance plan helps customer...</td>\n",
       "    </tr>\n",
       "    <tr>\n",
       "      <th>5</th>\n",
       "      <td>Rahat Fateh Ali Khan denies getting notice for...</td>\n",
       "      <td>pakistani singer rahat fateh ali khan denied r...</td>\n",
       "      <td>rahat fateh ali khan denies getting notice for...</td>\n",
       "      <td>sostoken Rahat Fateh Ali Khan denies getting n...</td>\n",
       "      <td>Rahat Fateh Ali Khan denies getting notice for...</td>\n",
       "    </tr>\n",
       "    <tr>\n",
       "      <th>7</th>\n",
       "      <td>Govt directs Alok Verma to join work 1 day bef...</td>\n",
       "      <td>weeks ex cbi director alok verma told departme...</td>\n",
       "      <td>govt directs alok verma to join work day befor...</td>\n",
       "      <td>sostoken Govt directs Alok Verma to join work ...</td>\n",
       "      <td>Govt directs Alok Verma to join work 1 day bef...</td>\n",
       "    </tr>\n",
       "    <tr>\n",
       "      <th>8</th>\n",
       "      <td>Called PM Modi 'sir' 10 times to satisfy his e...</td>\n",
       "      <td>andhra pradesh cm chandrababu naidu said met u...</td>\n",
       "      <td>called pm modi sir times to satisfy his ego an...</td>\n",
       "      <td>sostoken Called PM Modi 'sir' 10 times to sati...</td>\n",
       "      <td>Called PM Modi 'sir' 10 times to satisfy his e...</td>\n",
       "    </tr>\n",
       "  </tbody>\n",
       "</table>\n",
       "</div>"
      ],
      "text/plain": [
       "                                           headlines  \\\n",
       "2  New Zealand end Rohit Sharma-led India's 12-ma...   \n",
       "3  Aegon life iTerm insurance plan helps customer...   \n",
       "5  Rahat Fateh Ali Khan denies getting notice for...   \n",
       "7  Govt directs Alok Verma to join work 1 day bef...   \n",
       "8  Called PM Modi 'sir' 10 times to satisfy his e...   \n",
       "\n",
       "                                                text  \\\n",
       "2  new zealand defeated india wickets fourth odi ...   \n",
       "3  aegon life iterm insurance plan customers enjo...   \n",
       "5  pakistani singer rahat fateh ali khan denied r...   \n",
       "7  weeks ex cbi director alok verma told departme...   \n",
       "8  andhra pradesh cm chandrababu naidu said met u...   \n",
       "\n",
       "                                            healines  \\\n",
       "2  new zealand end rohit sharma led india match w...   \n",
       "3  aegon life iterm insurance plan helps customer...   \n",
       "5  rahat fateh ali khan denies getting notice for...   \n",
       "7  govt directs alok verma to join work day befor...   \n",
       "8  called pm modi sir times to satisfy his ego an...   \n",
       "\n",
       "                                       decoder_input  \\\n",
       "2  sostoken New Zealand end Rohit Sharma-led Indi...   \n",
       "3  sostoken Aegon life iTerm insurance plan helps...   \n",
       "5  sostoken Rahat Fateh Ali Khan denies getting n...   \n",
       "7  sostoken Govt directs Alok Verma to join work ...   \n",
       "8  sostoken Called PM Modi 'sir' 10 times to sati...   \n",
       "\n",
       "                                      decoder_target  \n",
       "2  New Zealand end Rohit Sharma-led India's 12-ma...  \n",
       "3  Aegon life iTerm insurance plan helps customer...  \n",
       "5  Rahat Fateh Ali Khan denies getting notice for...  \n",
       "7  Govt directs Alok Verma to join work 1 day bef...  \n",
       "8  Called PM Modi 'sir' 10 times to satisfy his e...  "
      ]
     },
     "execution_count": 21,
     "metadata": {},
     "output_type": "execute_result"
    }
   ],
   "source": [
    "# 요약 데이터에 시작 토큰과 종료 토큰 추가\n",
    "data['decoder_input'] = data['headlines'].apply(lambda x : 'sostoken '+ x)\n",
    "data['decoder_target'] = data['headlines'].apply(lambda x : x + ' eostoken')\n",
    "data.head()"
   ]
  },
  {
   "cell_type": "code",
   "execution_count": 22,
   "id": "04b1b0ce",
   "metadata": {},
   "outputs": [],
   "source": [
    "# Numpy 타입으로 저장\n",
    "encoder_input = np.array(data['text']) # 인코더의 입력\n",
    "decoder_input = np.array(data['decoder_input']) # 디코더의 입력\n",
    "decoder_target = np.array(data['decoder_target']) # 디코더의 레이블"
   ]
  },
  {
   "cell_type": "markdown",
   "id": "5d46b192",
   "metadata": {},
   "source": [
    "#### **훈련 데이터와 테스트 데이터 분리하기**"
   ]
  },
  {
   "cell_type": "code",
   "execution_count": 23,
   "id": "2c29a290",
   "metadata": {},
   "outputs": [
    {
     "data": {
      "text/plain": [
       "array([29204, 76066,  8334, ...,  1044, 26845, 81108])"
      ]
     },
     "execution_count": 23,
     "metadata": {},
     "output_type": "execute_result"
    }
   ],
   "source": [
    "# 크기와 형태가 같은 순서가 섞인 정수 시퀀스 생성\n",
    "indices = np.arange(encoder_input.shape[0])\n",
    "np.random.shuffle(indices)\n",
    "indices"
   ]
  },
  {
   "cell_type": "code",
   "execution_count": 24,
   "id": "4acc42aa",
   "metadata": {},
   "outputs": [],
   "source": [
    "# 데이터의 샘플 순서 정의\n",
    "encoder_input = encoder_input[indices]\n",
    "decoder_input = decoder_input[indices]\n",
    "decoder_target = decoder_target[indices]"
   ]
  },
  {
   "cell_type": "code",
   "execution_count": 25,
   "id": "b1bc6843",
   "metadata": {},
   "outputs": [
    {
     "name": "stdout",
     "output_type": "stream",
     "text": [
      "테스트 데이터의 수 : 18967\n"
     ]
    }
   ],
   "source": [
    "# 테스트 데이터의 크기 정의\n",
    "n_of_val = int(len(encoder_input)*0.2)\n",
    "print('테스트 데이터의 수 :', n_of_val)"
   ]
  },
  {
   "cell_type": "code",
   "execution_count": 26,
   "id": "6d6c9bbe",
   "metadata": {},
   "outputs": [
    {
     "name": "stdout",
     "output_type": "stream",
     "text": [
      "훈련 데이터의 개수 : 75872\n",
      "훈련 레이블의 개수 : 75872\n",
      "테스트 데이터의 개수 : 18967\n",
      "테스트 레이블의 개수 : 18967\n"
     ]
    }
   ],
   "source": [
    "# 전체 데이터 양분\n",
    "encoder_input_train = encoder_input[:-n_of_val]\n",
    "decoder_input_train = decoder_input[:-n_of_val]\n",
    "decoder_target_train = decoder_target[:-n_of_val]\n",
    "\n",
    "encoder_input_test = encoder_input[-n_of_val:]\n",
    "decoder_input_test = decoder_input[-n_of_val:]\n",
    "decoder_target_test = decoder_target[-n_of_val:]\n",
    "\n",
    "print('훈련 데이터의 개수 :', len(encoder_input_train))\n",
    "print('훈련 레이블의 개수 :', len(decoder_input_train))\n",
    "print('테스트 데이터의 개수 :', len(encoder_input_test))\n",
    "print('테스트 레이블의 개수 :', len(decoder_input_test))"
   ]
  },
  {
   "cell_type": "markdown",
   "id": "3ae58ce0",
   "metadata": {},
   "source": [
    "훈련 데이터와 테스트 데이터가 잘 분리된 것을 볼 수 있다."
   ]
  },
  {
   "cell_type": "markdown",
   "id": "93fe7869",
   "metadata": {},
   "source": [
    "#### **단어 집합(vocabulary) 만들기 및 정수 인코딩**"
   ]
  },
  {
   "cell_type": "code",
   "execution_count": 27,
   "id": "61152e5b",
   "metadata": {},
   "outputs": [],
   "source": [
    "src_tokenizer = Tokenizer() # 토크나이저 정의\n",
    "src_tokenizer.fit_on_texts(encoder_input_train) # 입력된 데이터로부터 단어 집합 생성"
   ]
  },
  {
   "cell_type": "markdown",
   "id": "51c8adff",
   "metadata": {},
   "source": [
    "이렇게 만든 단어 집합에 있는 모든 단어를 사용하는 것이 아니라, 빈도수가 낮은 단어들은 훈련 데이터에서 제외하고 진행하기로 한다."
   ]
  },
  {
   "cell_type": "code",
   "execution_count": 28,
   "id": "08af981f",
   "metadata": {},
   "outputs": [
    {
     "name": "stdout",
     "output_type": "stream",
     "text": [
      "단어 집합(vocabulary)의 크기 : 68338\n",
      "등장 빈도가 6번 이하인 희귀 단어의 수: 46554\n",
      "단어 집합에서 희귀 단어를 제외시킬 경우의 단어 집합의 크기 21784\n",
      "단어 집합에서 희귀 단어의 비율: 68.12315256519067\n",
      "전체 등장 빈도에서 희귀 단어 등장 빈도 비율: 3.566378650893562\n"
     ]
    }
   ],
   "source": [
    "threshold = 7\n",
    "total_cnt = len(src_tokenizer.word_index) # 단어의 수\n",
    "rare_cnt = 0 # 등장 빈도수가 threshold보다 작은 단어의 개수를 카운트\n",
    "total_freq = 0 # 훈련 데이터의 전체 단어 빈도수 총 합\n",
    "rare_freq = 0 # 등장 빈도수가 threshold보다 작은 단어의 등장 빈도수의 총 합\n",
    "\n",
    "# 단어와 빈도수의 쌍(pair)을 key와 value로 받는다.\n",
    "for key, value in src_tokenizer.word_counts.items():\n",
    "    total_freq = total_freq + value\n",
    "\n",
    "    # 단어의 등장 빈도수가 threshold보다 작으면\n",
    "    if(value < threshold):\n",
    "        rare_cnt = rare_cnt + 1\n",
    "        rare_freq = rare_freq + value\n",
    "\n",
    "print('단어 집합(vocabulary)의 크기 :', total_cnt)\n",
    "print('등장 빈도가 %s번 이하인 희귀 단어의 수: %s'%(threshold - 1, rare_cnt))\n",
    "print('단어 집합에서 희귀 단어를 제외시킬 경우의 단어 집합의 크기 %s'%(total_cnt - rare_cnt))\n",
    "print(\"단어 집합에서 희귀 단어의 비율:\", (rare_cnt / total_cnt)*100)\n",
    "print(\"전체 등장 빈도에서 희귀 단어 등장 빈도 비율:\", (rare_freq / total_freq)*100)"
   ]
  },
  {
   "cell_type": "markdown",
   "id": "fb3ebeba",
   "metadata": {},
   "source": [
    "등장 빈도로 차지하는 비중은 상대적으로 적은 수치이기 때문에 등장 빈도가 6회 이하인 단어들은 정수 인코딩 과정에서 빼고, 훈련 데이터에서 제거하고자 한다."
   ]
  },
  {
   "cell_type": "code",
   "execution_count": 29,
   "id": "8af58600",
   "metadata": {},
   "outputs": [],
   "source": [
    "src_vocab = 21000 # 희귀 단어를 제외한 단어 집합의 크기\n",
    "src_tokenizer = Tokenizer(num_words=src_vocab) # 단어 집합의 크기를 8,000으로 제한\n",
    "src_tokenizer.fit_on_texts(encoder_input_train) # 단어 집합 재생성"
   ]
  },
  {
   "cell_type": "code",
   "execution_count": 30,
   "id": "8a07af1b",
   "metadata": {},
   "outputs": [
    {
     "name": "stdout",
     "output_type": "stream",
     "text": [
      "[[1137, 78, 19058, 13515, 76, 11943, 2834, 15692, 5298, 15, 861, 891, 6036, 342, 169, 612, 1506, 51, 623, 1645, 11943, 5298, 891, 6036, 184, 1506, 19058, 1091, 1, 10, 119, 3943, 1645, 11943, 2639], [1663, 2866, 130, 2507, 1067, 781, 1046, 7858, 8213, 15, 7964, 4135, 64, 389, 463, 33, 86, 720, 132, 266, 101, 7964, 4135, 640, 227, 720, 960, 599, 1180, 1, 8213, 5144, 15, 5003, 2583, 36], [27, 494, 3109, 425, 218, 419, 172, 1497, 69, 1414, 1047, 926, 435, 639, 4195, 58, 2, 155, 284, 58, 155, 223, 467, 4100, 765, 435, 885, 74, 33, 2124, 58, 14488, 3038, 2540]]\n"
     ]
    }
   ],
   "source": [
    "# 텍스트 시퀀스를 정수 시퀀스로 변환\n",
    "encoder_input_train = src_tokenizer.texts_to_sequences(encoder_input_train) \n",
    "encoder_input_test = src_tokenizer.texts_to_sequences(encoder_input_test)\n",
    "\n",
    "# 잘 진행되었는지 샘플 출력\n",
    "print(encoder_input_train[:3])"
   ]
  },
  {
   "cell_type": "markdown",
   "id": "0a0b5a2f",
   "metadata": {},
   "source": [
    "headlines 데이터에도 동일한 작업을 수행해주자."
   ]
  },
  {
   "cell_type": "code",
   "execution_count": 31,
   "id": "deb7ed9e",
   "metadata": {},
   "outputs": [],
   "source": [
    "tar_tokenizer = Tokenizer()\n",
    "tar_tokenizer.fit_on_texts(decoder_input_train)"
   ]
  },
  {
   "cell_type": "code",
   "execution_count": 32,
   "id": "d1e1dd4b",
   "metadata": {},
   "outputs": [
    {
     "name": "stdout",
     "output_type": "stream",
     "text": [
      "단어 집합(vocabulary)의 크기 : 40183\n",
      "등장 빈도가 5번 이하인 희귀 단어의 수: 29086\n",
      "단어 집합에서 희귀 단어를 제외시킬 경우의 단어 집합의 크기 11097\n",
      "단어 집합에서 희귀 단어의 비율: 72.38384391409302\n",
      "전체 등장 빈도에서 희귀 단어 등장 빈도 비율: 6.3507207937326555\n"
     ]
    }
   ],
   "source": [
    "threshold = 6\n",
    "total_cnt = len(tar_tokenizer.word_index) # 단어의 수\n",
    "rare_cnt = 0 # 등장 빈도수가 threshold보다 작은 단어의 개수를 카운트\n",
    "total_freq = 0 # 훈련 데이터의 전체 단어 빈도수 총 합\n",
    "rare_freq = 0 # 등장 빈도수가 threshold보다 작은 단어의 등장 빈도수의 총 합\n",
    "\n",
    "# 단어와 빈도수의 쌍(pair)을 key와 value로 받는다.\n",
    "for key, value in tar_tokenizer.word_counts.items():\n",
    "    total_freq = total_freq + value\n",
    "\n",
    "    # 단어의 등장 빈도수가 threshold보다 작으면\n",
    "    if(value < threshold):\n",
    "        rare_cnt = rare_cnt + 1\n",
    "        rare_freq = rare_freq + value\n",
    "\n",
    "print('단어 집합(vocabulary)의 크기 :', total_cnt)\n",
    "print('등장 빈도가 %s번 이하인 희귀 단어의 수: %s'%(threshold - 1, rare_cnt))\n",
    "print('단어 집합에서 희귀 단어를 제외시킬 경우의 단어 집합의 크기 %s'%(total_cnt - rare_cnt))\n",
    "print(\"단어 집합에서 희귀 단어의 비율:\", (rare_cnt / total_cnt)*100)\n",
    "print(\"전체 등장 빈도에서 희귀 단어 등장 빈도 비율:\", (rare_freq / total_freq)*100)"
   ]
  },
  {
   "cell_type": "code",
   "execution_count": 33,
   "id": "37c4c9a5",
   "metadata": {},
   "outputs": [
    {
     "name": "stdout",
     "output_type": "stream",
     "text": [
      "input\n",
      "input [[1, 269, 127, 9238, 2062, 10, 2445, 939, 4800], [1, 121, 3, 2497, 541, 40, 6377, 17, 1116, 2093], [1, 263, 118, 415, 281, 10, 18, 940, 6, 2498], [1, 3208, 3849, 76, 72, 349, 256, 4, 5801, 125], [1, 1531, 3367, 6714, 1941, 23, 49, 4, 842]]\n",
      "target\n",
      "decoder [[269, 127, 9238, 2062, 10, 2445, 939, 4800, 2], [121, 3, 2497, 541, 40, 6377, 17, 1116, 2093, 2], [263, 118, 415, 281, 10, 18, 940, 6, 2498, 2], [3208, 3849, 76, 72, 349, 256, 4, 5801, 125, 2], [1531, 3367, 6714, 1941, 23, 49, 4, 842, 2]]\n"
     ]
    }
   ],
   "source": [
    "tar_vocab = 11000\n",
    "tar_tokenizer = Tokenizer(num_words=tar_vocab) \n",
    "tar_tokenizer.fit_on_texts(decoder_input_train)\n",
    "tar_tokenizer.fit_on_texts(decoder_target_train)\n",
    "\n",
    "# 텍스트 시퀀스를 정수 시퀀스로 변환\n",
    "decoder_input_train = tar_tokenizer.texts_to_sequences(decoder_input_train) \n",
    "decoder_target_train = tar_tokenizer.texts_to_sequences(decoder_target_train)\n",
    "decoder_input_test = tar_tokenizer.texts_to_sequences(decoder_input_test)\n",
    "decoder_target_test = tar_tokenizer.texts_to_sequences(decoder_target_test)\n",
    "\n",
    "# 잘 변환되었는지 확인\n",
    "print('input')\n",
    "print('input',decoder_input_train[:5])\n",
    "print('target')\n",
    "print('decoder',decoder_target_train[:5])"
   ]
  },
  {
   "cell_type": "markdown",
   "id": "4aeb7dc0",
   "metadata": {},
   "source": [
    "정수 인코딩 작업 후, 빈도수가 낮은 단어가 삭제되어 빈(empty) 샘플이 발생할 수 있다.  \n",
    "따라서 길이가 0인 요약문의 인덱스를 삭제해야 하는데, sostoken과 eostoken과 같은 토큰은 삭제되지 않으므로 실제 길이는 1이 된다."
   ]
  },
  {
   "cell_type": "code",
   "execution_count": 34,
   "id": "d17d1055",
   "metadata": {},
   "outputs": [
    {
     "name": "stdout",
     "output_type": "stream",
     "text": [
      "삭제할 훈련 데이터의 개수 : 0\n",
      "삭제할 테스트 데이터의 개수 : 0\n",
      "훈련 데이터의 개수 : 75872\n",
      "훈련 레이블의 개수 : 75872\n",
      "테스트 데이터의 개수 : 18967\n",
      "테스트 레이블의 개수 : 18967\n"
     ]
    }
   ],
   "source": [
    "# 길이가 1인 인덱스 삭제\n",
    "drop_train = [index for index, sentence in enumerate(decoder_input_train) if len(sentence) == 1]\n",
    "drop_test = [index for index, sentence in enumerate(decoder_input_test) if len(sentence) == 1]\n",
    "\n",
    "print('삭제할 훈련 데이터의 개수 :', len(drop_train))\n",
    "print('삭제할 테스트 데이터의 개수 :', len(drop_test))\n",
    "\n",
    "encoder_input_train = [sentence for index, sentence in enumerate(encoder_input_train) if index not in drop_train]\n",
    "decoder_input_train = [sentence for index, sentence in enumerate(decoder_input_train) if index not in drop_train]\n",
    "decoder_target_train = [sentence for index, sentence in enumerate(decoder_target_train) if index not in drop_train]\n",
    "\n",
    "encoder_input_test = [sentence for index, sentence in enumerate(encoder_input_test) if index not in drop_test]\n",
    "decoder_input_test = [sentence for index, sentence in enumerate(decoder_input_test) if index not in drop_test]\n",
    "decoder_target_test = [sentence for index, sentence in enumerate(decoder_target_test) if index not in drop_test]\n",
    "\n",
    "print('훈련 데이터의 개수 :', len(encoder_input_train))\n",
    "print('훈련 레이블의 개수 :', len(decoder_input_train))\n",
    "print('테스트 데이터의 개수 :', len(encoder_input_test))\n",
    "print('테스트 레이블의 개수 :', len(decoder_input_test))"
   ]
  },
  {
   "cell_type": "markdown",
   "id": "daaf370e",
   "metadata": {},
   "source": [
    "훈련 데이터와 테스트 데이터 모두 일정량의 샘플들이 제거된 것을 확인할 수 있다."
   ]
  },
  {
   "cell_type": "markdown",
   "id": "e1c6461e",
   "metadata": {},
   "source": [
    "#### **패딩하기**"
   ]
  },
  {
   "cell_type": "markdown",
   "id": "41ce156a",
   "metadata": {},
   "source": [
    "최대 길이보다 짧은 데이터들은 뒤의 공간에 숫자 0을 넣어 최대 길이로 길이를 맞춰주자."
   ]
  },
  {
   "cell_type": "code",
   "execution_count": 35,
   "id": "1070a5ea",
   "metadata": {},
   "outputs": [],
   "source": [
    "encoder_input_train = pad_sequences(encoder_input_train, maxlen=text_max_len, padding='post')\n",
    "encoder_input_test = pad_sequences(encoder_input_test, maxlen=text_max_len, padding='post')\n",
    "decoder_input_train = pad_sequences(decoder_input_train, maxlen=headlines_max_len, padding='post')\n",
    "decoder_target_train = pad_sequences(decoder_target_train, maxlen=headlines_max_len, padding='post')\n",
    "decoder_input_test = pad_sequences(decoder_input_test, maxlen=headlines_max_len, padding='post')\n",
    "decoder_target_test = pad_sequences(decoder_target_test, maxlen=headlines_max_len, padding='post')"
   ]
  },
  {
   "cell_type": "markdown",
   "id": "fac3c203",
   "metadata": {},
   "source": [
    "### **Step 3. 어텐션 메커니즘 사용하기 (추상적 요약)**"
   ]
  },
  {
   "cell_type": "markdown",
   "id": "cef8af1a",
   "metadata": {},
   "source": [
    "#### **모델 설계하기**"
   ]
  },
  {
   "cell_type": "code",
   "execution_count": 36,
   "id": "d1f3d60c",
   "metadata": {},
   "outputs": [
    {
     "name": "stdout",
     "output_type": "stream",
     "text": [
      "WARNING:tensorflow:Layer lstm will not use cuDNN kernels since it doesn't meet the criteria. It will use a generic GPU kernel as fallback when running on GPU.\n",
      "WARNING:tensorflow:Layer lstm_1 will not use cuDNN kernels since it doesn't meet the criteria. It will use a generic GPU kernel as fallback when running on GPU.\n",
      "WARNING:tensorflow:Layer lstm_2 will not use cuDNN kernels since it doesn't meet the criteria. It will use a generic GPU kernel as fallback when running on GPU.\n"
     ]
    }
   ],
   "source": [
    "# 인코더 설계 시작\n",
    "embedding_dim = 256\n",
    "hidden_size = 256\n",
    "\n",
    "# 인코더\n",
    "encoder_inputs = Input(shape=(text_max_len,))\n",
    "\n",
    "# 인코더의 임베딩 층\n",
    "enc_emb = Embedding(src_vocab, embedding_dim)(encoder_inputs)\n",
    "\n",
    "# 인코더의 LSTM 1\n",
    "encoder_lstm1 = LSTM(hidden_size, return_sequences=True, return_state=True ,dropout = 0.4, recurrent_dropout=0.4)\n",
    "encoder_output1, state_h1, state_c1 = encoder_lstm1(enc_emb)\n",
    "\n",
    "# 인코더의 LSTM 2\n",
    "encoder_lstm2 = LSTM(hidden_size, return_sequences=True, return_state=True, dropout=0.4, recurrent_dropout=0.4)\n",
    "encoder_output2, state_h2, state_c2 = encoder_lstm2(encoder_output1)\n",
    "\n",
    "# 인코더의 LSTM 3\n",
    "encoder_lstm3 = LSTM(hidden_size, return_state=True, return_sequences=True, dropout=0.4, recurrent_dropout=0.4)\n",
    "encoder_outputs, state_h, state_c= encoder_lstm3(encoder_output2)"
   ]
  },
  {
   "cell_type": "code",
   "execution_count": 37,
   "id": "b80dcfdc",
   "metadata": {},
   "outputs": [
    {
     "name": "stdout",
     "output_type": "stream",
     "text": [
      "WARNING:tensorflow:Layer lstm_3 will not use cuDNN kernels since it doesn't meet the criteria. It will use a generic GPU kernel as fallback when running on GPU.\n"
     ]
    }
   ],
   "source": [
    "# 디코더 설계\n",
    "decoder_inputs = Input(shape=(None,))\n",
    "\n",
    "# 디코더의 임베딩 층\n",
    "dec_emb_layer = Embedding(tar_vocab, embedding_dim)\n",
    "dec_emb = dec_emb_layer(decoder_inputs)\n",
    "\n",
    "# 디코더의 LSTM\n",
    "decoder_lstm = LSTM(hidden_size, return_sequences=True, return_state=True, dropout=0.4, recurrent_dropout=0.2)\n",
    "decoder_outputs, _, _ = decoder_lstm(dec_emb, initial_state=[state_h, state_c])"
   ]
  },
  {
   "cell_type": "code",
   "execution_count": 38,
   "id": "d538d303",
   "metadata": {},
   "outputs": [
    {
     "name": "stdout",
     "output_type": "stream",
     "text": [
      "Model: \"model\"\n",
      "__________________________________________________________________________________________________\n",
      " Layer (type)                   Output Shape         Param #     Connected to                     \n",
      "==================================================================================================\n",
      " input_1 (InputLayer)           [(None, 43)]         0           []                               \n",
      "                                                                                                  \n",
      " embedding (Embedding)          (None, 43, 256)      5376000     ['input_1[0][0]']                \n",
      "                                                                                                  \n",
      " lstm (LSTM)                    [(None, 43, 256),    525312      ['embedding[0][0]']              \n",
      "                                 (None, 256),                                                     \n",
      "                                 (None, 256)]                                                     \n",
      "                                                                                                  \n",
      " input_2 (InputLayer)           [(None, None)]       0           []                               \n",
      "                                                                                                  \n",
      " lstm_1 (LSTM)                  [(None, 43, 256),    525312      ['lstm[0][0]']                   \n",
      "                                 (None, 256),                                                     \n",
      "                                 (None, 256)]                                                     \n",
      "                                                                                                  \n",
      " embedding_1 (Embedding)        (None, None, 256)    2816000     ['input_2[0][0]']                \n",
      "                                                                                                  \n",
      " lstm_2 (LSTM)                  [(None, 43, 256),    525312      ['lstm_1[0][0]']                 \n",
      "                                 (None, 256),                                                     \n",
      "                                 (None, 256)]                                                     \n",
      "                                                                                                  \n",
      " lstm_3 (LSTM)                  [(None, None, 256),  525312      ['embedding_1[0][0]',            \n",
      "                                 (None, 256),                     'lstm_2[0][1]',                 \n",
      "                                 (None, 256)]                     'lstm_2[0][2]']                 \n",
      "                                                                                                  \n",
      " dense (Dense)                  (None, None, 11000)  2827000     ['lstm_3[0][0]']                 \n",
      "                                                                                                  \n",
      "==================================================================================================\n",
      "Total params: 13,120,248\n",
      "Trainable params: 13,120,248\n",
      "Non-trainable params: 0\n",
      "__________________________________________________________________________________________________\n"
     ]
    }
   ],
   "source": [
    "# 디코더의 출력층\n",
    "decoder_softmax_layer = Dense(tar_vocab, activation='softmax')\n",
    "decoder_softmax_outputs = decoder_softmax_layer(decoder_outputs) \n",
    "\n",
    "# 모델 정의\n",
    "model = Model([encoder_inputs, decoder_inputs], decoder_softmax_outputs)\n",
    "model.summary()"
   ]
  },
  {
   "cell_type": "code",
   "execution_count": 39,
   "id": "5657430c",
   "metadata": {},
   "outputs": [
    {
     "name": "stdout",
     "output_type": "stream",
     "text": [
      "Model: \"model_1\"\n",
      "__________________________________________________________________________________________________\n",
      " Layer (type)                   Output Shape         Param #     Connected to                     \n",
      "==================================================================================================\n",
      " input_1 (InputLayer)           [(None, 43)]         0           []                               \n",
      "                                                                                                  \n",
      " embedding (Embedding)          (None, 43, 256)      5376000     ['input_1[0][0]']                \n",
      "                                                                                                  \n",
      " lstm (LSTM)                    [(None, 43, 256),    525312      ['embedding[0][0]']              \n",
      "                                 (None, 256),                                                     \n",
      "                                 (None, 256)]                                                     \n",
      "                                                                                                  \n",
      " input_2 (InputLayer)           [(None, None)]       0           []                               \n",
      "                                                                                                  \n",
      " lstm_1 (LSTM)                  [(None, 43, 256),    525312      ['lstm[0][0]']                   \n",
      "                                 (None, 256),                                                     \n",
      "                                 (None, 256)]                                                     \n",
      "                                                                                                  \n",
      " embedding_1 (Embedding)        (None, None, 256)    2816000     ['input_2[0][0]']                \n",
      "                                                                                                  \n",
      " lstm_2 (LSTM)                  [(None, 43, 256),    525312      ['lstm_1[0][0]']                 \n",
      "                                 (None, 256),                                                     \n",
      "                                 (None, 256)]                                                     \n",
      "                                                                                                  \n",
      " lstm_3 (LSTM)                  [(None, None, 256),  525312      ['embedding_1[0][0]',            \n",
      "                                 (None, 256),                     'lstm_2[0][1]',                 \n",
      "                                 (None, 256)]                     'lstm_2[0][2]']                 \n",
      "                                                                                                  \n",
      " attention_layer (AdditiveAtten  (None, None, 256)   256         ['lstm_3[0][0]',                 \n",
      " tion)                                                            'lstm_2[0][0]']                 \n",
      "                                                                                                  \n",
      " concat_layer (Concatenate)     (None, None, 512)    0           ['lstm_3[0][0]',                 \n",
      "                                                                  'attention_layer[0][0]']        \n",
      "                                                                                                  \n",
      " dense_1 (Dense)                (None, None, 11000)  5643000     ['concat_layer[0][0]']           \n",
      "                                                                                                  \n",
      "==================================================================================================\n",
      "Total params: 15,936,504\n",
      "Trainable params: 15,936,504\n",
      "Non-trainable params: 0\n",
      "__________________________________________________________________________________________________\n"
     ]
    }
   ],
   "source": [
    "# 어텐션 층(어텐션 함수)\n",
    "attn_layer = AdditiveAttention(name='attention_layer')\n",
    "\n",
    "# 인코더와 디코더의 모든 time step의 hidden state를 어텐션 층에 전달하고 결과를 리턴\n",
    "attn_out = attn_layer([decoder_outputs, encoder_outputs])\n",
    "\n",
    "# 어텐션의 결과와 디코더의 hidden state들을 연결\n",
    "decoder_concat_input = Concatenate(axis=-1, name='concat_layer')([decoder_outputs, attn_out])\n",
    "\n",
    "# 디코더의 출력층\n",
    "decoder_softmax_layer = Dense(tar_vocab, activation='softmax')\n",
    "decoder_softmax_outputs = decoder_softmax_layer(decoder_concat_input)\n",
    "\n",
    "# 모델 정의\n",
    "model = Model([encoder_inputs, decoder_inputs], decoder_softmax_outputs)\n",
    "model.summary()"
   ]
  },
  {
   "cell_type": "markdown",
   "id": "813642f6",
   "metadata": {},
   "source": [
    "#### **모델 훈련하기**"
   ]
  },
  {
   "cell_type": "code",
   "execution_count": 40,
   "id": "784bf76c",
   "metadata": {
    "scrolled": false
   },
   "outputs": [
    {
     "name": "stdout",
     "output_type": "stream",
     "text": [
      "Epoch 1/50\n",
      "593/593 [==============================] - 272s 447ms/step - loss: 5.6470 - val_loss: 5.1592\n",
      "Epoch 2/50\n",
      "593/593 [==============================] - 267s 450ms/step - loss: 4.9944 - val_loss: 4.7474\n",
      "Epoch 3/50\n",
      "593/593 [==============================] - 269s 454ms/step - loss: 4.6520 - val_loss: 4.5171\n",
      "Epoch 4/50\n",
      "593/593 [==============================] - 273s 460ms/step - loss: 4.4111 - val_loss: 4.3559\n",
      "Epoch 5/50\n",
      "593/593 [==============================] - 272s 459ms/step - loss: 4.2275 - val_loss: 4.2421\n",
      "Epoch 6/50\n",
      "593/593 [==============================] - 278s 469ms/step - loss: 4.0858 - val_loss: 4.1393\n",
      "Epoch 7/50\n",
      "593/593 [==============================] - 275s 464ms/step - loss: 3.9614 - val_loss: 4.0747\n",
      "Epoch 8/50\n",
      "593/593 [==============================] - 271s 456ms/step - loss: 3.8647 - val_loss: 4.0289\n",
      "Epoch 9/50\n",
      "593/593 [==============================] - 270s 456ms/step - loss: 3.7742 - val_loss: 3.9797\n",
      "Epoch 10/50\n",
      "593/593 [==============================] - 270s 456ms/step - loss: 3.6887 - val_loss: 3.9446\n",
      "Epoch 11/50\n",
      "593/593 [==============================] - 277s 466ms/step - loss: 3.6082 - val_loss: 3.9056\n",
      "Epoch 12/50\n",
      "593/593 [==============================] - 287s 485ms/step - loss: 3.5475 - val_loss: 3.8886\n",
      "Epoch 13/50\n",
      "593/593 [==============================] - 279s 470ms/step - loss: 3.4940 - val_loss: 3.8696\n",
      "Epoch 14/50\n",
      "593/593 [==============================] - 267s 451ms/step - loss: 3.4411 - val_loss: 3.8467\n",
      "Epoch 15/50\n",
      "593/593 [==============================] - 270s 456ms/step - loss: 3.3742 - val_loss: 3.8313\n",
      "Epoch 16/50\n",
      "593/593 [==============================] - 273s 461ms/step - loss: 3.3189 - val_loss: 3.8279\n",
      "Epoch 17/50\n",
      "593/593 [==============================] - 284s 478ms/step - loss: 3.2752 - val_loss: 3.8096\n",
      "Epoch 18/50\n",
      "593/593 [==============================] - 274s 462ms/step - loss: 3.2346 - val_loss: 3.7985\n",
      "Epoch 19/50\n",
      "593/593 [==============================] - 287s 484ms/step - loss: 3.1878 - val_loss: 3.7895\n",
      "Epoch 20/50\n",
      "593/593 [==============================] - 286s 482ms/step - loss: 3.1449 - val_loss: 3.7940\n",
      "Epoch 21/50\n",
      "593/593 [==============================] - 276s 465ms/step - loss: 3.1069 - val_loss: 3.7810\n",
      "Epoch 22/50\n",
      "593/593 [==============================] - 272s 459ms/step - loss: 3.0714 - val_loss: 3.7700\n",
      "Epoch 23/50\n",
      "593/593 [==============================] - 274s 463ms/step - loss: 3.0338 - val_loss: 3.7789\n",
      "Epoch 24/50\n",
      "593/593 [==============================] - 272s 459ms/step - loss: 3.0022 - val_loss: 3.7862\n",
      "Epoch 24: early stopping\n"
     ]
    }
   ],
   "source": [
    "model.compile(optimizer='rmsprop', loss='sparse_categorical_crossentropy')\n",
    "es = EarlyStopping(monitor='val_loss', patience=2, verbose=1)\n",
    "history = model.fit(x=[encoder_input_train, decoder_input_train], y=decoder_target_train, \\\n",
    "          validation_data=([encoder_input_test, decoder_input_test], decoder_target_test), \\\n",
    "          batch_size=128, callbacks=[es], epochs=50)"
   ]
  },
  {
   "cell_type": "code",
   "execution_count": 41,
   "id": "217686f9",
   "metadata": {},
   "outputs": [
    {
     "data": {
      "image/png": "[encoded data removed]",
      "text/plain": [
       "<Figure size 640x480 with 1 Axes>"
      ]
     },
     "metadata": {},
     "output_type": "display_data"
    }
   ],
   "source": [
    "plt.plot(history.history['loss'], label='train')\n",
    "plt.plot(history.history['val_loss'], label='test')\n",
    "plt.legend()\n",
    "plt.show()"
   ]
  },
  {
   "cell_type": "markdown",
   "id": "fc40cba5",
   "metadata": {},
   "source": [
    "### **Step 4. 실제 결과와 요약문 비교하기 (추상적 요약)**"
   ]
  },
  {
   "cell_type": "markdown",
   "id": "7ce7f35e",
   "metadata": {},
   "source": [
    "#### **인퍼런스 모델 구현하기**"
   ]
  },
  {
   "cell_type": "markdown",
   "id": "20ed42b5",
   "metadata": {},
   "source": [
    "테스트 단계에서 정수 인덱스 행렬로 존재하던 텍스트 데이터를 실제 데이터로 복원하기 위해 3개의 사전을 준비해야 한다."
   ]
  },
  {
   "cell_type": "code",
   "execution_count": 42,
   "id": "70957386",
   "metadata": {},
   "outputs": [],
   "source": [
    "src_index_to_word = src_tokenizer.index_word # 원문 단어 집합에서 정수 -> 단어를 얻음\n",
    "tar_word_to_index = tar_tokenizer.word_index # 요약 단어 집합에서 단어 -> 정수를 얻음\n",
    "tar_index_to_word = tar_tokenizer.index_word # 요약 단어 집합에서 정수 -> 단어를 얻음"
   ]
  },
  {
   "cell_type": "markdown",
   "id": "48cc97cd",
   "metadata": {},
   "source": [
    "훈련 단계에서는 인코더와 디코더를 엮은 통짜 모델 하나만 준비했었다.  \n",
    "하지만 정답 문장이 없는 인퍼런스 단계에서는 인코더 모델과 디코더 모델을 분리해서 설계해야 한다."
   ]
  },
  {
   "cell_type": "code",
   "execution_count": 43,
   "id": "a0cd5fdd",
   "metadata": {},
   "outputs": [],
   "source": [
    "# 인코더 설계\n",
    "encoder_model = Model(inputs=encoder_inputs, outputs=[encoder_outputs, state_h, state_c])\n",
    "\n",
    "# 이전 시점의 상태들을 저장하는 텐서\n",
    "decoder_state_input_h = Input(shape=(hidden_size,))\n",
    "decoder_state_input_c = Input(shape=(hidden_size,))\n",
    "\n",
    "dec_emb2 = dec_emb_layer(decoder_inputs)\n",
    "\n",
    "# 문장의 다음 단어를 예측하기 위해서 초기 상태(initial_state)를 이전 시점의 상태로 사용. 이는 뒤의 함수 decode_sequence()에 구현\n",
    "# 훈련 과정에서와 달리 LSTM의 리턴하는 은닉 상태와 셀 상태인 state_h와 state_c를 버리지 않음.\n",
    "decoder_outputs2, state_h2, state_c2 = decoder_lstm(dec_emb2, initial_state=[decoder_state_input_h, decoder_state_input_c])"
   ]
  },
  {
   "cell_type": "code",
   "execution_count": 44,
   "id": "ab898319",
   "metadata": {},
   "outputs": [],
   "source": [
    "# 어텐션 함수\n",
    "decoder_hidden_state_input = Input(shape=(text_max_len, hidden_size))\n",
    "attn_out_inf = attn_layer([decoder_outputs2, decoder_hidden_state_input])\n",
    "decoder_inf_concat = Concatenate(axis=-1, name='concat')([decoder_outputs2, attn_out_inf])\n",
    "\n",
    "# 디코더의 출력층\n",
    "decoder_outputs2 = decoder_softmax_layer(decoder_inf_concat) \n",
    "\n",
    "# 최종 디코더 모델\n",
    "decoder_model = Model(\n",
    "    [decoder_inputs] + [decoder_hidden_state_input,decoder_state_input_h, decoder_state_input_c],\n",
    "    [decoder_outputs2] + [state_h2, state_c2])"
   ]
  },
  {
   "cell_type": "code",
   "execution_count": 45,
   "id": "7aa00564",
   "metadata": {},
   "outputs": [],
   "source": [
    "# 단어 시퀀스를 완성하는 함수\n",
    "def decode_sequence(input_seq):\n",
    "    # 입력으로부터 인코더의 상태를 얻음\n",
    "    e_out, e_h, e_c = encoder_model.predict(input_seq)\n",
    "\n",
    "     # <SOS>에 해당하는 토큰 생성\n",
    "    target_seq = np.zeros((1,1))\n",
    "    target_seq[0, 0] = tar_word_to_index['sostoken']\n",
    "\n",
    "    stop_condition = False\n",
    "    decoded_sentence = ''\n",
    "    while not stop_condition: # stop_condition이 True가 될 때까지 루프 반복\n",
    "\n",
    "        output_tokens, h, c = decoder_model.predict([target_seq] + [e_out, e_h, e_c])\n",
    "        sampled_token_index = np.argmax(output_tokens[0, -1, :])\n",
    "        sampled_token = tar_index_to_word[sampled_token_index]\n",
    "\n",
    "        if (sampled_token != 'eostoken'):\n",
    "            decoded_sentence += ' '+sampled_token\n",
    "\n",
    "        #  <eos>에 도달하거나 최대 길이를 넘으면 중단\n",
    "        if (sampled_token == 'eostoken'  or len(decoded_sentence.split()) >= (headlines_max_len-1)):\n",
    "            stop_condition = True\n",
    "\n",
    "        # 길이가 1인 타겟 시퀀스를 업데이트\n",
    "        target_seq = np.zeros((1,1))\n",
    "        target_seq[0, 0] = sampled_token_index\n",
    "\n",
    "        # 상태를 업데이트\n",
    "        e_h, e_c = h, c\n",
    "\n",
    "    return decoded_sentence"
   ]
  },
  {
   "cell_type": "markdown",
   "id": "7af16ef3",
   "metadata": {},
   "source": [
    "#### **모델 테스트하기**"
   ]
  },
  {
   "cell_type": "markdown",
   "id": "9e587fcb",
   "metadata": {},
   "source": [
    "테스트 단계에서는 정수로 인코딩된 시퀀스를 텍스트 시퀀스로 변환하여 결과를 확인하는 것이 편리하다.  \n",
    "따라서 정수 시퀀스를 텍스트 시퀀스로 변환하는 함수를 만들어주는 것이 필요하다."
   ]
  },
  {
   "cell_type": "code",
   "execution_count": 46,
   "id": "78e81ee8",
   "metadata": {},
   "outputs": [],
   "source": [
    "# 원문의 정수 시퀀스를 텍스트 시퀀스로 변환\n",
    "def seq2text(input_seq):\n",
    "    temp=''\n",
    "    for i in input_seq:\n",
    "        if (i!=0):\n",
    "            temp = temp + src_index_to_word[i] + ' '\n",
    "    return temp\n",
    "\n",
    "# 요약문의 정수 시퀀스를 텍스트 시퀀스로 변환\n",
    "def seq2summary(input_seq):\n",
    "    temp=''\n",
    "    for i in input_seq:\n",
    "        if ((i!=0 and i!=tar_word_to_index['sostoken']) and i!=tar_word_to_index['eostoken']):\n",
    "            temp = temp + tar_index_to_word[i] + ' '\n",
    "    return temp"
   ]
  },
  {
   "cell_type": "code",
   "execution_count": 47,
   "id": "9c797c28",
   "metadata": {
    "scrolled": false
   },
   "outputs": [
    {
     "name": "stdout",
     "output_type": "stream",
     "text": [
      "원문 : maharashtra information technology principal secretary vijay gautam transferred delay implementing farm loan waiver scheme state june announced waiver crore lakh farmers however october found state disbursed loans less total lakh applications received \n",
      "실제 요약 : maha it secy transferred over delay in loan waiver \n",
      "1/1 [==============================] - 1s 627ms/step\n",
      "1/1 [==============================] - 0s 222ms/step\n",
      "1/1 [==============================] - 0s 21ms/step\n",
      "1/1 [==============================] - 0s 17ms/step\n",
      "1/1 [==============================] - 0s 19ms/step\n",
      "1/1 [==============================] - 0s 17ms/step\n",
      "1/1 [==============================] - 0s 19ms/step\n",
      "1/1 [==============================] - 0s 17ms/step\n",
      "1/1 [==============================] - 0s 18ms/step\n",
      "예측 요약 :  maharashtra government waives loans worth ã¢ââ¹4 crore\n",
      "\n",
      "\n",
      "원문 : groom canada ontario jumped pond wedding day rescue young boy drowning man bride posing post wedding pictures spotted boy struggling pond incident captured camera shared facebook wedding photographer darren \n",
      "실제 요약 : canadian man saves boy from drowning on wedding day \n",
      "1/1 [==============================] - 0s 67ms/step\n",
      "1/1 [==============================] - 0s 19ms/step\n",
      "1/1 [==============================] - 0s 18ms/step\n",
      "1/1 [==============================] - 0s 18ms/step\n",
      "1/1 [==============================] - 0s 17ms/step\n",
      "1/1 [==============================] - 0s 21ms/step\n",
      "1/1 [==============================] - 0s 17ms/step\n",
      "1/1 [==============================] - 0s 18ms/step\n",
      "1/1 [==============================] - 0s 18ms/step\n",
      "1/1 [==============================] - 0s 18ms/step\n",
      "1/1 [==============================] - 0s 18ms/step\n",
      "예측 요약 :  groom dances to groom after wedding photos goes viral\n",
      "\n",
      "\n",
      "원문 : prime minister narendra modi thursday asked bjp mps uttar pradesh interfere state affairs work hand glove state ministers addressing mps meeting pm added stand equal government eye respect mandate people work state development \n",
      "실제 요약 : don't interfere in state of affairs in up modi to bjp mps \n",
      "1/1 [==============================] - 0s 63ms/step\n",
      "1/1 [==============================] - 0s 17ms/step\n",
      "1/1 [==============================] - 0s 18ms/step\n",
      "1/1 [==============================] - 0s 19ms/step\n",
      "1/1 [==============================] - 0s 18ms/step\n",
      "1/1 [==============================] - 0s 18ms/step\n",
      "1/1 [==============================] - 0s 19ms/step\n",
      "1/1 [==============================] - 0s 18ms/step\n",
      "1/1 [==============================] - 0s 17ms/step\n",
      "1/1 [==============================] - 0s 19ms/step\n",
      "1/1 [==============================] - 0s 19ms/step\n",
      "1/1 [==============================] - 0s 18ms/step\n",
      "예측 요약 :  pm modi should take action against bjp mps in ensure order\n",
      "\n",
      "\n",
      "원문 : ghaziabad development authority lodged fir two hindi news channels allegedly broadcasting false news officials authority alleged channels aired one sided story based man complaint claimed paid lakh bribe enforcement department officials stop sealing action illegal construction \n",
      "실제 요약 : fir against 2 channels for airing news' on civic body \n",
      "1/1 [==============================] - 0s 91ms/step\n",
      "1/1 [==============================] - 0s 21ms/step\n",
      "1/1 [==============================] - 0s 18ms/step\n",
      "1/1 [==============================] - 0s 18ms/step\n",
      "1/1 [==============================] - 0s 16ms/step\n",
      "1/1 [==============================] - 0s 20ms/step\n",
      "1/1 [==============================] - 0s 18ms/step\n",
      "1/1 [==============================] - 0s 17ms/step\n",
      "1/1 [==============================] - 0s 18ms/step\n",
      "1/1 [==============================] - 0s 17ms/step\n",
      "1/1 [==============================] - 0s 19ms/step\n",
      "1/1 [==============================] - 0s 17ms/step\n",
      "예측 요약 :  fir filed against tv for tv show in news of tv\n",
      "\n",
      "\n",
      "원문 : rescue workers monday brought fifth boy group soccer coach trapped two weeks flooded cave thailand boy reportedly carried stretcher waiting ambulance hours rescue mission resumed first four boys successfully extracted sunday \n",
      "실제 요약 : fifth boy rescued as thai cave operation resumes \n",
      "1/1 [==============================] - 0s 87ms/step\n",
      "1/1 [==============================] - 0s 18ms/step\n",
      "1/1 [==============================] - 0s 17ms/step\n",
      "1/1 [==============================] - 0s 19ms/step\n",
      "1/1 [==============================] - 0s 18ms/step\n",
      "1/1 [==============================] - 0s 18ms/step\n",
      "1/1 [==============================] - 0s 18ms/step\n",
      "1/1 [==============================] - 0s 18ms/step\n",
      "1/1 [==============================] - 0s 19ms/step\n",
      "1/1 [==============================] - 0s 18ms/step\n",
      "1/1 [==============================] - 0s 17ms/step\n",
      "1/1 [==============================] - 0s 19ms/step\n",
      "예측 요약 :  baby stuck in thai cave rescued after 3 months rescued\n",
      "\n",
      "\n",
      "원문 : hardik pandya rohit sharma imitated ravindra jadeja video posting similar videos new looks instagram jadeja earlier posted close video showing beard vanished change frame hardik thing writing one got dressing room \n",
      "실제 요약 : hardik rohit sharma video \n",
      "1/1 [==============================] - 0s 84ms/step\n",
      "1/1 [==============================] - 0s 18ms/step\n",
      "1/1 [==============================] - 0s 19ms/step\n",
      "1/1 [==============================] - 0s 17ms/step\n",
      "1/1 [==============================] - 0s 19ms/step\n",
      "1/1 [==============================] - 0s 22ms/step\n",
      "1/1 [==============================] - 0s 19ms/step\n",
      "1/1 [==============================] - 0s 18ms/step\n",
      "1/1 [==============================] - 0s 19ms/step\n",
      "1/1 [==============================] - 0s 19ms/step\n",
      "예측 요약 :  hardik pandya trolled for umpire pandya starrer poster\n",
      "\n",
      "\n",
      "원문 : official pictures prince harry meghan markle royal wedding released images show one group picture sides family another group picture children black white picture prince harry meghan royal couple addressed duke duchess sussex \n",
      "실제 요약 : official pics of prince harry and meghan's royal wedding out \n",
      "1/1 [==============================] - 0s 83ms/step\n",
      "1/1 [==============================] - 0s 18ms/step\n",
      "1/1 [==============================] - 0s 17ms/step\n",
      "1/1 [==============================] - 0s 20ms/step\n",
      "1/1 [==============================] - 0s 18ms/step\n",
      "1/1 [==============================] - 0s 18ms/step\n",
      "1/1 [==============================] - 0s 20ms/step\n",
      "1/1 [==============================] - 0s 17ms/step\n",
      "1/1 [==============================] - 0s 17ms/step\n",
      "예측 요약 :  prince harry meghan markle attends wedding photos\n",
      "\n",
      "\n",
      "원문 : delhi cm arvind kejriwal received threat mail unknown person group read kidnap daughter protect police said mail received january adding matter handed cyber cell meanwhile delhi police deployed officer protection kejriwal daughter \n",
      "실제 요약 : will kidnap your daughter delhi cm kejriwal gets a threat e mail \n",
      "1/1 [==============================] - 0s 86ms/step\n",
      "1/1 [==============================] - 0s 19ms/step\n",
      "1/1 [==============================] - 0s 18ms/step\n",
      "1/1 [==============================] - 0s 18ms/step\n",
      "1/1 [==============================] - 0s 18ms/step\n",
      "1/1 [==============================] - 0s 19ms/step\n",
      "1/1 [==============================] - 0s 18ms/step\n",
      "1/1 [==============================] - 0s 19ms/step\n",
      "1/1 [==============================] - 0s 16ms/step\n",
      "1/1 [==============================] - 0s 18ms/step\n",
      "예측 요약 :  delhi cm kejriwal threatens to attack cbi chief\n",
      "\n",
      "\n",
      "원문 : rising pune supergiant players wore black gesture respect passing away father middle order batsman manoj tiwary ipl fixture delhi daredevils tuesday year old feature playing eleven replaced rahul tripathi made debut side \n",
      "실제 요약 : team rps wore black after father \n",
      "1/1 [==============================] - 0s 85ms/step\n",
      "1/1 [==============================] - 0s 17ms/step\n",
      "1/1 [==============================] - 0s 17ms/step\n",
      "1/1 [==============================] - 0s 18ms/step\n",
      "1/1 [==============================] - 0s 18ms/step\n",
      "1/1 [==============================] - 0s 18ms/step\n",
      "1/1 [==============================] - 0s 18ms/step\n",
      "1/1 [==============================] - 0s 16ms/step\n",
      "1/1 [==============================] - 0s 17ms/step\n",
      "1/1 [==============================] - 0s 17ms/step\n",
      "1/1 [==============================] - 0s 18ms/step\n",
      "예측 요약 :  fans wear bat to wear bat at ipl 2018\n",
      "\n",
      "\n",
      "원문 : supreme court hearing scrapping year old adultery law chief justice india dipak misra ruled provision treating women inequality constitutional discrimination shall invite constitution law stated woman whose husband sexual intercourse another woman cannot file complaint woman punishable similar offence \n",
      "실제 요약 : any with women not constitutional cji on adultery \n",
      "1/1 [==============================] - 0s 86ms/step\n",
      "1/1 [==============================] - 0s 17ms/step\n",
      "1/1 [==============================] - 0s 18ms/step\n",
      "1/1 [==============================] - 0s 17ms/step\n",
      "1/1 [==============================] - 0s 18ms/step\n",
      "1/1 [==============================] - 0s 17ms/step\n",
      "1/1 [==============================] - 0s 19ms/step\n",
      "1/1 [==============================] - 0s 18ms/step\n",
      "1/1 [==============================] - 0s 17ms/step\n",
      "1/1 [==============================] - 0s 19ms/step\n",
      "예측 요약 :  sc rejects plea against cji for sexual violence\n",
      "\n",
      "\n",
      "원문 : record best ever bowling figures tests set late england spinner jim july years registered first ever wicket haul best bowling figures test innings taking australia figures recorded match best bowling figures tests \n",
      "실제 요약 : best ever test bowling figures record for 61 years \n",
      "1/1 [==============================] - 0s 84ms/step\n",
      "1/1 [==============================] - 0s 21ms/step\n",
      "1/1 [==============================] - 0s 18ms/step\n",
      "1/1 [==============================] - 0s 21ms/step\n",
      "1/1 [==============================] - 0s 18ms/step\n",
      "1/1 [==============================] - 0s 19ms/step\n",
      "1/1 [==============================] - 0s 20ms/step\n",
      "1/1 [==============================] - 0s 17ms/step\n",
      "1/1 [==============================] - 0s 18ms/step\n",
      "1/1 [==============================] - 0s 19ms/step\n",
      "1/1 [==============================] - 0s 19ms/step\n",
      "예측 요약 :  highest ever test figures came at the highest ever\n",
      "\n",
      "\n",
      "원문 : least people injured escalator shopping centre hong kong suddenly reversed high speed sunday officials said damaged driving chain within escalator malfunctioning braking device may caused incident two technicians suspected tampering escalator reportedly arrested police \n",
      "실제 요약 : hong kong injured after escalator goes into reverse \n",
      "1/1 [==============================] - 0s 85ms/step\n",
      "1/1 [==============================] - 0s 20ms/step\n",
      "1/1 [==============================] - 0s 19ms/step\n",
      "1/1 [==============================] - 0s 19ms/step\n",
      "1/1 [==============================] - 0s 19ms/step\n",
      "1/1 [==============================] - 0s 20ms/step\n",
      "1/1 [==============================] - 0s 19ms/step\n",
      "1/1 [==============================] - 0s 19ms/step\n",
      "1/1 [==============================] - 0s 18ms/step\n",
      "1/1 [==============================] - 0s 18ms/step\n",
      "1/1 [==============================] - 0s 18ms/step\n",
      "1/1 [==============================] - 0s 17ms/step\n",
      "예측 요약 :  8 injured as injured in bridge collapse in hong kong\n",
      "\n",
      "\n",
      "원문 : content many government websites changed hackers since minister state electronics pp chaudhary said friday websites defaced compromised incidents took place till date chaudhary added \n",
      "실제 요약 : hackers changed content of govt websites since 2014 \n",
      "1/1 [==============================] - 0s 86ms/step\n",
      "1/1 [==============================] - 0s 18ms/step\n",
      "1/1 [==============================] - 0s 19ms/step\n",
      "1/1 [==============================] - 0s 18ms/step\n",
      "1/1 [==============================] - 0s 18ms/step\n",
      "1/1 [==============================] - 0s 19ms/step\n",
      "1/1 [==============================] - 0s 18ms/step\n",
      "1/1 [==============================] - 0s 18ms/step\n",
      "1/1 [==============================] - 0s 17ms/step\n",
      "예측 요약 :  govt to study data of all people\n",
      "\n",
      "\n",
      "원문 : spanish national football team handed croatia finalists fifa world cup worst ever defeat form loss uefa nations league tuesday spain saw goals come two long range strikes real madrid forward marco also registered three assists match \n",
      "실제 요약 : spain hand world cup 2018 runners up their worst ever defeat \n",
      "1/1 [==============================] - 0s 86ms/step\n",
      "1/1 [==============================] - 0s 18ms/step\n",
      "1/1 [==============================] - 0s 19ms/step\n",
      "1/1 [==============================] - 0s 17ms/step\n",
      "1/1 [==============================] - 0s 20ms/step\n",
      "1/1 [==============================] - 0s 18ms/step\n",
      "1/1 [==============================] - 0s 19ms/step\n",
      "1/1 [==============================] - 0s 18ms/step\n",
      "1/1 [==============================] - 0s 18ms/step\n",
      "1/1 [==============================] - 0s 17ms/step\n",
      "1/1 [==============================] - 0s 17ms/step\n",
      "예측 요약 :  spain defeat world cup in spain after 17 years\n",
      "\n",
      "\n",
      "원문 : supreme court friday dismissed plea seeking direction centre ensure strict population control measures making two child policy mandatory across country plea stated growing population lead civil war like situation court denied claiming parliament decide issue court \n",
      "실제 요약 : sc dismisses plea to make two child policy mandatory \n",
      "1/1 [==============================] - 0s 77ms/step\n",
      "1/1 [==============================] - 0s 18ms/step\n",
      "1/1 [==============================] - 0s 18ms/step\n",
      "1/1 [==============================] - 0s 18ms/step\n",
      "1/1 [==============================] - 0s 17ms/step\n",
      "1/1 [==============================] - 0s 18ms/step\n",
      "1/1 [==============================] - 0s 19ms/step\n",
      "1/1 [==============================] - 0s 19ms/step\n",
      "1/1 [==============================] - 0s 18ms/step\n",
      "1/1 [==============================] - 0s 18ms/step\n",
      "예측 요약 :  sc rejects plea to make compulsory in schools\n",
      "\n",
      "\n",
      "원문 : speaking pulwama attack five security personnel martyred bjp mp nepal singh said soldiers army die every day stating even villagers get injured singh added country world soldiers die battles later said intend insult army \n",
      "실제 요약 : army men die bjp mp on pulwama attack \n",
      "1/1 [==============================] - 0s 79ms/step\n",
      "1/1 [==============================] - 0s 20ms/step\n",
      "1/1 [==============================] - 0s 19ms/step\n",
      "1/1 [==============================] - 0s 19ms/step\n",
      "1/1 [==============================] - 0s 19ms/step\n",
      "1/1 [==============================] - 0s 17ms/step\n",
      "1/1 [==============================] - 0s 18ms/step\n",
      "1/1 [==============================] - 0s 19ms/step\n",
      "1/1 [==============================] - 0s 18ms/step\n",
      "1/1 [==============================] - 0s 18ms/step\n",
      "예측 요약 :  bjp mp militants attack army camp on soldiers\n",
      "\n",
      "\n",
      "원문 : american ice hockey side predators finnish goalkeeper made four saves many seconds help side register win penguins stanley cup final keeper made first two saves end penguins across face goal clear puck \n",
      "실제 요약 : makes four saves in four seconds to help team win 4 1 \n",
      "1/1 [==============================] - 0s 87ms/step\n",
      "1/1 [==============================] - 0s 19ms/step\n",
      "1/1 [==============================] - 0s 19ms/step\n",
      "1/1 [==============================] - 0s 20ms/step\n",
      "1/1 [==============================] - 0s 18ms/step\n",
      "1/1 [==============================] - 0s 19ms/step\n",
      "1/1 [==============================] - 0s 18ms/step\n",
      "1/1 [==============================] - 0s 21ms/step\n",
      "1/1 [==============================] - 0s 21ms/step\n",
      "1/1 [==============================] - 0s 17ms/step\n",
      "1/1 [==============================] - 0s 18ms/step\n",
      "예측 요약 :  indian hockey team scores 1 goals in 3 minutes\n",
      "\n",
      "\n",
      "원문 : actress richa chadha speaking co star varun sharma jokingly said officially first overweight leading man generation richa varun feature together romantic track recently released film fukrey returns film also stars pulkit samrat ali fazal singh priya anand \n",
      "실제 요약 : varun sharma is officially 1st overweight hero jokes richa \n",
      "1/1 [==============================] - 0s 86ms/step\n",
      "1/1 [==============================] - 0s 20ms/step\n",
      "1/1 [==============================] - 0s 19ms/step\n",
      "1/1 [==============================] - 0s 18ms/step\n",
      "1/1 [==============================] - 0s 17ms/step\n",
      "1/1 [==============================] - 0s 19ms/step\n",
      "1/1 [==============================] - 0s 19ms/step\n",
      "1/1 [==============================] - 0s 20ms/step\n",
      "1/1 [==============================] - 0s 18ms/step\n",
      "1/1 [==============================] - 0s 20ms/step\n",
      "1/1 [==============================] - 0s 19ms/step\n",
      "예측 요약 :  richa chadha 1st star to make a richa chadha\n",
      "\n",
      "\n",
      "원문 : egyptian court sentenced tv presenter three years jail discussed ways getting pregnant outside marriage presenter suggested women wanted kids necessarily married could marry briefly children charged convicted outraging public decency \n",
      "실제 요약 : egyptian woman jailed for 3 yrs over sex talk \n",
      "1/1 [==============================] - 0s 90ms/step\n",
      "1/1 [==============================] - 0s 16ms/step\n",
      "1/1 [==============================] - 0s 17ms/step\n",
      "1/1 [==============================] - 0s 17ms/step\n",
      "1/1 [==============================] - 0s 16ms/step\n",
      "1/1 [==============================] - 0s 20ms/step\n",
      "1/1 [==============================] - 0s 16ms/step\n",
      "1/1 [==============================] - 0s 17ms/step\n",
      "1/1 [==============================] - 0s 15ms/step\n",
      "예측 요약 :  jailed for life term for raping women\n",
      "\n",
      "\n",
      "원문 : london high court increased liquor baron vijay mallya weekly living allowance increase comes global assets remain frozen many indian banks successfully obtained freeze order global assets mallya stating owes crore banks \n",
      "실제 요약 : mallya's allowance in uk hiked by to ã¢ââ¹16 lakh per week \n",
      "1/1 [==============================] - 0s 123ms/step\n",
      "1/1 [==============================] - 0s 17ms/step\n",
      "1/1 [==============================] - 0s 17ms/step\n",
      "1/1 [==============================] - 0s 17ms/step\n",
      "1/1 [==============================] - 0s 17ms/step\n",
      "1/1 [==============================] - 0s 17ms/step\n",
      "1/1 [==============================] - 0s 17ms/step\n",
      "1/1 [==============================] - 0s 17ms/step\n",
      "1/1 [==============================] - 0s 20ms/step\n",
      "1/1 [==============================] - 0s 17ms/step\n",
      "1/1 [==============================] - 0s 18ms/step\n",
      "1/1 [==============================] - 0s 17ms/step\n",
      "예측 요약 :  mallya's mallya's mallya's mallya's mallya's assets to be vijay mallya's assets\n",
      "\n",
      "\n"
     ]
    }
   ],
   "source": [
    "for i in range(20):\n",
    "    print(\"원문 :\", seq2text(encoder_input_test[i]))\n",
    "    print(\"실제 요약 :\", seq2summary(decoder_input_test[i]))\n",
    "    print(\"예측 요약 :\", decode_sequence(encoder_input_test[i].reshape(1, text_max_len)))\n",
    "    print(\"\\n\")"
   ]
  },
  {
   "cell_type": "markdown",
   "id": "77dfae8f",
   "metadata": {},
   "source": [
    "### **Step 5. Summa을 이용해서 추출적 요약해보기**"
   ]
  },
  {
   "cell_type": "code",
   "execution_count": 48,
   "id": "ebae0a4a",
   "metadata": {},
   "outputs": [],
   "source": [
    "# 필요한 라이브러리 import\n",
    "import requests\n",
    "from summa.summarizer import summarize"
   ]
  },
  {
   "cell_type": "code",
   "execution_count": 49,
   "id": "dd69117d",
   "metadata": {},
   "outputs": [],
   "source": [
    "# 데이터 불러오기\n",
    "urllib.request.urlretrieve(\"https://raw.githubusercontent.com/sunnysai12345/News_Summary/master/news_summary_more.csv\", filename=\"news_summary_more.csv\")\n",
    "data = pd.read_csv('news_summary_more.csv', encoding='iso-8859-1')"
   ]
  },
  {
   "cell_type": "code",
   "execution_count": 50,
   "id": "28bf79bc",
   "metadata": {
    "scrolled": false
   },
   "outputs": [
    {
     "name": "stdout",
     "output_type": "stream",
     "text": [
      "원문: Saurav Kant, an alumnus of upGrad and IIIT-B's PG Program in Machine learning and Artificial Intelligence, was a Sr Systems Engineer at Infosys with almost 5 years of work experience. The program and upGrad's 360-degree career support helped him transition to a Data Scientist at Tech Mahindra with 90% salary hike. upGrad's Online Power Learning has powered 3 lakh+ careers.\n",
      "실제 요약: upGrad learner switches to career in ML & Al with 90% salary hike\n",
      "예측 요약: upGrad's Online Power Learning has powered 3 lakh+ careers.\n",
      "\n",
      "\n",
      "원문: Kunal Shah's credit card bill payment platform, CRED, gave users a chance to win free food from Swiggy for one year. Pranav Kaushik, a Delhi techie, bagged this reward after spending 2000 CRED coins. Users get one CRED coin per rupee of bill paid, which can be used to avail rewards from brands like Ixigo, BookMyShow, UberEats, Cult.Fit and more.\n",
      "실제 요약: Delhi techie wins free food from Swiggy for one year on CRED\n",
      "예측 요약: Users get one CRED coin per rupee of bill paid, which can be used to avail rewards from brands like Ixigo, BookMyShow, UberEats, Cult.Fit and more.\n",
      "\n",
      "\n",
      "원문: New Zealand defeated India by 8 wickets in the fourth ODI at Hamilton on Thursday to win their first match of the five-match ODI series. India lost an international match under Rohit Sharma's captaincy after 12 consecutive victories dating back to March 2018. The match witnessed India getting all out for 92, their seventh lowest total in ODI cricket history.\n",
      "실제 요약: New Zealand end Rohit Sharma-led India's 12-match winning streak\n",
      "예측 요약: The match witnessed India getting all out for 92, their seventh lowest total in ODI cricket history.\n",
      "\n",
      "\n",
      "원문: With Aegon Life iTerm Insurance plan, customers can enjoy tax benefits on your premiums paid and save up to Ã¢ÂÂ¹46,800^ on taxes. The plan provides life cover up to the age of 100 years. Also, customers have options to insure against Critical Illnesses, Disability and Accidental Death Benefit Rider with a life cover up to the age of 80 years.\n",
      "실제 요약: Aegon life iTerm insurance plan helps customers save tax\n",
      "예측 요약: Also, customers have options to insure against Critical Illnesses, Disability and Accidental Death Benefit Rider with a life cover up to the age of 80 years.\n",
      "\n",
      "\n",
      "원문: Speaking about the sexual harassment allegations against Rajkumar Hirani, Sonam Kapoor said, \"I've known Hirani for many years...What if it's not true, the [#MeToo] movement will get derailed.\" \"In the #MeToo movement, I always believe a woman. But in this case, we need to reserve our judgment,\" she added. Hirani has been accused by an assistant who worked in 'Sanju'.\n",
      "실제 요약: Have known Hirani for yrs, what if MeToo claims are not true: Sonam\n",
      "예측 요약: Speaking about the sexual harassment allegations against Rajkumar Hirani, Sonam Kapoor said, \"I've known Hirani for many years...What if it's not true, the [#MeToo] movement will get derailed.\" \"In the #MeToo movement, I always believe a woman.\n",
      "\n",
      "\n",
      "원문: Pakistani singer Rahat Fateh Ali Khan has denied receiving any notice from the Enforcement Directorate over allegedly smuggling foreign currency out of India. \"It would have been better if the authorities would have served the notice first if any and then publicised this,\" reads a press release issued on behalf of Rahat. The statement further called the allegation \"bizarre\".\n",
      "실제 요약: Rahat Fateh Ali Khan denies getting notice for smuggling currency\n",
      "예측 요약: Pakistani singer Rahat Fateh Ali Khan has denied receiving any notice from the Enforcement Directorate over allegedly smuggling foreign currency out of India.\n",
      "\n",
      "\n",
      "원문: India recorded their lowest ODI total in New Zealand after getting all out for 92 runs in 30.5 overs in the fourth ODI at Hamilton on Thursday. Seven of India's batsmen were dismissed for single-digit scores, while their number ten batsman Yuzvendra Chahal top-scored with 18*(37). India's previous lowest ODI total in New Zealand was 108.\n",
      "실제 요약: India get all out for 92, their lowest ODI total in New Zealand\n",
      "예측 요약: India's previous lowest ODI total in New Zealand was 108.\n",
      "\n",
      "\n",
      "원문: Weeks after ex-CBI Director Alok Verma told the Department of Personnel and Training to consider him retired, the Home Ministry asked him to join work on the last day of his fixed tenure as Director on Thursday. The ministry directed him to immediately join as DG, Fire Services, the post he was transferred to after his removal as CBI chief.\n",
      "실제 요약: Govt directs Alok Verma to join work 1 day before his retirement\n",
      "예측 요약: Weeks after ex-CBI Director Alok Verma told the Department of Personnel and Training to consider him retired, the Home Ministry asked him to join work on the last day of his fixed tenure as Director on Thursday.\n",
      "\n",
      "\n",
      "원문: Andhra Pradesh CM N Chandrababu Naidu has said, \"When I met then US President Bill Clinton, I addressed him as Mr Clinton, not as 'sir'. (PM Narendra) Modi is my junior in politics...I addressed him as sir 10 times.\" \"I did this...to satisfy his ego in the hope that he will do justice to the state,\" he added.\n",
      "실제 요약: Called PM Modi 'sir' 10 times to satisfy his ego: Andhra CM\n",
      "예측 요약: Andhra Pradesh CM N Chandrababu Naidu has said, \"When I met then US President Bill Clinton, I addressed him as Mr Clinton, not as 'sir'.\n",
      "\n",
      "\n",
      "원문: Congress candidate Shafia Zubair won the Ramgarh Assembly seat in Rajasthan, by defeating BJP's Sukhwant Singh with a margin of 12,228 votes in the bypoll. With this victory, Congress has taken its total to 100 seats in the 200-member assembly. The election to the Ramgarh seat was delayed due to the death of sitting MLA and BSP candidate Laxman Singh.\n",
      "실제 요약: Cong wins Ramgarh bypoll in Rajasthan, takes total to 100 seats\n",
      "예측 요약: Congress candidate Shafia Zubair won the Ramgarh Assembly seat in Rajasthan, by defeating BJP's Sukhwant Singh with a margin of 12,228 votes in the bypoll.\n",
      "\n",
      "\n",
      "원문: Two minor cousins in Uttar Pradesh's Gorakhpur were allegedly repeatedly burnt with tongs and forced to eat human excreta by their family for being friends with two boys from the same school. The cousins revealed their ordeal to the police and Child Welfare Committee after being brought back to Gorakhpur from Nepal, where they had fled to escape the torture.\n",
      "실제 요약: UP cousins fed human excreta for friendship with boys\n",
      "예측 요약: Two minor cousins in Uttar Pradesh's Gorakhpur were allegedly repeatedly burnt with tongs and forced to eat human excreta by their family for being friends with two boys from the same school.\n",
      "\n",
      "\n",
      "원문: Isha Ghosh, an 81-year-old member of Bharat Scouts and Guides (BSG), has been imparting physical and mental training to schoolchildren in Jharkhand for several decades. Chaibasa-based Ghosh reportedly walks seven kilometres daily and spends eight hours conducting physical training, apart from climbing and yoga sessions. She says, \"One should do something for society till one's last breath.\"\n",
      "실제 요약: 81-yr-old woman conducts physical training in J'khand schools\n",
      "예측 요약: Isha Ghosh, an 81-year-old member of Bharat Scouts and Guides (BSG), has been imparting physical and mental training to schoolchildren in Jharkhand for several decades.\n",
      "\n",
      "\n",
      "원문: Urging saints and seers at the Kumbh Mela to quit smoking, Yoga guru Ramdev said, \"We follow Ram and Krishna who never smoked in their life then why should we?\" Making them take a pledge to quit tobacco, he collected chillum (clay pipe) from several sadhus. He said he will deposit the chillums for display at a museum he'll build.\n",
      "실제 요약: Ram, Krishna didn't smoke, why should we: Ramdev to sadhus at Kumbh\n",
      "예측 요약: Urging saints and seers at the Kumbh Mela to quit smoking, Yoga guru Ramdev said, \"We follow Ram and Krishna who never smoked in their life then why should we?\" Making them take a pledge to quit tobacco, he collected chillum (clay pipe) from several sadhus.\n",
      "\n",
      "\n",
      "원문: Former stripper and regional sales director of a pharmaceutical company, Sunrise Lee, gave a doctor a lap dance in a nightclub to persuade him to prescribe an addictive fentanyl spray in 2012, the company's sales representative told a US court. She said she saw Lee \"sitting on [doctor's] lap, kind of bouncing around.\" Lee has been accused of bribing doctors.\n",
      "실제 요약: Pharma exec gave doctor a lap dance to sell medicine in US: Witness\n",
      "예측 요약: Former stripper and regional sales director of a pharmaceutical company, Sunrise Lee, gave a doctor a lap dance in a nightclub to persuade him to prescribe an addictive fentanyl spray in 2012, the company's sales representative told a US court.\n",
      "\n",
      "\n",
      "원문: Reliance Industries' Chairman Mukesh Ambani's daughter Isha Ambani, who got married last month, said she only cried at her 'bidaai' because she felt peer pressure as everyone was crying, especially her parents. \"I was emotional too but everyone around me would cry all the time,\" she added. \"It was a very emotional affair for everyone in my family,\" said Isha.\n",
      "실제 요약:  I only cried at my 'bidaai' as I felt peer pressure: Isha Ambani\n",
      "예측 요약: \"It was a very emotional affair for everyone in my family,\" said Isha.\n",
      "\n",
      "\n",
      "원문: Louis Vuitton owner LVMH, which makes high-end beverages like MoÃÂ«t & Chandon champagne and Hennessy cognac, said it's stockpiling four months' worth of wine and spirits in UK in preparation for Brexit. \"We're ready for worst case scenario if there are difficulties with deliveries,\" the French luxury giant said. The UK is scheduled to leave the EU on March 29.\n",
      "실제 요약: Louis Vuitton owner to stockpile 4 months of wine, spirits in UK\n",
      "예측 요약: Louis Vuitton owner LVMH, which makes high-end beverages like MoÃÂ«t & Chandon champagne and Hennessy cognac, said it's stockpiling four months' worth of wine and spirits in UK in preparation for Brexit.\n",
      "\n",
      "\n",
      "원문: Filmmaker Karan Johar and actress Tabu turned showstoppers for Gaurav Gupta on the opening night of LakmÃÂ© Fashion Week Summer/ Resort 2019. While Johar wore a red sequinned jacket with black pants, Tabu walked the ramp in a grey embellished gown. The fashion show, which began on January 29, will continue till February 3.\n",
      "실제 요약: Karan Johar, Tabu turn showstoppers on opening night of LFW\n",
      "예측 요약: Filmmaker Karan Johar and actress Tabu turned showstoppers for Gaurav Gupta on the opening night of LakmÃÂ© Fashion Week Summer/ Resort 2019.\n",
      "\n",
      "\n",
      "원문: In a jibe at Congress President Rahul Gandhi, PM Narendra Modi on Wednesday said those on \"bail will have to go to jail.\" PM Modi added, \"He is out on bail and his associates too are facing charges...I know they will be convicted one day.\" The PM claimed he'd waged a war on corruption because he's from a common household. \n",
      "실제 요약: Those on bail will go to jail: PM Modi takes jibe at Rahul\n",
      "예측 요약: \n",
      "\n",
      "\n",
      "원문: Days after he threatened to step down from his post if Congress MLAs continue \"crossing the line,\" Karnataka Chief Minister HD Kumaraswamy accused them of taking potshots and asked, \"How many more days can I tolerate such stuff?\" Kumaraswamy, who made the statements after a Congress MLA demanded that Siddaramaiah be made CM again, said, \"Power is ephemeral.\"\n",
      "실제 요약: How long can I tolerate Congress leaders' potshots: K'taka CM\n",
      "예측 요약: \n",
      "\n",
      "\n",
      "원문: Union Minister Dharmendra Pradhan on Wednesday claimed the illegal mining mafia in Odisha operates under the control of CM Naveen Patnaik and state Congress chief Niranjan Patnaik. He added, \"The time has come for the people of Odisha to put a full stop to their activities...The time has come for us to ask for an explanation from this corrupt government.\"\n",
      "실제 요약: Odisha CM Patnaik controls mining mafia: Union Minister\n",
      "예측 요약: Union Minister Dharmendra Pradhan on Wednesday claimed the illegal mining mafia in Odisha operates under the control of CM Naveen Patnaik and state Congress chief Niranjan Patnaik.\n",
      "\n",
      "\n"
     ]
    }
   ],
   "source": [
    "# 추출적 요약 수행\n",
    "for i in range(20):\n",
    "    print(\"원문:\", data['text'][i])\n",
    "    print(\"실제 요약:\", data['headlines'][i])\n",
    "    print(\"예측 요약:\", summarize(data['text'][i], ratio=0.5))\n",
    "    print(\"\\n\")"
   ]
  },
  {
   "cell_type": "markdown",
   "id": "cb1a7e1c",
   "metadata": {},
   "source": [
    "추상적 요약 결과와 추출적 요약 결과를 각각 세 개씩만 비교해보자."
   ]
  },
  {
   "cell_type": "markdown",
   "id": "39a39454",
   "metadata": {},
   "source": [
    "#### **추상적 요약 결과**\n",
    "\n",
    "| 번호 | 원문 | 실제 요약 | 예측 요약 |\n",
    "| --- | --- | --- | --- |\n",
    "| 1 | groom canada ontario jumped pond wedding day rescue young boy drowning man bride posing post wedding pictures spotted boy struggling pond incident captured camera shared facebook wedding photographer darren  | canadian man saves boy from drowning on wedding day  | groom dances to groom after wedding photos goes viral |\n",
    "| 2 | rescue workers monday brought fifth boy group soccer coach trapped two weeks flooded cave thailand boy reportedly carried stretcher waiting ambulance hours rescue mission resumed first four boys successfully extracted sunday  | fifth boy rescued as thai cave operation resumes  | baby stuck in thai cave rescued after 3 months rescued |\n",
    "| 3 | official pictures prince harry meghan markle royal wedding released images show one group picture sides family another group picture children black white picture prince harry meghan royal couple addressed duke duchess sussex  | official pics of prince harry and meghan's royal wedding out  | prince harry meghan markle attends wedding photos |"
   ]
  },
  {
   "cell_type": "markdown",
   "id": "839abb24",
   "metadata": {},
   "source": [
    "추상적 요약은 실제 요약과 아예 다른 주제를 만들어내는 것을 확인할 수 있다.  \n",
    "또한, 같은 단어가 두 번 사용되는 경우도 발생하였다."
   ]
  },
  {
   "cell_type": "markdown",
   "id": "67500688",
   "metadata": {},
   "source": [
    "#### **추출적 요약 결과**\n",
    "\n",
    "| 번호 | 원문 | 실제 요약 | 예측 요약 |\n",
    "| --- | --- | --- | --- |\n",
    "| 1 | Kunal Shah's credit card bill payment platform, CRED, gave users a chance to win free food from Swiggy for one year. Pranav Kaushik, a Delhi techie, bagged this reward after spending 2000 CRED coins. Users get one CRED coin per rupee of bill paid, which can be used to avail rewards from brands like Ixigo, BookMyShow, UberEats, Cult.Fit and more. | Delhi techie wins free food from Swiggy for one year on CRED | Users get one CRED coin per rupee of bill paid, which can be used to avail rewards from brands like Ixigo, BookMyShow, UberEats, Cult.Fit and more. |\n",
    "| 2 | India recorded their lowest ODI total in New Zealand after getting all out for 92 runs in 30.5 overs in the fourth ODI at Hamilton on Thursday. Seven of India's batsmen were dismissed for single-digit scores, while their number ten batsman Yuzvendra Chahal top-scored with 18*(37). India's previous lowest ODI total in New Zealand was 108. | India get all out for 92, their lowest ODI total in New Zealand | India's previous lowest ODI total in New Zealand was 108. |\n",
    "| 3 | Reliance Industries' Chairman Mukesh Ambani's daughter Isha Ambani, who got married last month, said she only cried at her 'bidaai' because she felt peer pressure as everyone was crying, especially her parents. \"I was emotional too but everyone around me would cry all the time,\" she added. \"It was a very emotional affair for everyone in my family,\" said Isha. | I only cried at my 'bidaai' as I felt peer pressure: Isha Ambani | \"It was a very emotional affair for everyone in my family,\" said Isha. |"
   ]
  },
  {
   "cell_type": "markdown",
   "id": "8fceb22e",
   "metadata": {},
   "source": [
    "추출적 요약은 주어진 원문에서 문장 또는 구를 추출하기 때문에 원문의 주요한 포인트나 사실을 상대적으로 잘 반영하고 있다.  \n",
    "그러나 요약의 길이도 상대적으로 길어질 수 있는 것으로 보인다."
   ]
  },
  {
   "cell_type": "markdown",
   "id": "fa06ac72",
   "metadata": {},
   "source": [
    "---"
   ]
  },
  {
   "cell_type": "markdown",
   "id": "2b3cab4e",
   "metadata": {},
   "source": [
    "### **프로젝트 회고**\n",
    "이번 프로젝트를 통해 텍스트 요약 기술을 사용하여 긴 문장을 짧게 요약해주는 모델을 개발하였는데, 실제 사용 시 매우 유용할 것이라는 생각이 들었다. 프로젝트를 진행하면서 추출적 요약과 추상적 요약이라는 두 가지 방식에 대해 알게 되었고, 실제 사용 결과 추출적 요약이 더 자연스러운 결과를 제공하는 것 같다. 추출적 요약에서는 예측된 요약이 출력되지 않는 경우가 발생했는데, 이는 요약 결과가 너무 짧아져서 발생한 것으로 예상된다. 추출적 요약은 단어나 구문의 일치도를 기반으로 추출하기 때문에 안정적인 결과를 제공하지만, 표현의 다양성은 제한될 수 있다. 반면, 추상적 요약은 원본 텍스트를 이해하고 새로운 문장을 생성하기 때문에 자유로운 표현이 가능하지만, 정보의 왜곡이나 문장 일관성에 문제가 발생할 수 있다. 따라서, 어떤 요약 방식이 더 좋은지는 사용자의 요구사항과 용도에 따라 다를 수 있으며, 지금까지의 프로젝트에서도 그랬듯이, 문제의 성격과 데이터의 특성을 고려하여 적합한 요약 방식을 선택하는 것이 중요할 것으로 보인다. 또한, 데이터 전처리는 모든 기계 학습 작업에서 중요한 부분이지만, 이번 프로젝트를 통해 NLP 작업에서 데이터 전처리의 중요성을 다시 한 번 깨달았다. NLP 작업에서는 텍스트 데이터의 품질과 형태가 모델의 성능에 직접적인 영향을 미치기 때문에, 데이터 전처리의 역할이 더욱 더 중요한 것 같다."
   ]
  },
  {
   "cell_type": "markdown",
   "id": "c6557f6e",
   "metadata": {},
   "source": [
    "#### **새로 알게 된 것!**\n",
    "**텍스트 요약(Text Summarization)이란?**  \n",
    "긴 길이의 문서(Document) 원문을 핵심 주제만으로 구성된 짧은 요약(Summary) 문장들로 변환하는 것으로 두 가지 접근으로 나누어볼 수 있다.\n",
    "* 추출적 요약(Extractive Summarization): 원문에서 주요한 문장들을 추출해서 요약하는 방식\n",
    "* 추상적 요약(Abstractive Summarization): 원문으로부터 내용이 요약된 새로운 문장을 생성해내는 방식"
   ]
  },
  {
   "attachments": {
    "image.png": {
     "image/png": "[encoded data removed]"
    }
   },
   "cell_type": "markdown",
   "id": "7a0e25f4",
   "metadata": {},
   "source": [
    "**LSTM과 컨텍스트 벡터**\n",
    "![image.png](attachment:image.png)\n",
    "* LSTM은 hidden state뿐만 아니라 cell state도 다음 time step의 셀에 함께 전달한다.\n",
    "* 따라서, 인코더가 디코더에 전달하는 컨텍스트 벡터는 hidden state h와 cell state c 두 개의 값이 모두 존재해야 한다."
   ]
  },
  {
   "cell_type": "markdown",
   "id": "15a82285",
   "metadata": {},
   "source": [
    "**어텐션 메커니즘을 통한 새로운 컨텍스트 벡터 사용하기**"
   ]
  },
  {
   "attachments": {
    "image.png": {
     "image/png": "[encoded data removed]"
    }
   },
   "cell_type": "markdown",
   "id": "943d0d0c",
   "metadata": {},
   "source": [
    "![image.png](attachment:image.png)"
   ]
  },
  {
   "cell_type": "markdown",
   "id": "9d200e91",
   "metadata": {},
   "source": [
    "* 어텐션 메커니즘은 인코더의 모든 hidden state의 정보를 컨텍스트 벡터에 반영하여 성능을 향상시키는 방법이다.\n",
    "* 각 인코더의 hidden state는 디코더의 현재 예측에 얼마나 영향을 미치는지 가중합으로 계산된다.\n",
    "* 인코더 hidden state의 가중치 값은 디코더의 현재 스텝에 따라 계속 변화한다."
   ]
  },
  {
   "cell_type": "markdown",
   "id": "131d2cf4",
   "metadata": {},
   "source": [
    "**seq2seq 모델의 동작 순서**\n",
    "1. seq2seq를 사용한다.\n",
    "2. RNN 계열 중 LSTM을 사용하므로 hidden state뿐만 아니라 cell state도 사용해야 한다.\n",
    "3. 디코더의 예측 시퀀스에는 시작 토큰 SOS와 예측 토큰 EOS를 시퀀스의 앞, 뒤로 붙인다.\n",
    "4. seq2seq를 구동시키면 디코더는 시작 토큰을 입력받아 예측을 시작한다.\n",
    "5. seq2seq 기본 모델과 달리, 어텐션 메커니즘을 이용해 인코더의 hidden state의 중요도를 취합한 컨텍스트 벡터를 디코더 스텝별로 계산한다.\n",
    "6. 계산된 컨텍스트 벡터를 이용해서 디코더는 다음 등장할 단어를 예측한다."
   ]
  },
  {
   "cell_type": "markdown",
   "id": "2a8b400a",
   "metadata": {},
   "source": [
    "**summarize()의 인자로 사용되는 값**\n",
    "* text (str): 요약할 텍스트\n",
    "* ratio (float, optional): 요약문에서 원본에서 선택되는 문장 비율 (0~1 사이값)\n",
    "* words (int or None, optional): 출력에 포함할 단어 수 (ratio와 함께 제공되는 경우 ratio는 무시)\n",
    "* split (bool, optional): True면 문장 list / False는 조인(join)된 문자열을 반환"
   ]
  },
  {
   "cell_type": "markdown",
   "id": "e26f14b3",
   "metadata": {},
   "source": [
    "**참고한 레퍼런스**\n",
    "<br>구글 인공지능 \"뉴스 제목도 잘 뽑네\" https://zdnet.co.kr/view/?no=20160905114833&from=Mobile\n",
    "<br>정규화 사전 출처 https://stackoverflow.com/questions/19790188/expanding-english-language-contractions-in-python\n",
    "<br>Recurrent Dropout without Memory Loss https://arxiv.org/pdf/1603.05118v2.pdf\n",
    "<br>Additive Attention https://www.tensorflow.org/api_docs/python/tf/keras/layers/AdditiveAttention\n",
    "<br>Early Stopping https://www.tensorflow.org/api_docs/python/tf/keras/callbacks/EarlyStopping\n",
    "<br>뉴스 기사 데이터 https://github.com/sunnysai12345/News_Summary\n",
    "<br>어텐션 메커니즘 (Attention Mechanism) https://wikidocs.net/22893"
   ]
  }
 ],
 "metadata": {
  "kernelspec": {
   "display_name": "Python 3 (ipykernel)",
   "language": "python",
   "name": "python3"
  },
  "language_info": {
   "codemirror_mode": {
    "name": "ipython",
    "version": 3
   },
   "file_extension": ".py",
   "mimetype": "text/x-python",
   "name": "python",
   "nbconvert_exporter": "python",
   "pygments_lexer": "ipython3",
   "version": "3.9.7"
  }
 },
 "nbformat": 4,
 "nbformat_minor": 5
}
