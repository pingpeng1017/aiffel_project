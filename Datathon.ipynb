{
 "cells": [
  {
   "cell_type": "markdown",
   "id": "03999583",
   "metadata": {},
   "source": [
    "## **서울시 따릉이 대여량 예측 경진대회**"
   ]
  },
  {
   "cell_type": "markdown",
   "id": "1c9df476",
   "metadata": {},
   "source": [
    "### **서울시 마포구의 시간별 기상상황과 따릉이 대여 수 데이터**\n",
    "\n",
    "* id 고유 id\n",
    "* hour 시간\n",
    "* temperature 기온\n",
    "* precipitation 비가 오지 않았으면 0, 비가 오면 1\n",
    "* windspeed 풍속(평균)\n",
    "* humidity 습도\n",
    "* visibility 시정(視程), 시계(視界)(특정 기상 상태에 따른 가시성을 의미)\n",
    "* ozone 오존\n",
    "* pm10 미세먼지(머리카락 굵기의 1/5에서 1/7 크기의 미세먼지)\n",
    "* pm2.5 미세먼지(머리카락 굵기의 1/20에서 1/30 크기의 미세먼지)\n",
    "* count 시간에 따른 따릉이 대여 수"
   ]
  },
  {
   "cell_type": "code",
   "execution_count": 1,
   "id": "1d6bf4bb",
   "metadata": {},
   "outputs": [],
   "source": [
    "# 필요한 라이브러리 import하기\n",
    "import pandas as pd\n",
    "import numpy as np\n",
    "\n",
    "from sklearn.model_selection import train_test_split\n",
    "from sklearn.metrics import mean_squared_error\n",
    "from sklearn.ensemble import GradientBoostingRegressor\n",
    "from sklearn.ensemble import RandomForestRegressor, ExtraTreesRegressor\n",
    "from xgboost import XGBRegressor\n",
    "from lightgbm import LGBMRegressor\n",
    "import xgboost as xgb\n",
    "import lightgbm as lgb\n",
    "\n",
    "from sklearn.model_selection import KFold, cross_val_score\n",
    "\n",
    "import matplotlib.pyplot as plt\n",
    "import seaborn as sns"
   ]
  },
  {
   "cell_type": "markdown",
   "id": "ecb16224",
   "metadata": {},
   "source": [
    "### **데이터 살펴보기**"
   ]
  },
  {
   "cell_type": "code",
   "execution_count": 2,
   "id": "595e7c5d",
   "metadata": {},
   "outputs": [],
   "source": [
    "# 데이터 불러오기\n",
    "train = pd.read_csv('bike_data/train.csv') \n",
    "test = pd.read_csv('bike_data/test.csv')"
   ]
  },
  {
   "cell_type": "code",
   "execution_count": 3,
   "id": "582567cf",
   "metadata": {},
   "outputs": [
    {
     "data": {
      "text/html": [
       "<div>\n",
       "<style scoped>\n",
       "    .dataframe tbody tr th:only-of-type {\n",
       "        vertical-align: middle;\n",
       "    }\n",
       "\n",
       "    .dataframe tbody tr th {\n",
       "        vertical-align: top;\n",
       "    }\n",
       "\n",
       "    .dataframe thead th {\n",
       "        text-align: right;\n",
       "    }\n",
       "</style>\n",
       "<table border=\"1\" class=\"dataframe\">\n",
       "  <thead>\n",
       "    <tr style=\"text-align: right;\">\n",
       "      <th></th>\n",
       "      <th>id</th>\n",
       "      <th>hour</th>\n",
       "      <th>hour_bef_temperature</th>\n",
       "      <th>hour_bef_precipitation</th>\n",
       "      <th>hour_bef_windspeed</th>\n",
       "      <th>hour_bef_humidity</th>\n",
       "      <th>hour_bef_visibility</th>\n",
       "      <th>hour_bef_ozone</th>\n",
       "      <th>hour_bef_pm10</th>\n",
       "      <th>hour_bef_pm2.5</th>\n",
       "      <th>count</th>\n",
       "    </tr>\n",
       "  </thead>\n",
       "  <tbody>\n",
       "    <tr>\n",
       "      <th>0</th>\n",
       "      <td>3</td>\n",
       "      <td>20</td>\n",
       "      <td>16.3</td>\n",
       "      <td>1.0</td>\n",
       "      <td>1.5</td>\n",
       "      <td>89.0</td>\n",
       "      <td>576.0</td>\n",
       "      <td>0.027</td>\n",
       "      <td>76.0</td>\n",
       "      <td>33.0</td>\n",
       "      <td>49.0</td>\n",
       "    </tr>\n",
       "    <tr>\n",
       "      <th>1</th>\n",
       "      <td>6</td>\n",
       "      <td>13</td>\n",
       "      <td>20.1</td>\n",
       "      <td>0.0</td>\n",
       "      <td>1.4</td>\n",
       "      <td>48.0</td>\n",
       "      <td>916.0</td>\n",
       "      <td>0.042</td>\n",
       "      <td>73.0</td>\n",
       "      <td>40.0</td>\n",
       "      <td>159.0</td>\n",
       "    </tr>\n",
       "    <tr>\n",
       "      <th>2</th>\n",
       "      <td>7</td>\n",
       "      <td>6</td>\n",
       "      <td>13.9</td>\n",
       "      <td>0.0</td>\n",
       "      <td>0.7</td>\n",
       "      <td>79.0</td>\n",
       "      <td>1382.0</td>\n",
       "      <td>0.033</td>\n",
       "      <td>32.0</td>\n",
       "      <td>19.0</td>\n",
       "      <td>26.0</td>\n",
       "    </tr>\n",
       "    <tr>\n",
       "      <th>3</th>\n",
       "      <td>8</td>\n",
       "      <td>23</td>\n",
       "      <td>8.1</td>\n",
       "      <td>0.0</td>\n",
       "      <td>2.7</td>\n",
       "      <td>54.0</td>\n",
       "      <td>946.0</td>\n",
       "      <td>0.040</td>\n",
       "      <td>75.0</td>\n",
       "      <td>64.0</td>\n",
       "      <td>57.0</td>\n",
       "    </tr>\n",
       "    <tr>\n",
       "      <th>4</th>\n",
       "      <td>9</td>\n",
       "      <td>18</td>\n",
       "      <td>29.5</td>\n",
       "      <td>0.0</td>\n",
       "      <td>4.8</td>\n",
       "      <td>7.0</td>\n",
       "      <td>2000.0</td>\n",
       "      <td>0.057</td>\n",
       "      <td>27.0</td>\n",
       "      <td>11.0</td>\n",
       "      <td>431.0</td>\n",
       "    </tr>\n",
       "  </tbody>\n",
       "</table>\n",
       "</div>"
      ],
      "text/plain": [
       "   id  hour  hour_bef_temperature  hour_bef_precipitation  hour_bef_windspeed  \\\n",
       "0   3    20                  16.3                     1.0                 1.5   \n",
       "1   6    13                  20.1                     0.0                 1.4   \n",
       "2   7     6                  13.9                     0.0                 0.7   \n",
       "3   8    23                   8.1                     0.0                 2.7   \n",
       "4   9    18                  29.5                     0.0                 4.8   \n",
       "\n",
       "   hour_bef_humidity  hour_bef_visibility  hour_bef_ozone  hour_bef_pm10  \\\n",
       "0               89.0                576.0           0.027           76.0   \n",
       "1               48.0                916.0           0.042           73.0   \n",
       "2               79.0               1382.0           0.033           32.0   \n",
       "3               54.0                946.0           0.040           75.0   \n",
       "4                7.0               2000.0           0.057           27.0   \n",
       "\n",
       "   hour_bef_pm2.5  count  \n",
       "0            33.0   49.0  \n",
       "1            40.0  159.0  \n",
       "2            19.0   26.0  \n",
       "3            64.0   57.0  \n",
       "4            11.0  431.0  "
      ]
     },
     "execution_count": 3,
     "metadata": {},
     "output_type": "execute_result"
    }
   ],
   "source": [
    "train.head()"
   ]
  },
  {
   "cell_type": "code",
   "execution_count": 4,
   "id": "a91a098e",
   "metadata": {},
   "outputs": [
    {
     "data": {
      "text/html": [
       "<div>\n",
       "<style scoped>\n",
       "    .dataframe tbody tr th:only-of-type {\n",
       "        vertical-align: middle;\n",
       "    }\n",
       "\n",
       "    .dataframe tbody tr th {\n",
       "        vertical-align: top;\n",
       "    }\n",
       "\n",
       "    .dataframe thead th {\n",
       "        text-align: right;\n",
       "    }\n",
       "</style>\n",
       "<table border=\"1\" class=\"dataframe\">\n",
       "  <thead>\n",
       "    <tr style=\"text-align: right;\">\n",
       "      <th></th>\n",
       "      <th>id</th>\n",
       "      <th>hour</th>\n",
       "      <th>hour_bef_temperature</th>\n",
       "      <th>hour_bef_precipitation</th>\n",
       "      <th>hour_bef_windspeed</th>\n",
       "      <th>hour_bef_humidity</th>\n",
       "      <th>hour_bef_visibility</th>\n",
       "      <th>hour_bef_ozone</th>\n",
       "      <th>hour_bef_pm10</th>\n",
       "      <th>hour_bef_pm2.5</th>\n",
       "    </tr>\n",
       "  </thead>\n",
       "  <tbody>\n",
       "    <tr>\n",
       "      <th>0</th>\n",
       "      <td>0</td>\n",
       "      <td>7</td>\n",
       "      <td>20.7</td>\n",
       "      <td>0.0</td>\n",
       "      <td>1.3</td>\n",
       "      <td>62.0</td>\n",
       "      <td>954.0</td>\n",
       "      <td>0.041</td>\n",
       "      <td>44.0</td>\n",
       "      <td>27.0</td>\n",
       "    </tr>\n",
       "    <tr>\n",
       "      <th>1</th>\n",
       "      <td>1</td>\n",
       "      <td>17</td>\n",
       "      <td>30.0</td>\n",
       "      <td>0.0</td>\n",
       "      <td>5.4</td>\n",
       "      <td>33.0</td>\n",
       "      <td>1590.0</td>\n",
       "      <td>0.061</td>\n",
       "      <td>49.0</td>\n",
       "      <td>36.0</td>\n",
       "    </tr>\n",
       "    <tr>\n",
       "      <th>2</th>\n",
       "      <td>2</td>\n",
       "      <td>13</td>\n",
       "      <td>19.0</td>\n",
       "      <td>1.0</td>\n",
       "      <td>2.1</td>\n",
       "      <td>95.0</td>\n",
       "      <td>193.0</td>\n",
       "      <td>0.020</td>\n",
       "      <td>36.0</td>\n",
       "      <td>28.0</td>\n",
       "    </tr>\n",
       "    <tr>\n",
       "      <th>3</th>\n",
       "      <td>4</td>\n",
       "      <td>6</td>\n",
       "      <td>22.5</td>\n",
       "      <td>0.0</td>\n",
       "      <td>2.5</td>\n",
       "      <td>60.0</td>\n",
       "      <td>1185.0</td>\n",
       "      <td>0.027</td>\n",
       "      <td>52.0</td>\n",
       "      <td>38.0</td>\n",
       "    </tr>\n",
       "    <tr>\n",
       "      <th>4</th>\n",
       "      <td>5</td>\n",
       "      <td>22</td>\n",
       "      <td>14.6</td>\n",
       "      <td>1.0</td>\n",
       "      <td>3.4</td>\n",
       "      <td>93.0</td>\n",
       "      <td>218.0</td>\n",
       "      <td>0.041</td>\n",
       "      <td>18.0</td>\n",
       "      <td>15.0</td>\n",
       "    </tr>\n",
       "  </tbody>\n",
       "</table>\n",
       "</div>"
      ],
      "text/plain": [
       "   id  hour  hour_bef_temperature  hour_bef_precipitation  hour_bef_windspeed  \\\n",
       "0   0     7                  20.7                     0.0                 1.3   \n",
       "1   1    17                  30.0                     0.0                 5.4   \n",
       "2   2    13                  19.0                     1.0                 2.1   \n",
       "3   4     6                  22.5                     0.0                 2.5   \n",
       "4   5    22                  14.6                     1.0                 3.4   \n",
       "\n",
       "   hour_bef_humidity  hour_bef_visibility  hour_bef_ozone  hour_bef_pm10  \\\n",
       "0               62.0                954.0           0.041           44.0   \n",
       "1               33.0               1590.0           0.061           49.0   \n",
       "2               95.0                193.0           0.020           36.0   \n",
       "3               60.0               1185.0           0.027           52.0   \n",
       "4               93.0                218.0           0.041           18.0   \n",
       "\n",
       "   hour_bef_pm2.5  \n",
       "0            27.0  \n",
       "1            36.0  \n",
       "2            28.0  \n",
       "3            38.0  \n",
       "4            15.0  "
      ]
     },
     "execution_count": 4,
     "metadata": {},
     "output_type": "execute_result"
    }
   ],
   "source": [
    "test.head()"
   ]
  },
  {
   "cell_type": "code",
   "execution_count": 5,
   "id": "1304bf22",
   "metadata": {},
   "outputs": [
    {
     "name": "stdout",
     "output_type": "stream",
     "text": [
      "(1459, 11)\n",
      "(715, 10)\n"
     ]
    }
   ],
   "source": [
    "print(train.shape)\n",
    "print(test.shape)"
   ]
  },
  {
   "cell_type": "markdown",
   "id": "59bc4c35",
   "metadata": {},
   "source": [
    "train 데이터가 열의 개수가 하나 더 많은 것을 확인할 수 있다. (타겟인 count 포함)"
   ]
  },
  {
   "cell_type": "markdown",
   "id": "5117a4b9",
   "metadata": {},
   "source": [
    "#### **상관관계 확인**"
   ]
  },
  {
   "cell_type": "code",
   "execution_count": 6,
   "id": "2b360e43",
   "metadata": {},
   "outputs": [
    {
     "data": {
      "image/png": "[encoded data removed]",
      "text/plain": [
       "<Figure size 1000x800 with 2 Axes>"
      ]
     },
     "metadata": {},
     "output_type": "display_data"
    }
   ],
   "source": [
    "plt.figure(figsize=(10, 8))\n",
    "sns.heatmap(train.corr(), annot=True, cmap='cool', center=0)\n",
    "plt.title('Correlation Heatmap', fontsize=16)\n",
    "plt.show()"
   ]
  },
  {
   "cell_type": "markdown",
   "id": "db9c12f5",
   "metadata": {},
   "source": [
    "count와 상관성이 가장 높은 변수는 hour인 것을 알 수 있다."
   ]
  },
  {
   "cell_type": "markdown",
   "id": "f554735e",
   "metadata": {},
   "source": [
    "#### **각 변수들의 분포 확인**"
   ]
  },
  {
   "cell_type": "code",
   "execution_count": 7,
   "id": "036dad01",
   "metadata": {
    "scrolled": false
   },
   "outputs": [
    {
     "data": {
      "image/png": "[encoded data removed]",
      "text/plain": [
       "<Figure size 1500x1200 with 8 Axes>"
      ]
     },
     "metadata": {},
     "output_type": "display_data"
    }
   ],
   "source": [
    "fig, ax = plt.subplots(4, 2, figsize=(15, 12))\n",
    "fig.subplots_adjust(hspace=0.4, wspace=0.3)\n",
    "\n",
    "count = 0\n",
    "columns = train.columns\n",
    "for row in range(4):\n",
    "    for col in range(2):\n",
    "        sns.kdeplot(train[columns[count]], ax=ax[row][col])\n",
    "        ax[row][col].set_title(columns[count], fontsize=15)\n",
    "        ax[row][col].set_xlabel('')\n",
    "        ax[row][col].set_ylabel('')\n",
    "        count += 1\n",
    "        if count == 7:\n",
    "            break"
   ]
  },
  {
   "cell_type": "markdown",
   "id": "6ff813b8",
   "metadata": {},
   "source": [
    "hour_bef_visibility의 경우 그래프가 한쪽으로 쏠려있는 것을 확인할 수 있어 log 변환을 시도해보기로 했다."
   ]
  },
  {
   "cell_type": "markdown",
   "id": "7db7ba14",
   "metadata": {},
   "source": [
    "#### **시간대별 대여량 분석**"
   ]
  },
  {
   "cell_type": "code",
   "execution_count": 8,
   "id": "a26becef",
   "metadata": {},
   "outputs": [
    {
     "data": {
      "image/png": "[encoded data removed]",
      "text/plain": [
       "<Figure size 640x480 with 1 Axes>"
      ]
     },
     "metadata": {},
     "output_type": "display_data"
    }
   ],
   "source": [
    "hourly_rentals = train.groupby('hour')['count'].sum().reset_index()\n",
    "sns.barplot(x='hour', y='count', data=hourly_rentals)\n",
    "plt.title('Hourly Rentals', fontsize=16)\n",
    "plt.xlabel('Hour', fontsize=12)\n",
    "plt.ylabel('Total Rentals', fontsize=12)\n",
    "plt.show()"
   ]
  },
  {
   "cell_type": "markdown",
   "id": "4c69d7c1",
   "metadata": {},
   "source": [
    "대여량이 8시, 18시에 갑자기 증가하는 것을 확인할 수 있다.\n",
    "<br>이를 토대로 출퇴근, 등하교 시간에 대여량이 증가한다고 추측할 수 있을 것 같다."
   ]
  },
  {
   "cell_type": "markdown",
   "id": "602c9b15",
   "metadata": {},
   "source": [
    "#### **비에 관한 분석**"
   ]
  },
  {
   "cell_type": "code",
   "execution_count": 9,
   "id": "188ccca3",
   "metadata": {},
   "outputs": [
    {
     "name": "stdout",
     "output_type": "stream",
     "text": [
      "비가 온 시간 : 46\n",
      "비가 안 온 시간 : 1411\n"
     ]
    }
   ],
   "source": [
    "rainy_hours = train[train['hour_bef_precipitation']==1.0]['hour_bef_precipitation'].count()\n",
    "non_rainy_hours = train[train['hour_bef_precipitation']==0.0]['hour_bef_precipitation'].count()\n",
    "\n",
    "print(f'비가 온 시간 : {rainy_hours}')\n",
    "print(f'비가 안 온 시간 : {non_rainy_hours}')"
   ]
  },
  {
   "cell_type": "markdown",
   "id": "ddbaeed0",
   "metadata": {},
   "source": [
    "비가 안 온 시간 대비 비가 온 시간의 데이터 수가 약 30배 차이나는 것을 확인할 수 있다."
   ]
  },
  {
   "cell_type": "code",
   "execution_count": 10,
   "id": "706389c8",
   "metadata": {},
   "outputs": [
    {
     "name": "stdout",
     "output_type": "stream",
     "text": [
      "비가 온 시간의 대여량: 1549.0\n",
      "비가 안 온 시간의 대여량: 156805.0\n"
     ]
    }
   ],
   "source": [
    "rainy_rentals = train[train['hour_bef_precipitation']==1.0]['count'].sum()\n",
    "non_rainy_rentals = train[train['hour_bef_precipitation']==0.0]['count'].sum()\n",
    "\n",
    "print(f'비가 온 시간의 대여량: {rainy_rentals}')\n",
    "print(f'비가 안 온 시간의 대여량: {non_rainy_rentals}')"
   ]
  },
  {
   "cell_type": "markdown",
   "id": "ae9e7ea9",
   "metadata": {},
   "source": [
    "비가 온 시간과 안 온 시간의 대여량 차이 또한 매우 크다는 것을 알 수 있다."
   ]
  },
  {
   "cell_type": "markdown",
   "id": "9b534b4d",
   "metadata": {},
   "source": [
    "### **데이터 전처리**"
   ]
  },
  {
   "cell_type": "code",
   "execution_count": 11,
   "id": "d2ef58e9",
   "metadata": {},
   "outputs": [
    {
     "name": "stdout",
     "output_type": "stream",
     "text": [
      "Index(['id', 'hour', 'hour_bef_temperature', 'hour_bef_precipitation',\n",
      "       'hour_bef_windspeed', 'hour_bef_humidity', 'hour_bef_visibility',\n",
      "       'hour_bef_ozone', 'hour_bef_pm10', 'hour_bef_pm2.5'],\n",
      "      dtype='object')\n"
     ]
    }
   ],
   "source": [
    "# 학습 데이터에서 라벨 제거하기\n",
    "y = train['count']\n",
    "del train['count']\n",
    "\n",
    "print(train.columns)"
   ]
  },
  {
   "cell_type": "code",
   "execution_count": 12,
   "id": "1c4d3705",
   "metadata": {},
   "outputs": [
    {
     "name": "stdout",
     "output_type": "stream",
     "text": [
      "2174\n"
     ]
    }
   ],
   "source": [
    "# 학습 데이터와 테스트 데이터 합치기\n",
    "train_len = len(train)\n",
    "data = pd.concat((train, test), axis=0)\n",
    "\n",
    "print(len(data))"
   ]
  },
  {
   "cell_type": "code",
   "execution_count": 13,
   "id": "b417a6fc",
   "metadata": {},
   "outputs": [],
   "source": [
    "data.reset_index(drop=True, inplace=True)"
   ]
  },
  {
   "cell_type": "code",
   "execution_count": 14,
   "id": "2889ec5a",
   "metadata": {},
   "outputs": [
    {
     "data": {
      "text/html": [
       "<div>\n",
       "<style scoped>\n",
       "    .dataframe tbody tr th:only-of-type {\n",
       "        vertical-align: middle;\n",
       "    }\n",
       "\n",
       "    .dataframe tbody tr th {\n",
       "        vertical-align: top;\n",
       "    }\n",
       "\n",
       "    .dataframe thead th {\n",
       "        text-align: right;\n",
       "    }\n",
       "</style>\n",
       "<table border=\"1\" class=\"dataframe\">\n",
       "  <thead>\n",
       "    <tr style=\"text-align: right;\">\n",
       "      <th></th>\n",
       "      <th>id</th>\n",
       "      <th>hour</th>\n",
       "      <th>hour_bef_temperature</th>\n",
       "      <th>hour_bef_precipitation</th>\n",
       "      <th>hour_bef_windspeed</th>\n",
       "      <th>hour_bef_humidity</th>\n",
       "      <th>hour_bef_visibility</th>\n",
       "      <th>hour_bef_ozone</th>\n",
       "      <th>hour_bef_pm10</th>\n",
       "      <th>hour_bef_pm2.5</th>\n",
       "    </tr>\n",
       "  </thead>\n",
       "  <tbody>\n",
       "    <tr>\n",
       "      <th>0</th>\n",
       "      <td>3</td>\n",
       "      <td>20</td>\n",
       "      <td>16.3</td>\n",
       "      <td>1.0</td>\n",
       "      <td>1.5</td>\n",
       "      <td>89.0</td>\n",
       "      <td>576.0</td>\n",
       "      <td>0.027</td>\n",
       "      <td>76.0</td>\n",
       "      <td>33.0</td>\n",
       "    </tr>\n",
       "    <tr>\n",
       "      <th>1</th>\n",
       "      <td>6</td>\n",
       "      <td>13</td>\n",
       "      <td>20.1</td>\n",
       "      <td>0.0</td>\n",
       "      <td>1.4</td>\n",
       "      <td>48.0</td>\n",
       "      <td>916.0</td>\n",
       "      <td>0.042</td>\n",
       "      <td>73.0</td>\n",
       "      <td>40.0</td>\n",
       "    </tr>\n",
       "    <tr>\n",
       "      <th>2</th>\n",
       "      <td>7</td>\n",
       "      <td>6</td>\n",
       "      <td>13.9</td>\n",
       "      <td>0.0</td>\n",
       "      <td>0.7</td>\n",
       "      <td>79.0</td>\n",
       "      <td>1382.0</td>\n",
       "      <td>0.033</td>\n",
       "      <td>32.0</td>\n",
       "      <td>19.0</td>\n",
       "    </tr>\n",
       "    <tr>\n",
       "      <th>3</th>\n",
       "      <td>8</td>\n",
       "      <td>23</td>\n",
       "      <td>8.1</td>\n",
       "      <td>0.0</td>\n",
       "      <td>2.7</td>\n",
       "      <td>54.0</td>\n",
       "      <td>946.0</td>\n",
       "      <td>0.040</td>\n",
       "      <td>75.0</td>\n",
       "      <td>64.0</td>\n",
       "    </tr>\n",
       "    <tr>\n",
       "      <th>4</th>\n",
       "      <td>9</td>\n",
       "      <td>18</td>\n",
       "      <td>29.5</td>\n",
       "      <td>0.0</td>\n",
       "      <td>4.8</td>\n",
       "      <td>7.0</td>\n",
       "      <td>2000.0</td>\n",
       "      <td>0.057</td>\n",
       "      <td>27.0</td>\n",
       "      <td>11.0</td>\n",
       "    </tr>\n",
       "  </tbody>\n",
       "</table>\n",
       "</div>"
      ],
      "text/plain": [
       "   id  hour  hour_bef_temperature  hour_bef_precipitation  hour_bef_windspeed  \\\n",
       "0   3    20                  16.3                     1.0                 1.5   \n",
       "1   6    13                  20.1                     0.0                 1.4   \n",
       "2   7     6                  13.9                     0.0                 0.7   \n",
       "3   8    23                   8.1                     0.0                 2.7   \n",
       "4   9    18                  29.5                     0.0                 4.8   \n",
       "\n",
       "   hour_bef_humidity  hour_bef_visibility  hour_bef_ozone  hour_bef_pm10  \\\n",
       "0               89.0                576.0           0.027           76.0   \n",
       "1               48.0                916.0           0.042           73.0   \n",
       "2               79.0               1382.0           0.033           32.0   \n",
       "3               54.0                946.0           0.040           75.0   \n",
       "4                7.0               2000.0           0.057           27.0   \n",
       "\n",
       "   hour_bef_pm2.5  \n",
       "0            33.0  \n",
       "1            40.0  \n",
       "2            19.0  \n",
       "3            64.0  \n",
       "4            11.0  "
      ]
     },
     "execution_count": 14,
     "metadata": {},
     "output_type": "execute_result"
    }
   ],
   "source": [
    "data.head()"
   ]
  },
  {
   "cell_type": "code",
   "execution_count": 15,
   "id": "b10bcd36",
   "metadata": {},
   "outputs": [
    {
     "name": "stdout",
     "output_type": "stream",
     "text": [
      "<class 'pandas.core.frame.DataFrame'>\n",
      "RangeIndex: 2174 entries, 0 to 2173\n",
      "Data columns (total 10 columns):\n",
      " #   Column                  Non-Null Count  Dtype  \n",
      "---  ------                  --------------  -----  \n",
      " 0   id                      2174 non-null   int64  \n",
      " 1   hour                    2174 non-null   int64  \n",
      " 2   hour_bef_temperature    2171 non-null   float64\n",
      " 3   hour_bef_precipitation  2171 non-null   float64\n",
      " 4   hour_bef_windspeed      2164 non-null   float64\n",
      " 5   hour_bef_humidity       2171 non-null   float64\n",
      " 6   hour_bef_visibility     2171 non-null   float64\n",
      " 7   hour_bef_ozone          2063 non-null   float64\n",
      " 8   hour_bef_pm10           2047 non-null   float64\n",
      " 9   hour_bef_pm2.5          2021 non-null   float64\n",
      "dtypes: float64(8), int64(2)\n",
      "memory usage: 170.0 KB\n"
     ]
    }
   ],
   "source": [
    "data.info()"
   ]
  },
  {
   "cell_type": "markdown",
   "id": "0084afd1",
   "metadata": {},
   "source": [
    "모두 실수 또는 정수 자료형으로, 문제 없이 모델 학습에 활용할 수 있을 것 같다."
   ]
  },
  {
   "cell_type": "markdown",
   "id": "cb03353b",
   "metadata": {},
   "source": [
    "#### **로그 변환**"
   ]
  },
  {
   "cell_type": "markdown",
   "id": "0deec341",
   "metadata": {},
   "source": [
    "데이터의 분포가 한쪽으로 쏠린 모습을 보인 hour_bef_visibility를 로그 변환시켜주자."
   ]
  },
  {
   "cell_type": "code",
   "execution_count": 16,
   "id": "8f860be8",
   "metadata": {},
   "outputs": [
    {
     "data": {
      "text/plain": [
       "<Axes: >"
      ]
     },
     "execution_count": 16,
     "metadata": {},
     "output_type": "execute_result"
    },
    {
     "data": {
      "image/png": "[encoded data removed]",
      "text/plain": [
       "<Figure size 640x480 with 1 Axes>"
      ]
     },
     "metadata": {},
     "output_type": "display_data"
    }
   ],
   "source": [
    "# hour_bef_visibility 히스토그램\n",
    "data['hour_bef_visibility'].hist(bins=100)"
   ]
  },
  {
   "cell_type": "code",
   "execution_count": 17,
   "id": "165eff6c",
   "metadata": {},
   "outputs": [
    {
     "name": "stdout",
     "output_type": "stream",
     "text": [
      "0     576.0\n",
      "1     916.0\n",
      "2    1382.0\n",
      "Name: hour_bef_visibility, dtype: float64\n",
      "0    6.357842\n",
      "1    6.821107\n",
      "2    7.232010\n",
      "Name: hour_bef_visibility, dtype: float64\n",
      "0     576.0\n",
      "1     916.0\n",
      "2    1382.0\n",
      "Name: hour_bef_visibility, dtype: float64\n"
     ]
    }
   ],
   "source": [
    "print(data['hour_bef_visibility'][:3])\n",
    "print(np.log1p(data['hour_bef_visibility'])[:3])\n",
    "print(np.expm1(np.log1p(data['hour_bef_visibility'])[:3])) # 로그로 치환하고 다시 반환하면 문제x"
   ]
  },
  {
   "cell_type": "code",
   "execution_count": 18,
   "id": "80fc41ed",
   "metadata": {},
   "outputs": [
    {
     "data": {
      "text/plain": [
       "<Axes: >"
      ]
     },
     "execution_count": 18,
     "metadata": {},
     "output_type": "execute_result"
    },
    {
     "data": {
      "image/png": "[encoded data removed]",
      "text/plain": [
       "<Figure size 640x480 with 1 Axes>"
      ]
     },
     "metadata": {},
     "output_type": "display_data"
    }
   ],
   "source": [
    "# 로그 변환\n",
    "data['hour_bef_visibility'] = np.log1p(data['hour_bef_visibility'])\n",
    "data['hour_bef_visibility'].hist(bins=100)"
   ]
  },
  {
   "cell_type": "markdown",
   "id": "0992e060",
   "metadata": {},
   "source": [
    "그래프의 모양이 크게 달라지지 않은 것을 확인할 수 있다.\n",
    "<br>위에서 살짝 쏠린 형태를 보였던 hour_bef_windspeed도 왜곡되어 있을 수 있으므로 로그 변환 후 분포를 확인해보자."
   ]
  },
  {
   "cell_type": "code",
   "execution_count": 19,
   "id": "0c3e5ddf",
   "metadata": {
    "scrolled": false
   },
   "outputs": [
    {
     "data": {
      "text/plain": [
       "<Axes: >"
      ]
     },
     "execution_count": 19,
     "metadata": {},
     "output_type": "execute_result"
    },
    {
     "data": {
      "image/png": "[encoded data removed]",
      "text/plain": [
       "<Figure size 640x480 with 1 Axes>"
      ]
     },
     "metadata": {},
     "output_type": "display_data"
    }
   ],
   "source": [
    "# hour_bef_windspeed 히스토그램\n",
    "data['hour_bef_windspeed'].hist(bins=100)"
   ]
  },
  {
   "cell_type": "code",
   "execution_count": 20,
   "id": "f5820afe",
   "metadata": {},
   "outputs": [
    {
     "name": "stdout",
     "output_type": "stream",
     "text": [
      "0    1.5\n",
      "1    1.4\n",
      "2    0.7\n",
      "Name: hour_bef_windspeed, dtype: float64\n",
      "0    0.916291\n",
      "1    0.875469\n",
      "2    0.530628\n",
      "Name: hour_bef_windspeed, dtype: float64\n",
      "0    1.5\n",
      "1    1.4\n",
      "2    0.7\n",
      "Name: hour_bef_windspeed, dtype: float64\n"
     ]
    }
   ],
   "source": [
    "print(data['hour_bef_windspeed'][:3])\n",
    "print(np.log1p(data['hour_bef_windspeed'])[:3])\n",
    "print(np.expm1(np.log1p(data['hour_bef_windspeed'])[:3])) # 로그로 치환하고 다시 반환하면 문제x"
   ]
  },
  {
   "cell_type": "code",
   "execution_count": 21,
   "id": "8f6720aa",
   "metadata": {},
   "outputs": [
    {
     "data": {
      "text/plain": [
       "<Axes: >"
      ]
     },
     "execution_count": 21,
     "metadata": {},
     "output_type": "execute_result"
    },
    {
     "data": {
      "image/png": "[encoded data removed]",
      "text/plain": [
       "<Figure size 640x480 with 1 Axes>"
      ]
     },
     "metadata": {},
     "output_type": "display_data"
    }
   ],
   "source": [
    "# 로그 변환\n",
    "data['hour_bef_windspeed'] = np.log1p(data['hour_bef_windspeed'])\n",
    "data['hour_bef_windspeed'].hist(bins=100)"
   ]
  },
  {
   "cell_type": "markdown",
   "id": "febf5903",
   "metadata": {},
   "source": [
    "비교적 완만한 정규분포의 형태로 잘 변환된 것을 확인할 수 있다."
   ]
  },
  {
   "cell_type": "markdown",
   "id": "dc6deef5",
   "metadata": {},
   "source": [
    "#### **결측치 확인**"
   ]
  },
  {
   "cell_type": "code",
   "execution_count": 22,
   "id": "b7059876",
   "metadata": {},
   "outputs": [
    {
     "data": {
      "text/plain": [
       "id                          0\n",
       "hour                        0\n",
       "hour_bef_temperature        3\n",
       "hour_bef_precipitation      3\n",
       "hour_bef_windspeed         10\n",
       "hour_bef_humidity           3\n",
       "hour_bef_visibility         3\n",
       "hour_bef_ozone            111\n",
       "hour_bef_pm10             127\n",
       "hour_bef_pm2.5            153\n",
       "dtype: int64"
      ]
     },
     "execution_count": 22,
     "metadata": {},
     "output_type": "execute_result"
    }
   ],
   "source": [
    "data.isna().sum()"
   ]
  },
  {
   "cell_type": "markdown",
   "id": "667d9bce",
   "metadata": {},
   "source": [
    "적지 않은 양의 결측치가 있는 것을 확인할 수 있다.\n",
    "<br>해당 결측치들을 각 피처의 시간대별 평균값으로 대체해주기로 했다."
   ]
  },
  {
   "cell_type": "markdown",
   "id": "07b078e0",
   "metadata": {},
   "source": [
    "#### **결측치 처리**"
   ]
  },
  {
   "cell_type": "code",
   "execution_count": 23,
   "id": "de0c28ea",
   "metadata": {},
   "outputs": [
    {
     "data": {
      "text/html": [
       "<div>\n",
       "<style scoped>\n",
       "    .dataframe tbody tr th:only-of-type {\n",
       "        vertical-align: middle;\n",
       "    }\n",
       "\n",
       "    .dataframe tbody tr th {\n",
       "        vertical-align: top;\n",
       "    }\n",
       "\n",
       "    .dataframe thead th {\n",
       "        text-align: right;\n",
       "    }\n",
       "</style>\n",
       "<table border=\"1\" class=\"dataframe\">\n",
       "  <thead>\n",
       "    <tr style=\"text-align: right;\">\n",
       "      <th></th>\n",
       "      <th>id</th>\n",
       "      <th>hour</th>\n",
       "      <th>hour_bef_temperature</th>\n",
       "      <th>hour_bef_precipitation</th>\n",
       "      <th>hour_bef_windspeed</th>\n",
       "      <th>hour_bef_humidity</th>\n",
       "      <th>hour_bef_visibility</th>\n",
       "      <th>hour_bef_ozone</th>\n",
       "      <th>hour_bef_pm10</th>\n",
       "      <th>hour_bef_pm2.5</th>\n",
       "    </tr>\n",
       "  </thead>\n",
       "  <tbody>\n",
       "    <tr>\n",
       "      <th>934</th>\n",
       "      <td>1420</td>\n",
       "      <td>0</td>\n",
       "      <td>NaN</td>\n",
       "      <td>NaN</td>\n",
       "      <td>NaN</td>\n",
       "      <td>NaN</td>\n",
       "      <td>NaN</td>\n",
       "      <td>NaN</td>\n",
       "      <td>NaN</td>\n",
       "      <td>NaN</td>\n",
       "    </tr>\n",
       "    <tr>\n",
       "      <th>1035</th>\n",
       "      <td>1553</td>\n",
       "      <td>18</td>\n",
       "      <td>NaN</td>\n",
       "      <td>NaN</td>\n",
       "      <td>NaN</td>\n",
       "      <td>NaN</td>\n",
       "      <td>NaN</td>\n",
       "      <td>NaN</td>\n",
       "      <td>NaN</td>\n",
       "      <td>NaN</td>\n",
       "    </tr>\n",
       "    <tr>\n",
       "      <th>2112</th>\n",
       "      <td>1943</td>\n",
       "      <td>19</td>\n",
       "      <td>NaN</td>\n",
       "      <td>NaN</td>\n",
       "      <td>NaN</td>\n",
       "      <td>NaN</td>\n",
       "      <td>NaN</td>\n",
       "      <td>NaN</td>\n",
       "      <td>NaN</td>\n",
       "      <td>NaN</td>\n",
       "    </tr>\n",
       "  </tbody>\n",
       "</table>\n",
       "</div>"
      ],
      "text/plain": [
       "        id  hour  hour_bef_temperature  hour_bef_precipitation  \\\n",
       "934   1420     0                   NaN                     NaN   \n",
       "1035  1553    18                   NaN                     NaN   \n",
       "2112  1943    19                   NaN                     NaN   \n",
       "\n",
       "      hour_bef_windspeed  hour_bef_humidity  hour_bef_visibility  \\\n",
       "934                  NaN                NaN                  NaN   \n",
       "1035                 NaN                NaN                  NaN   \n",
       "2112                 NaN                NaN                  NaN   \n",
       "\n",
       "      hour_bef_ozone  hour_bef_pm10  hour_bef_pm2.5  \n",
       "934              NaN            NaN             NaN  \n",
       "1035             NaN            NaN             NaN  \n",
       "2112             NaN            NaN             NaN  "
      ]
     },
     "execution_count": 23,
     "metadata": {},
     "output_type": "execute_result"
    }
   ],
   "source": [
    "# hour_bef_temperature 결측치 확인\n",
    "data[data['hour_bef_temperature'].isna()]"
   ]
  },
  {
   "cell_type": "code",
   "execution_count": 24,
   "id": "5ffd184f",
   "metadata": {},
   "outputs": [
    {
     "data": {
      "text/plain": [
       "<matplotlib.lines.Line2D at 0x1cbfb569780>"
      ]
     },
     "execution_count": 24,
     "metadata": {},
     "output_type": "execute_result"
    },
    {
     "data": {
      "image/png": "[encoded data removed]",
      "text/plain": [
       "<Figure size 640x480 with 1 Axes>"
      ]
     },
     "metadata": {},
     "output_type": "display_data"
    }
   ],
   "source": [
    "# 시간별 평균 온도 시각화\n",
    "data.groupby('hour').mean()['hour_bef_temperature'].plot()\n",
    "plt.axhline(data.groupby('hour').mean()['hour_bef_temperature'].mean())"
   ]
  },
  {
   "cell_type": "code",
   "execution_count": 25,
   "id": "6a8f6abf",
   "metadata": {},
   "outputs": [
    {
     "data": {
      "text/plain": [
       "hour\n",
       "0     17.012360\n",
       "1     16.407692\n",
       "2     16.006593\n",
       "3     15.614286\n",
       "4     15.260440\n",
       "5     14.916667\n",
       "6     14.640659\n",
       "7     14.498901\n",
       "8     14.989011\n",
       "9     16.608791\n",
       "10    18.365934\n",
       "11    20.027473\n",
       "12    21.426374\n",
       "13    22.642222\n",
       "14    23.291209\n",
       "15    23.819780\n",
       "16    24.048315\n",
       "17    23.638202\n",
       "18    22.908989\n",
       "19    21.768889\n",
       "20    20.371429\n",
       "21    19.167416\n",
       "22    18.193407\n",
       "23    17.563736\n",
       "Name: hour_bef_temperature, dtype: float64"
      ]
     },
     "execution_count": 25,
     "metadata": {},
     "output_type": "execute_result"
    }
   ],
   "source": [
    "data.groupby('hour').mean()['hour_bef_temperature']"
   ]
  },
  {
   "cell_type": "code",
   "execution_count": 26,
   "id": "17eac95e",
   "metadata": {},
   "outputs": [],
   "source": [
    "# 결측치 채우기\n",
    "data['hour_bef_temperature'].fillna(data.groupby('hour')['hour_bef_temperature'].transform('mean'), inplace=True)"
   ]
  },
  {
   "cell_type": "code",
   "execution_count": 27,
   "id": "6ea0144d",
   "metadata": {},
   "outputs": [
    {
     "data": {
      "text/html": [
       "<div>\n",
       "<style scoped>\n",
       "    .dataframe tbody tr th:only-of-type {\n",
       "        vertical-align: middle;\n",
       "    }\n",
       "\n",
       "    .dataframe tbody tr th {\n",
       "        vertical-align: top;\n",
       "    }\n",
       "\n",
       "    .dataframe thead th {\n",
       "        text-align: right;\n",
       "    }\n",
       "</style>\n",
       "<table border=\"1\" class=\"dataframe\">\n",
       "  <thead>\n",
       "    <tr style=\"text-align: right;\">\n",
       "      <th></th>\n",
       "      <th>id</th>\n",
       "      <th>hour</th>\n",
       "      <th>hour_bef_temperature</th>\n",
       "      <th>hour_bef_precipitation</th>\n",
       "      <th>hour_bef_windspeed</th>\n",
       "      <th>hour_bef_humidity</th>\n",
       "      <th>hour_bef_visibility</th>\n",
       "      <th>hour_bef_ozone</th>\n",
       "      <th>hour_bef_pm10</th>\n",
       "      <th>hour_bef_pm2.5</th>\n",
       "    </tr>\n",
       "  </thead>\n",
       "  <tbody>\n",
       "    <tr>\n",
       "      <th>18</th>\n",
       "      <td>33</td>\n",
       "      <td>13</td>\n",
       "      <td>22.600000</td>\n",
       "      <td>0.0</td>\n",
       "      <td>NaN</td>\n",
       "      <td>41.0</td>\n",
       "      <td>6.895683</td>\n",
       "      <td>0.046</td>\n",
       "      <td>64.0</td>\n",
       "      <td>39.0</td>\n",
       "    </tr>\n",
       "    <tr>\n",
       "      <th>244</th>\n",
       "      <td>381</td>\n",
       "      <td>1</td>\n",
       "      <td>14.100000</td>\n",
       "      <td>0.0</td>\n",
       "      <td>NaN</td>\n",
       "      <td>55.0</td>\n",
       "      <td>7.597396</td>\n",
       "      <td>NaN</td>\n",
       "      <td>NaN</td>\n",
       "      <td>NaN</td>\n",
       "    </tr>\n",
       "    <tr>\n",
       "      <th>260</th>\n",
       "      <td>404</td>\n",
       "      <td>3</td>\n",
       "      <td>14.000000</td>\n",
       "      <td>0.0</td>\n",
       "      <td>NaN</td>\n",
       "      <td>50.0</td>\n",
       "      <td>7.601402</td>\n",
       "      <td>0.049</td>\n",
       "      <td>35.0</td>\n",
       "      <td>22.0</td>\n",
       "    </tr>\n",
       "    <tr>\n",
       "      <th>376</th>\n",
       "      <td>570</td>\n",
       "      <td>0</td>\n",
       "      <td>14.300000</td>\n",
       "      <td>0.0</td>\n",
       "      <td>NaN</td>\n",
       "      <td>49.0</td>\n",
       "      <td>7.601402</td>\n",
       "      <td>0.044</td>\n",
       "      <td>37.0</td>\n",
       "      <td>20.0</td>\n",
       "    </tr>\n",
       "    <tr>\n",
       "      <th>780</th>\n",
       "      <td>1196</td>\n",
       "      <td>20</td>\n",
       "      <td>16.500000</td>\n",
       "      <td>0.0</td>\n",
       "      <td>NaN</td>\n",
       "      <td>31.0</td>\n",
       "      <td>7.601402</td>\n",
       "      <td>0.058</td>\n",
       "      <td>39.0</td>\n",
       "      <td>18.0</td>\n",
       "    </tr>\n",
       "    <tr>\n",
       "      <th>934</th>\n",
       "      <td>1420</td>\n",
       "      <td>0</td>\n",
       "      <td>17.012360</td>\n",
       "      <td>NaN</td>\n",
       "      <td>NaN</td>\n",
       "      <td>NaN</td>\n",
       "      <td>NaN</td>\n",
       "      <td>NaN</td>\n",
       "      <td>NaN</td>\n",
       "      <td>NaN</td>\n",
       "    </tr>\n",
       "    <tr>\n",
       "      <th>1035</th>\n",
       "      <td>1553</td>\n",
       "      <td>18</td>\n",
       "      <td>22.908989</td>\n",
       "      <td>NaN</td>\n",
       "      <td>NaN</td>\n",
       "      <td>NaN</td>\n",
       "      <td>NaN</td>\n",
       "      <td>NaN</td>\n",
       "      <td>NaN</td>\n",
       "      <td>NaN</td>\n",
       "    </tr>\n",
       "    <tr>\n",
       "      <th>1138</th>\n",
       "      <td>1717</td>\n",
       "      <td>12</td>\n",
       "      <td>21.400000</td>\n",
       "      <td>0.0</td>\n",
       "      <td>NaN</td>\n",
       "      <td>44.0</td>\n",
       "      <td>7.226936</td>\n",
       "      <td>0.044</td>\n",
       "      <td>61.0</td>\n",
       "      <td>37.0</td>\n",
       "    </tr>\n",
       "    <tr>\n",
       "      <th>1229</th>\n",
       "      <td>1855</td>\n",
       "      <td>2</td>\n",
       "      <td>14.000000</td>\n",
       "      <td>0.0</td>\n",
       "      <td>NaN</td>\n",
       "      <td>52.0</td>\n",
       "      <td>7.601402</td>\n",
       "      <td>0.044</td>\n",
       "      <td>37.0</td>\n",
       "      <td>20.0</td>\n",
       "    </tr>\n",
       "    <tr>\n",
       "      <th>2112</th>\n",
       "      <td>1943</td>\n",
       "      <td>19</td>\n",
       "      <td>21.768889</td>\n",
       "      <td>NaN</td>\n",
       "      <td>NaN</td>\n",
       "      <td>NaN</td>\n",
       "      <td>NaN</td>\n",
       "      <td>NaN</td>\n",
       "      <td>NaN</td>\n",
       "      <td>NaN</td>\n",
       "    </tr>\n",
       "  </tbody>\n",
       "</table>\n",
       "</div>"
      ],
      "text/plain": [
       "        id  hour  hour_bef_temperature  hour_bef_precipitation  \\\n",
       "18      33    13             22.600000                     0.0   \n",
       "244    381     1             14.100000                     0.0   \n",
       "260    404     3             14.000000                     0.0   \n",
       "376    570     0             14.300000                     0.0   \n",
       "780   1196    20             16.500000                     0.0   \n",
       "934   1420     0             17.012360                     NaN   \n",
       "1035  1553    18             22.908989                     NaN   \n",
       "1138  1717    12             21.400000                     0.0   \n",
       "1229  1855     2             14.000000                     0.0   \n",
       "2112  1943    19             21.768889                     NaN   \n",
       "\n",
       "      hour_bef_windspeed  hour_bef_humidity  hour_bef_visibility  \\\n",
       "18                   NaN               41.0             6.895683   \n",
       "244                  NaN               55.0             7.597396   \n",
       "260                  NaN               50.0             7.601402   \n",
       "376                  NaN               49.0             7.601402   \n",
       "780                  NaN               31.0             7.601402   \n",
       "934                  NaN                NaN                  NaN   \n",
       "1035                 NaN                NaN                  NaN   \n",
       "1138                 NaN               44.0             7.226936   \n",
       "1229                 NaN               52.0             7.601402   \n",
       "2112                 NaN                NaN                  NaN   \n",
       "\n",
       "      hour_bef_ozone  hour_bef_pm10  hour_bef_pm2.5  \n",
       "18             0.046           64.0            39.0  \n",
       "244              NaN            NaN             NaN  \n",
       "260            0.049           35.0            22.0  \n",
       "376            0.044           37.0            20.0  \n",
       "780            0.058           39.0            18.0  \n",
       "934              NaN            NaN             NaN  \n",
       "1035             NaN            NaN             NaN  \n",
       "1138           0.044           61.0            37.0  \n",
       "1229           0.044           37.0            20.0  \n",
       "2112             NaN            NaN             NaN  "
      ]
     },
     "execution_count": 27,
     "metadata": {},
     "output_type": "execute_result"
    }
   ],
   "source": [
    "# hour_bef_windspeed 결측치 확인\n",
    "data[data['hour_bef_windspeed'].isna()]"
   ]
  },
  {
   "cell_type": "code",
   "execution_count": 28,
   "id": "0a6f8dc6",
   "metadata": {},
   "outputs": [
    {
     "data": {
      "text/plain": [
       "<matplotlib.lines.Line2D at 0x1cbfb8a5a50>"
      ]
     },
     "execution_count": 28,
     "metadata": {},
     "output_type": "execute_result"
    },
    {
     "data": {
      "image/png": "[encoded data removed]",
      "text/plain": [
       "<Figure size 640x480 with 1 Axes>"
      ]
     },
     "metadata": {},
     "output_type": "display_data"
    }
   ],
   "source": [
    "# 시간별 평균 풍속 시각화\n",
    "data.groupby('hour').mean()['hour_bef_windspeed'].plot()\n",
    "plt.axhline(data.groupby('hour').mean()['hour_bef_windspeed'].mean())"
   ]
  },
  {
   "cell_type": "code",
   "execution_count": 29,
   "id": "fdba92b4",
   "metadata": {},
   "outputs": [
    {
     "data": {
      "text/plain": [
       "hour\n",
       "0     1.036953\n",
       "1     0.995054\n",
       "2     0.925317\n",
       "3     0.903631\n",
       "4     0.831585\n",
       "5     0.814867\n",
       "6     0.799907\n",
       "7     0.791350\n",
       "8     0.886235\n",
       "9     0.956694\n",
       "10    1.055261\n",
       "11    1.170394\n",
       "12    1.278153\n",
       "13    1.381746\n",
       "14    1.426127\n",
       "15    1.486843\n",
       "16    1.512366\n",
       "17    1.522738\n",
       "18    1.519188\n",
       "19    1.477455\n",
       "20    1.438494\n",
       "21    1.305333\n",
       "22    1.235356\n",
       "23    1.139319\n",
       "Name: hour_bef_windspeed, dtype: float64"
      ]
     },
     "execution_count": 29,
     "metadata": {},
     "output_type": "execute_result"
    }
   ],
   "source": [
    "data.groupby('hour').mean()['hour_bef_windspeed']"
   ]
  },
  {
   "cell_type": "code",
   "execution_count": 30,
   "id": "b64dcdd8",
   "metadata": {},
   "outputs": [],
   "source": [
    "# 결측치 채우기\n",
    "data['hour_bef_windspeed'].fillna(data.groupby('hour')['hour_bef_windspeed'].transform('mean'), inplace=True)"
   ]
  },
  {
   "cell_type": "code",
   "execution_count": 31,
   "id": "c9373d85",
   "metadata": {},
   "outputs": [
    {
     "data": {
      "text/plain": [
       "id                          0\n",
       "hour                        0\n",
       "hour_bef_temperature        0\n",
       "hour_bef_precipitation      3\n",
       "hour_bef_windspeed          0\n",
       "hour_bef_humidity           3\n",
       "hour_bef_visibility         3\n",
       "hour_bef_ozone            111\n",
       "hour_bef_pm10             127\n",
       "hour_bef_pm2.5            153\n",
       "dtype: int64"
      ]
     },
     "execution_count": 31,
     "metadata": {},
     "output_type": "execute_result"
    }
   ],
   "source": [
    "data.isna().sum()"
   ]
  },
  {
   "cell_type": "markdown",
   "id": "6f384d37",
   "metadata": {},
   "source": [
    "hour_bef_temperature와 hour_bef_windspeed의 결측치가 사라진 것을 확인할 수 있다.\n",
    "<br>나머지 피처들도 진행해보자."
   ]
  },
  {
   "cell_type": "code",
   "execution_count": 32,
   "id": "7faea11f",
   "metadata": {},
   "outputs": [
    {
     "data": {
      "text/html": [
       "<div>\n",
       "<style scoped>\n",
       "    .dataframe tbody tr th:only-of-type {\n",
       "        vertical-align: middle;\n",
       "    }\n",
       "\n",
       "    .dataframe tbody tr th {\n",
       "        vertical-align: top;\n",
       "    }\n",
       "\n",
       "    .dataframe thead th {\n",
       "        text-align: right;\n",
       "    }\n",
       "</style>\n",
       "<table border=\"1\" class=\"dataframe\">\n",
       "  <thead>\n",
       "    <tr style=\"text-align: right;\">\n",
       "      <th></th>\n",
       "      <th>id</th>\n",
       "      <th>hour</th>\n",
       "      <th>hour_bef_temperature</th>\n",
       "      <th>hour_bef_precipitation</th>\n",
       "      <th>hour_bef_windspeed</th>\n",
       "      <th>hour_bef_humidity</th>\n",
       "      <th>hour_bef_visibility</th>\n",
       "      <th>hour_bef_ozone</th>\n",
       "      <th>hour_bef_pm10</th>\n",
       "      <th>hour_bef_pm2.5</th>\n",
       "    </tr>\n",
       "  </thead>\n",
       "  <tbody>\n",
       "    <tr>\n",
       "      <th>14</th>\n",
       "      <td>28</td>\n",
       "      <td>1</td>\n",
       "      <td>20.000000</td>\n",
       "      <td>0.0</td>\n",
       "      <td>1.029619</td>\n",
       "      <td>58.0</td>\n",
       "      <td>7.601402</td>\n",
       "      <td>NaN</td>\n",
       "      <td>NaN</td>\n",
       "      <td>NaN</td>\n",
       "    </tr>\n",
       "    <tr>\n",
       "      <th>44</th>\n",
       "      <td>76</td>\n",
       "      <td>17</td>\n",
       "      <td>21.700000</td>\n",
       "      <td>0.0</td>\n",
       "      <td>1.386294</td>\n",
       "      <td>35.0</td>\n",
       "      <td>7.601402</td>\n",
       "      <td>NaN</td>\n",
       "      <td>32.0</td>\n",
       "      <td>19.0</td>\n",
       "    </tr>\n",
       "    <tr>\n",
       "      <th>46</th>\n",
       "      <td>78</td>\n",
       "      <td>1</td>\n",
       "      <td>12.200000</td>\n",
       "      <td>0.0</td>\n",
       "      <td>1.386294</td>\n",
       "      <td>49.0</td>\n",
       "      <td>6.977281</td>\n",
       "      <td>NaN</td>\n",
       "      <td>NaN</td>\n",
       "      <td>NaN</td>\n",
       "    </tr>\n",
       "    <tr>\n",
       "      <th>84</th>\n",
       "      <td>130</td>\n",
       "      <td>1</td>\n",
       "      <td>9.400000</td>\n",
       "      <td>0.0</td>\n",
       "      <td>1.252763</td>\n",
       "      <td>65.0</td>\n",
       "      <td>7.553811</td>\n",
       "      <td>NaN</td>\n",
       "      <td>NaN</td>\n",
       "      <td>NaN</td>\n",
       "    </tr>\n",
       "    <tr>\n",
       "      <th>122</th>\n",
       "      <td>181</td>\n",
       "      <td>16</td>\n",
       "      <td>26.200000</td>\n",
       "      <td>0.0</td>\n",
       "      <td>1.667707</td>\n",
       "      <td>31.0</td>\n",
       "      <td>7.449498</td>\n",
       "      <td>NaN</td>\n",
       "      <td>47.0</td>\n",
       "      <td>23.0</td>\n",
       "    </tr>\n",
       "    <tr>\n",
       "      <th>...</th>\n",
       "      <td>...</td>\n",
       "      <td>...</td>\n",
       "      <td>...</td>\n",
       "      <td>...</td>\n",
       "      <td>...</td>\n",
       "      <td>...</td>\n",
       "      <td>...</td>\n",
       "      <td>...</td>\n",
       "      <td>...</td>\n",
       "      <td>...</td>\n",
       "    </tr>\n",
       "    <tr>\n",
       "      <th>2112</th>\n",
       "      <td>1943</td>\n",
       "      <td>19</td>\n",
       "      <td>21.768889</td>\n",
       "      <td>NaN</td>\n",
       "      <td>1.477455</td>\n",
       "      <td>NaN</td>\n",
       "      <td>NaN</td>\n",
       "      <td>NaN</td>\n",
       "      <td>NaN</td>\n",
       "      <td>NaN</td>\n",
       "    </tr>\n",
       "    <tr>\n",
       "      <th>2117</th>\n",
       "      <td>1959</td>\n",
       "      <td>14</td>\n",
       "      <td>28.200000</td>\n",
       "      <td>0.0</td>\n",
       "      <td>1.029619</td>\n",
       "      <td>51.0</td>\n",
       "      <td>7.503841</td>\n",
       "      <td>NaN</td>\n",
       "      <td>25.0</td>\n",
       "      <td>18.0</td>\n",
       "    </tr>\n",
       "    <tr>\n",
       "      <th>2153</th>\n",
       "      <td>2104</td>\n",
       "      <td>1</td>\n",
       "      <td>21.700000</td>\n",
       "      <td>0.0</td>\n",
       "      <td>0.993252</td>\n",
       "      <td>75.0</td>\n",
       "      <td>6.864848</td>\n",
       "      <td>NaN</td>\n",
       "      <td>NaN</td>\n",
       "      <td>NaN</td>\n",
       "    </tr>\n",
       "    <tr>\n",
       "      <th>2169</th>\n",
       "      <td>2148</td>\n",
       "      <td>1</td>\n",
       "      <td>24.600000</td>\n",
       "      <td>0.0</td>\n",
       "      <td>1.223775</td>\n",
       "      <td>60.0</td>\n",
       "      <td>7.465083</td>\n",
       "      <td>NaN</td>\n",
       "      <td>NaN</td>\n",
       "      <td>NaN</td>\n",
       "    </tr>\n",
       "    <tr>\n",
       "      <th>2170</th>\n",
       "      <td>2149</td>\n",
       "      <td>1</td>\n",
       "      <td>18.100000</td>\n",
       "      <td>0.0</td>\n",
       "      <td>0.693147</td>\n",
       "      <td>55.0</td>\n",
       "      <td>7.601402</td>\n",
       "      <td>NaN</td>\n",
       "      <td>NaN</td>\n",
       "      <td>NaN</td>\n",
       "    </tr>\n",
       "  </tbody>\n",
       "</table>\n",
       "<p>111 rows × 10 columns</p>\n",
       "</div>"
      ],
      "text/plain": [
       "        id  hour  hour_bef_temperature  hour_bef_precipitation  \\\n",
       "14      28     1             20.000000                     0.0   \n",
       "44      76    17             21.700000                     0.0   \n",
       "46      78     1             12.200000                     0.0   \n",
       "84     130     1              9.400000                     0.0   \n",
       "122    181    16             26.200000                     0.0   \n",
       "...    ...   ...                   ...                     ...   \n",
       "2112  1943    19             21.768889                     NaN   \n",
       "2117  1959    14             28.200000                     0.0   \n",
       "2153  2104     1             21.700000                     0.0   \n",
       "2169  2148     1             24.600000                     0.0   \n",
       "2170  2149     1             18.100000                     0.0   \n",
       "\n",
       "      hour_bef_windspeed  hour_bef_humidity  hour_bef_visibility  \\\n",
       "14              1.029619               58.0             7.601402   \n",
       "44              1.386294               35.0             7.601402   \n",
       "46              1.386294               49.0             6.977281   \n",
       "84              1.252763               65.0             7.553811   \n",
       "122             1.667707               31.0             7.449498   \n",
       "...                  ...                ...                  ...   \n",
       "2112            1.477455                NaN                  NaN   \n",
       "2117            1.029619               51.0             7.503841   \n",
       "2153            0.993252               75.0             6.864848   \n",
       "2169            1.223775               60.0             7.465083   \n",
       "2170            0.693147               55.0             7.601402   \n",
       "\n",
       "      hour_bef_ozone  hour_bef_pm10  hour_bef_pm2.5  \n",
       "14               NaN            NaN             NaN  \n",
       "44               NaN           32.0            19.0  \n",
       "46               NaN            NaN             NaN  \n",
       "84               NaN            NaN             NaN  \n",
       "122              NaN           47.0            23.0  \n",
       "...              ...            ...             ...  \n",
       "2112             NaN            NaN             NaN  \n",
       "2117             NaN           25.0            18.0  \n",
       "2153             NaN            NaN             NaN  \n",
       "2169             NaN            NaN             NaN  \n",
       "2170             NaN            NaN             NaN  \n",
       "\n",
       "[111 rows x 10 columns]"
      ]
     },
     "execution_count": 32,
     "metadata": {},
     "output_type": "execute_result"
    }
   ],
   "source": [
    "# hour_bef_ozone 결측치 확인\n",
    "data[data['hour_bef_ozone'].isna()]"
   ]
  },
  {
   "cell_type": "code",
   "execution_count": 33,
   "id": "4a0d3d0e",
   "metadata": {},
   "outputs": [
    {
     "data": {
      "text/plain": [
       "<matplotlib.lines.Line2D at 0x1cbfb6f50c0>"
      ]
     },
     "execution_count": 33,
     "metadata": {},
     "output_type": "execute_result"
    },
    {
     "data": {
      "image/png": "[encoded data removed]",
      "text/plain": [
       "<Figure size 640x480 with 1 Axes>"
      ]
     },
     "metadata": {},
     "output_type": "display_data"
    }
   ],
   "source": [
    "# 시간별 평균 오존 시각화\n",
    "data.groupby('hour').mean()['hour_bef_ozone'].plot()\n",
    "plt.axhline(data.groupby('hour').mean()['hour_bef_ozone'].mean())"
   ]
  },
  {
   "cell_type": "code",
   "execution_count": 34,
   "id": "851be662",
   "metadata": {
    "scrolled": false
   },
   "outputs": [
    {
     "data": {
      "text/plain": [
       "hour\n",
       "0     0.032472\n",
       "1          NaN\n",
       "2     0.030132\n",
       "3     0.031231\n",
       "4     0.032264\n",
       "5     0.031967\n",
       "6     0.030089\n",
       "7     0.026233\n",
       "8     0.022714\n",
       "9     0.023275\n",
       "10    0.026567\n",
       "11    0.031600\n",
       "12    0.037878\n",
       "13    0.046545\n",
       "14    0.055090\n",
       "15    0.059921\n",
       "16    0.063000\n",
       "17    0.062494\n",
       "18    0.059545\n",
       "19    0.054044\n",
       "20    0.048231\n",
       "21    0.042697\n",
       "22    0.036978\n",
       "23    0.034352\n",
       "Name: hour_bef_ozone, dtype: float64"
      ]
     },
     "execution_count": 34,
     "metadata": {},
     "output_type": "execute_result"
    }
   ],
   "source": [
    "data.groupby('hour').mean()['hour_bef_ozone']"
   ]
  },
  {
   "cell_type": "code",
   "execution_count": 35,
   "id": "411d9734",
   "metadata": {},
   "outputs": [],
   "source": [
    "# 결측치 채우기\n",
    "data['hour_bef_ozone'].fillna(data.groupby('hour')['hour_bef_ozone'].transform('mean'), inplace=True)"
   ]
  },
  {
   "cell_type": "code",
   "execution_count": 36,
   "id": "bbfb2efa",
   "metadata": {},
   "outputs": [
    {
     "data": {
      "text/plain": [
       "id                          0\n",
       "hour                        0\n",
       "hour_bef_temperature        0\n",
       "hour_bef_precipitation      3\n",
       "hour_bef_windspeed          0\n",
       "hour_bef_humidity           3\n",
       "hour_bef_visibility         3\n",
       "hour_bef_ozone             91\n",
       "hour_bef_pm10             127\n",
       "hour_bef_pm2.5            153\n",
       "dtype: int64"
      ]
     },
     "execution_count": 36,
     "metadata": {},
     "output_type": "execute_result"
    }
   ],
   "source": [
    "data.isna().sum()"
   ]
  },
  {
   "cell_type": "markdown",
   "id": "7bce73c8",
   "metadata": {},
   "source": [
    "hour_bef_ozone의 결측치가 아직 남아있는 것으로 보인다.\n",
    "<br>나머지 결측치는 1시에 해당하는 값이므로 0시와 2시의 평균 값으로 대체해주기로 했다."
   ]
  },
  {
   "cell_type": "code",
   "execution_count": 37,
   "id": "05a463c5",
   "metadata": {},
   "outputs": [],
   "source": [
    "data.loc[data['hour'] == 1, 'hour_bef_ozone'] = 0.031"
   ]
  },
  {
   "cell_type": "code",
   "execution_count": 38,
   "id": "f5ef5116",
   "metadata": {},
   "outputs": [
    {
     "data": {
      "text/plain": [
       "id                          0\n",
       "hour                        0\n",
       "hour_bef_temperature        0\n",
       "hour_bef_precipitation      3\n",
       "hour_bef_windspeed          0\n",
       "hour_bef_humidity           3\n",
       "hour_bef_visibility         3\n",
       "hour_bef_ozone              0\n",
       "hour_bef_pm10             127\n",
       "hour_bef_pm2.5            153\n",
       "dtype: int64"
      ]
     },
     "execution_count": 38,
     "metadata": {},
     "output_type": "execute_result"
    }
   ],
   "source": [
    "data.isna().sum()"
   ]
  },
  {
   "cell_type": "markdown",
   "id": "c73156d3",
   "metadata": {},
   "source": [
    "hour_bef_ozone 피처에 더 이상 결측치가 없는 것을 확인할 수 있다."
   ]
  },
  {
   "cell_type": "code",
   "execution_count": 39,
   "id": "2e2c429d",
   "metadata": {},
   "outputs": [
    {
     "data": {
      "text/html": [
       "<div>\n",
       "<style scoped>\n",
       "    .dataframe tbody tr th:only-of-type {\n",
       "        vertical-align: middle;\n",
       "    }\n",
       "\n",
       "    .dataframe tbody tr th {\n",
       "        vertical-align: top;\n",
       "    }\n",
       "\n",
       "    .dataframe thead th {\n",
       "        text-align: right;\n",
       "    }\n",
       "</style>\n",
       "<table border=\"1\" class=\"dataframe\">\n",
       "  <thead>\n",
       "    <tr style=\"text-align: right;\">\n",
       "      <th></th>\n",
       "      <th>id</th>\n",
       "      <th>hour</th>\n",
       "      <th>hour_bef_temperature</th>\n",
       "      <th>hour_bef_precipitation</th>\n",
       "      <th>hour_bef_windspeed</th>\n",
       "      <th>hour_bef_humidity</th>\n",
       "      <th>hour_bef_visibility</th>\n",
       "      <th>hour_bef_ozone</th>\n",
       "      <th>hour_bef_pm10</th>\n",
       "      <th>hour_bef_pm2.5</th>\n",
       "    </tr>\n",
       "  </thead>\n",
       "  <tbody>\n",
       "    <tr>\n",
       "      <th>934</th>\n",
       "      <td>1420</td>\n",
       "      <td>0</td>\n",
       "      <td>17.012360</td>\n",
       "      <td>NaN</td>\n",
       "      <td>1.036953</td>\n",
       "      <td>NaN</td>\n",
       "      <td>NaN</td>\n",
       "      <td>0.032472</td>\n",
       "      <td>NaN</td>\n",
       "      <td>NaN</td>\n",
       "    </tr>\n",
       "    <tr>\n",
       "      <th>1035</th>\n",
       "      <td>1553</td>\n",
       "      <td>18</td>\n",
       "      <td>22.908989</td>\n",
       "      <td>NaN</td>\n",
       "      <td>1.519188</td>\n",
       "      <td>NaN</td>\n",
       "      <td>NaN</td>\n",
       "      <td>0.059545</td>\n",
       "      <td>NaN</td>\n",
       "      <td>NaN</td>\n",
       "    </tr>\n",
       "    <tr>\n",
       "      <th>2112</th>\n",
       "      <td>1943</td>\n",
       "      <td>19</td>\n",
       "      <td>21.768889</td>\n",
       "      <td>NaN</td>\n",
       "      <td>1.477455</td>\n",
       "      <td>NaN</td>\n",
       "      <td>NaN</td>\n",
       "      <td>0.054044</td>\n",
       "      <td>NaN</td>\n",
       "      <td>NaN</td>\n",
       "    </tr>\n",
       "  </tbody>\n",
       "</table>\n",
       "</div>"
      ],
      "text/plain": [
       "        id  hour  hour_bef_temperature  hour_bef_precipitation  \\\n",
       "934   1420     0             17.012360                     NaN   \n",
       "1035  1553    18             22.908989                     NaN   \n",
       "2112  1943    19             21.768889                     NaN   \n",
       "\n",
       "      hour_bef_windspeed  hour_bef_humidity  hour_bef_visibility  \\\n",
       "934             1.036953                NaN                  NaN   \n",
       "1035            1.519188                NaN                  NaN   \n",
       "2112            1.477455                NaN                  NaN   \n",
       "\n",
       "      hour_bef_ozone  hour_bef_pm10  hour_bef_pm2.5  \n",
       "934         0.032472            NaN             NaN  \n",
       "1035        0.059545            NaN             NaN  \n",
       "2112        0.054044            NaN             NaN  "
      ]
     },
     "execution_count": 39,
     "metadata": {},
     "output_type": "execute_result"
    }
   ],
   "source": [
    "# hour_bef_humidity 결측치 확인\n",
    "data[data['hour_bef_humidity'].isna()]"
   ]
  },
  {
   "cell_type": "code",
   "execution_count": 40,
   "id": "02d0c4ef",
   "metadata": {},
   "outputs": [
    {
     "data": {
      "text/plain": [
       "<matplotlib.lines.Line2D at 0x1cbfb723d30>"
      ]
     },
     "execution_count": 40,
     "metadata": {},
     "output_type": "execute_result"
    },
    {
     "data": {
      "image/png": "[encoded data removed]",
      "text/plain": [
       "<Figure size 640x480 with 1 Axes>"
      ]
     },
     "metadata": {},
     "output_type": "display_data"
    }
   ],
   "source": [
    "data.groupby('hour').mean()['hour_bef_humidity'].plot()\n",
    "plt.axhline(data.groupby('hour').mean()['hour_bef_humidity'].mean())"
   ]
  },
  {
   "cell_type": "code",
   "execution_count": 41,
   "id": "0f4064f4",
   "metadata": {},
   "outputs": [
    {
     "data": {
      "text/plain": [
       "hour\n",
       "0     59.865169\n",
       "1     61.956044\n",
       "2     63.549451\n",
       "3     64.967033\n",
       "4     66.230769\n",
       "5     67.300000\n",
       "6     69.032967\n",
       "7     69.241758\n",
       "8     65.252747\n",
       "9     59.307692\n",
       "10    53.428571\n",
       "11    48.274725\n",
       "12    43.758242\n",
       "13    40.155556\n",
       "14    38.560440\n",
       "15    37.890110\n",
       "16    37.606742\n",
       "17    40.123596\n",
       "18    42.191011\n",
       "19    44.900000\n",
       "20    48.560440\n",
       "21    51.449438\n",
       "22    55.846154\n",
       "23    58.208791\n",
       "Name: hour_bef_humidity, dtype: float64"
      ]
     },
     "execution_count": 41,
     "metadata": {},
     "output_type": "execute_result"
    }
   ],
   "source": [
    "data.groupby('hour').mean()['hour_bef_humidity']"
   ]
  },
  {
   "cell_type": "code",
   "execution_count": 42,
   "id": "fce6b0e0",
   "metadata": {},
   "outputs": [],
   "source": [
    "# 결측치 채우기\n",
    "data['hour_bef_humidity'].fillna(train.groupby('hour')['hour_bef_humidity'].transform('mean'), inplace=True)"
   ]
  },
  {
   "cell_type": "code",
   "execution_count": 43,
   "id": "922cefd6",
   "metadata": {},
   "outputs": [
    {
     "data": {
      "text/html": [
       "<div>\n",
       "<style scoped>\n",
       "    .dataframe tbody tr th:only-of-type {\n",
       "        vertical-align: middle;\n",
       "    }\n",
       "\n",
       "    .dataframe tbody tr th {\n",
       "        vertical-align: top;\n",
       "    }\n",
       "\n",
       "    .dataframe thead th {\n",
       "        text-align: right;\n",
       "    }\n",
       "</style>\n",
       "<table border=\"1\" class=\"dataframe\">\n",
       "  <thead>\n",
       "    <tr style=\"text-align: right;\">\n",
       "      <th></th>\n",
       "      <th>id</th>\n",
       "      <th>hour</th>\n",
       "      <th>hour_bef_temperature</th>\n",
       "      <th>hour_bef_precipitation</th>\n",
       "      <th>hour_bef_windspeed</th>\n",
       "      <th>hour_bef_humidity</th>\n",
       "      <th>hour_bef_visibility</th>\n",
       "      <th>hour_bef_ozone</th>\n",
       "      <th>hour_bef_pm10</th>\n",
       "      <th>hour_bef_pm2.5</th>\n",
       "    </tr>\n",
       "  </thead>\n",
       "  <tbody>\n",
       "    <tr>\n",
       "      <th>2112</th>\n",
       "      <td>1943</td>\n",
       "      <td>19</td>\n",
       "      <td>21.768889</td>\n",
       "      <td>NaN</td>\n",
       "      <td>1.477455</td>\n",
       "      <td>NaN</td>\n",
       "      <td>NaN</td>\n",
       "      <td>0.054044</td>\n",
       "      <td>NaN</td>\n",
       "      <td>NaN</td>\n",
       "    </tr>\n",
       "  </tbody>\n",
       "</table>\n",
       "</div>"
      ],
      "text/plain": [
       "        id  hour  hour_bef_temperature  hour_bef_precipitation  \\\n",
       "2112  1943    19             21.768889                     NaN   \n",
       "\n",
       "      hour_bef_windspeed  hour_bef_humidity  hour_bef_visibility  \\\n",
       "2112            1.477455                NaN                  NaN   \n",
       "\n",
       "      hour_bef_ozone  hour_bef_pm10  hour_bef_pm2.5  \n",
       "2112        0.054044            NaN             NaN  "
      ]
     },
     "execution_count": 43,
     "metadata": {},
     "output_type": "execute_result"
    }
   ],
   "source": [
    "data[data['hour_bef_humidity'].isna()]"
   ]
  },
  {
   "cell_type": "markdown",
   "id": "18a86773",
   "metadata": {},
   "source": [
    "얘는 왜 채워지지 않는 것인가,,, 그냥 지정해서 채워주자!"
   ]
  },
  {
   "cell_type": "code",
   "execution_count": 44,
   "id": "ed302db7",
   "metadata": {},
   "outputs": [],
   "source": [
    "data.at[2112, 'hour_bef_humidity'] = 44.9"
   ]
  },
  {
   "cell_type": "code",
   "execution_count": 45,
   "id": "11ac1404",
   "metadata": {},
   "outputs": [
    {
     "data": {
      "text/plain": [
       "id                          0\n",
       "hour                        0\n",
       "hour_bef_temperature        0\n",
       "hour_bef_precipitation      3\n",
       "hour_bef_windspeed          0\n",
       "hour_bef_humidity           0\n",
       "hour_bef_visibility         3\n",
       "hour_bef_ozone              0\n",
       "hour_bef_pm10             127\n",
       "hour_bef_pm2.5            153\n",
       "dtype: int64"
      ]
     },
     "execution_count": 45,
     "metadata": {},
     "output_type": "execute_result"
    }
   ],
   "source": [
    "data.isna().sum()"
   ]
  },
  {
   "cell_type": "code",
   "execution_count": 46,
   "id": "b2aba061",
   "metadata": {
    "scrolled": true
   },
   "outputs": [
    {
     "data": {
      "text/html": [
       "<div>\n",
       "<style scoped>\n",
       "    .dataframe tbody tr th:only-of-type {\n",
       "        vertical-align: middle;\n",
       "    }\n",
       "\n",
       "    .dataframe tbody tr th {\n",
       "        vertical-align: top;\n",
       "    }\n",
       "\n",
       "    .dataframe thead th {\n",
       "        text-align: right;\n",
       "    }\n",
       "</style>\n",
       "<table border=\"1\" class=\"dataframe\">\n",
       "  <thead>\n",
       "    <tr style=\"text-align: right;\">\n",
       "      <th></th>\n",
       "      <th>id</th>\n",
       "      <th>hour</th>\n",
       "      <th>hour_bef_temperature</th>\n",
       "      <th>hour_bef_precipitation</th>\n",
       "      <th>hour_bef_windspeed</th>\n",
       "      <th>hour_bef_humidity</th>\n",
       "      <th>hour_bef_visibility</th>\n",
       "      <th>hour_bef_ozone</th>\n",
       "      <th>hour_bef_pm10</th>\n",
       "      <th>hour_bef_pm2.5</th>\n",
       "    </tr>\n",
       "  </thead>\n",
       "  <tbody>\n",
       "    <tr>\n",
       "      <th>934</th>\n",
       "      <td>1420</td>\n",
       "      <td>0</td>\n",
       "      <td>17.012360</td>\n",
       "      <td>NaN</td>\n",
       "      <td>1.036953</td>\n",
       "      <td>58.169492</td>\n",
       "      <td>NaN</td>\n",
       "      <td>0.032472</td>\n",
       "      <td>NaN</td>\n",
       "      <td>NaN</td>\n",
       "    </tr>\n",
       "    <tr>\n",
       "      <th>1035</th>\n",
       "      <td>1553</td>\n",
       "      <td>18</td>\n",
       "      <td>22.908989</td>\n",
       "      <td>NaN</td>\n",
       "      <td>1.519188</td>\n",
       "      <td>40.450000</td>\n",
       "      <td>NaN</td>\n",
       "      <td>0.059545</td>\n",
       "      <td>NaN</td>\n",
       "      <td>NaN</td>\n",
       "    </tr>\n",
       "    <tr>\n",
       "      <th>2112</th>\n",
       "      <td>1943</td>\n",
       "      <td>19</td>\n",
       "      <td>21.768889</td>\n",
       "      <td>NaN</td>\n",
       "      <td>1.477455</td>\n",
       "      <td>44.900000</td>\n",
       "      <td>NaN</td>\n",
       "      <td>0.054044</td>\n",
       "      <td>NaN</td>\n",
       "      <td>NaN</td>\n",
       "    </tr>\n",
       "  </tbody>\n",
       "</table>\n",
       "</div>"
      ],
      "text/plain": [
       "        id  hour  hour_bef_temperature  hour_bef_precipitation  \\\n",
       "934   1420     0             17.012360                     NaN   \n",
       "1035  1553    18             22.908989                     NaN   \n",
       "2112  1943    19             21.768889                     NaN   \n",
       "\n",
       "      hour_bef_windspeed  hour_bef_humidity  hour_bef_visibility  \\\n",
       "934             1.036953          58.169492                  NaN   \n",
       "1035            1.519188          40.450000                  NaN   \n",
       "2112            1.477455          44.900000                  NaN   \n",
       "\n",
       "      hour_bef_ozone  hour_bef_pm10  hour_bef_pm2.5  \n",
       "934         0.032472            NaN             NaN  \n",
       "1035        0.059545            NaN             NaN  \n",
       "2112        0.054044            NaN             NaN  "
      ]
     },
     "execution_count": 46,
     "metadata": {},
     "output_type": "execute_result"
    }
   ],
   "source": [
    "# hour_bef_precipitation 결측치 확인\n",
    "data[data['hour_bef_precipitation'].isna()]"
   ]
  },
  {
   "cell_type": "markdown",
   "id": "aa86f390",
   "metadata": {},
   "source": [
    "hour_bef_precipitation 경우 위에서 확인해본 결과 비가 안 오는 날의 대여량이 많아 결측치를 0으로 채워주기로 했다."
   ]
  },
  {
   "cell_type": "code",
   "execution_count": 47,
   "id": "6bea4826",
   "metadata": {},
   "outputs": [],
   "source": [
    "data['hour_bef_precipitation'].fillna(value = 0.0, inplace=True)"
   ]
  },
  {
   "cell_type": "code",
   "execution_count": 48,
   "id": "8d59b586",
   "metadata": {},
   "outputs": [
    {
     "data": {
      "text/plain": [
       "id                          0\n",
       "hour                        0\n",
       "hour_bef_temperature        0\n",
       "hour_bef_precipitation      0\n",
       "hour_bef_windspeed          0\n",
       "hour_bef_humidity           0\n",
       "hour_bef_visibility         3\n",
       "hour_bef_ozone              0\n",
       "hour_bef_pm10             127\n",
       "hour_bef_pm2.5            153\n",
       "dtype: int64"
      ]
     },
     "execution_count": 48,
     "metadata": {},
     "output_type": "execute_result"
    }
   ],
   "source": [
    "data.isna().sum()"
   ]
  },
  {
   "cell_type": "markdown",
   "id": "9f6dee54",
   "metadata": {},
   "source": [
    "#### **변수 정리**\n",
    "* id: 낮은 상관관계를 보임\n",
    "* hour_bef_visibility: 로그 변환해도 모양이 크게 변하지 않음\n",
    "* hour_bef_pm10 & hour_bef_pm2.5: 많은 양의 결측치와 비교적 낮은 상관관계를 보임"
   ]
  },
  {
   "cell_type": "markdown",
   "id": "db2f4f9d",
   "metadata": {},
   "source": [
    "위의 이유로 해당 피처들을 모델에 사용하는 것은 적절하지 않다고 판단하여 제거하기로 했다."
   ]
  },
  {
   "cell_type": "code",
   "execution_count": 49,
   "id": "8fbbf4ad",
   "metadata": {},
   "outputs": [
    {
     "name": "stdout",
     "output_type": "stream",
     "text": [
      "Index(['hour', 'hour_bef_temperature', 'hour_bef_precipitation',\n",
      "       'hour_bef_windspeed', 'hour_bef_humidity', 'hour_bef_ozone'],\n",
      "      dtype='object')\n"
     ]
    }
   ],
   "source": [
    "# 불필요한 컬럼 삭제\n",
    "sub_id = data['id'][train_len:]\n",
    "data.drop(['id', 'hour_bef_visibility', 'hour_bef_pm10', 'hour_bef_pm2.5'], axis=1, inplace=True)\n",
    "\n",
    "print(data.columns)"
   ]
  },
  {
   "cell_type": "code",
   "execution_count": 50,
   "id": "f8874181",
   "metadata": {},
   "outputs": [
    {
     "name": "stdout",
     "output_type": "stream",
     "text": [
      "(2174, 6)\n"
     ]
    }
   ],
   "source": [
    "print(data.shape)"
   ]
  },
  {
   "cell_type": "code",
   "execution_count": 51,
   "id": "44c52f66",
   "metadata": {},
   "outputs": [
    {
     "data": {
      "text/plain": [
       "hour                      0\n",
       "hour_bef_temperature      0\n",
       "hour_bef_precipitation    0\n",
       "hour_bef_windspeed        0\n",
       "hour_bef_humidity         0\n",
       "hour_bef_ozone            0\n",
       "dtype: int64"
      ]
     },
     "execution_count": 51,
     "metadata": {},
     "output_type": "execute_result"
    }
   ],
   "source": [
    "data.isna().sum()"
   ]
  },
  {
   "cell_type": "markdown",
   "id": "3fb8bd43",
   "metadata": {},
   "source": [
    "#### **이상치 제거**"
   ]
  },
  {
   "cell_type": "markdown",
   "id": "365a9caf",
   "metadata": {},
   "source": [
    "이상치 확인을 위해 모든 피처의 박스플롯 그려보기로 했다."
   ]
  },
  {
   "cell_type": "code",
   "execution_count": 52,
   "id": "aa51206a",
   "metadata": {},
   "outputs": [
    {
     "data": {
      "image/png": "[encoded data removed]",
      "text/plain": [
       "<Figure size 800x1000 with 6 Axes>"
      ]
     },
     "metadata": {},
     "output_type": "display_data"
    }
   ],
   "source": [
    "fig, axes = plt.subplots(nrows=3, ncols=2, figsize=(8, 10))\n",
    "for ax, column in zip(axes.flatten(), data.columns[1:]):\n",
    "    sns.boxplot(x=column, data=data, ax=ax)\n",
    "plt.tight_layout()\n",
    "plt.show()"
   ]
  },
  {
   "cell_type": "markdown",
   "id": "e22af4fe",
   "metadata": {},
   "source": [
    "hour_bef_ozone에 이상치가 있는 것을 확인할 수 있다.\n",
    "<br>Z-score를 사용하여 이상치를 판별하고 0으로 대체하기로 했다."
   ]
  },
  {
   "cell_type": "code",
   "execution_count": 53,
   "id": "7a3a7ae1",
   "metadata": {},
   "outputs": [
    {
     "name": "stdout",
     "output_type": "stream",
     "text": [
      "이상치 인덱스: [ 117  118  292  362  641 1215 1427 1430 1466 1474 1497 1608 1622 1949\n",
      " 1964]\n"
     ]
    }
   ],
   "source": [
    "ozone = data['hour_bef_ozone']\n",
    "\n",
    "# 평균과 표준편차 계산\n",
    "mean = np.mean(ozone)\n",
    "std = np.std(ozone)\n",
    "\n",
    "# Z-score 계산\n",
    "z_scores = (ozone - mean) / std\n",
    "z_scores\n",
    "\n",
    "# 이상치 탐지 (Z-score가 3보다 크거나 -3보다 작은 값들을 이상치로 판단)\n",
    "outliers = np.where((z_scores > 3) | (z_scores < -3))[0] # 보통 2 아니면 3으로 설정\n",
    "print(\"이상치 인덱스:\", outliers)"
   ]
  },
  {
   "cell_type": "code",
   "execution_count": 54,
   "id": "b5462831",
   "metadata": {},
   "outputs": [],
   "source": [
    "# 이상치값 변경\n",
    "idx_list = [117, 118, 292, 362, 641, 1215, 1427, 1430, 1466, 1474, 1497, 1608, 1622, 1949, 1964]\n",
    "\n",
    "for idx in idx_list:\n",
    "    data.loc[idx, 'hour_bef_ozone'] = 0.0"
   ]
  },
  {
   "cell_type": "code",
   "execution_count": 55,
   "id": "e8ccf641",
   "metadata": {},
   "outputs": [
    {
     "data": {
      "text/html": [
       "<div>\n",
       "<style scoped>\n",
       "    .dataframe tbody tr th:only-of-type {\n",
       "        vertical-align: middle;\n",
       "    }\n",
       "\n",
       "    .dataframe tbody tr th {\n",
       "        vertical-align: top;\n",
       "    }\n",
       "\n",
       "    .dataframe thead th {\n",
       "        text-align: right;\n",
       "    }\n",
       "</style>\n",
       "<table border=\"1\" class=\"dataframe\">\n",
       "  <thead>\n",
       "    <tr style=\"text-align: right;\">\n",
       "      <th></th>\n",
       "      <th>hour</th>\n",
       "      <th>hour_bef_temperature</th>\n",
       "      <th>hour_bef_precipitation</th>\n",
       "      <th>hour_bef_windspeed</th>\n",
       "      <th>hour_bef_humidity</th>\n",
       "      <th>hour_bef_ozone</th>\n",
       "    </tr>\n",
       "  </thead>\n",
       "  <tbody>\n",
       "    <tr>\n",
       "      <th>117</th>\n",
       "      <td>15</td>\n",
       "      <td>28.4</td>\n",
       "      <td>0.0</td>\n",
       "      <td>1.808289</td>\n",
       "      <td>43.0</td>\n",
       "      <td>0.0</td>\n",
       "    </tr>\n",
       "    <tr>\n",
       "      <th>118</th>\n",
       "      <td>20</td>\n",
       "      <td>22.7</td>\n",
       "      <td>0.0</td>\n",
       "      <td>1.410987</td>\n",
       "      <td>41.0</td>\n",
       "      <td>0.0</td>\n",
       "    </tr>\n",
       "    <tr>\n",
       "      <th>292</th>\n",
       "      <td>16</td>\n",
       "      <td>29.0</td>\n",
       "      <td>0.0</td>\n",
       "      <td>1.629241</td>\n",
       "      <td>41.0</td>\n",
       "      <td>0.0</td>\n",
       "    </tr>\n",
       "    <tr>\n",
       "      <th>362</th>\n",
       "      <td>15</td>\n",
       "      <td>29.6</td>\n",
       "      <td>0.0</td>\n",
       "      <td>1.252763</td>\n",
       "      <td>22.0</td>\n",
       "      <td>0.0</td>\n",
       "    </tr>\n",
       "    <tr>\n",
       "      <th>641</th>\n",
       "      <td>16</td>\n",
       "      <td>30.0</td>\n",
       "      <td>0.0</td>\n",
       "      <td>1.435085</td>\n",
       "      <td>16.0</td>\n",
       "      <td>0.0</td>\n",
       "    </tr>\n",
       "    <tr>\n",
       "      <th>1215</th>\n",
       "      <td>19</td>\n",
       "      <td>24.4</td>\n",
       "      <td>0.0</td>\n",
       "      <td>1.526056</td>\n",
       "      <td>39.0</td>\n",
       "      <td>0.0</td>\n",
       "    </tr>\n",
       "    <tr>\n",
       "      <th>1427</th>\n",
       "      <td>18</td>\n",
       "      <td>28.1</td>\n",
       "      <td>0.0</td>\n",
       "      <td>1.686399</td>\n",
       "      <td>25.0</td>\n",
       "      <td>0.0</td>\n",
       "    </tr>\n",
       "    <tr>\n",
       "      <th>1430</th>\n",
       "      <td>17</td>\n",
       "      <td>29.2</td>\n",
       "      <td>0.0</td>\n",
       "      <td>1.589235</td>\n",
       "      <td>25.0</td>\n",
       "      <td>0.0</td>\n",
       "    </tr>\n",
       "    <tr>\n",
       "      <th>1466</th>\n",
       "      <td>18</td>\n",
       "      <td>31.2</td>\n",
       "      <td>0.0</td>\n",
       "      <td>1.163151</td>\n",
       "      <td>42.0</td>\n",
       "      <td>0.0</td>\n",
       "    </tr>\n",
       "    <tr>\n",
       "      <th>1474</th>\n",
       "      <td>14</td>\n",
       "      <td>28.4</td>\n",
       "      <td>0.0</td>\n",
       "      <td>1.410987</td>\n",
       "      <td>43.0</td>\n",
       "      <td>0.0</td>\n",
       "    </tr>\n",
       "    <tr>\n",
       "      <th>1497</th>\n",
       "      <td>16</td>\n",
       "      <td>32.6</td>\n",
       "      <td>0.0</td>\n",
       "      <td>1.410987</td>\n",
       "      <td>32.0</td>\n",
       "      <td>0.0</td>\n",
       "    </tr>\n",
       "    <tr>\n",
       "      <th>1608</th>\n",
       "      <td>15</td>\n",
       "      <td>32.1</td>\n",
       "      <td>0.0</td>\n",
       "      <td>1.064711</td>\n",
       "      <td>34.0</td>\n",
       "      <td>0.0</td>\n",
       "    </tr>\n",
       "    <tr>\n",
       "      <th>1622</th>\n",
       "      <td>17</td>\n",
       "      <td>31.7</td>\n",
       "      <td>0.0</td>\n",
       "      <td>1.386294</td>\n",
       "      <td>40.0</td>\n",
       "      <td>0.0</td>\n",
       "    </tr>\n",
       "    <tr>\n",
       "      <th>1949</th>\n",
       "      <td>15</td>\n",
       "      <td>28.5</td>\n",
       "      <td>0.0</td>\n",
       "      <td>1.481605</td>\n",
       "      <td>38.0</td>\n",
       "      <td>0.0</td>\n",
       "    </tr>\n",
       "    <tr>\n",
       "      <th>1964</th>\n",
       "      <td>16</td>\n",
       "      <td>29.2</td>\n",
       "      <td>0.0</td>\n",
       "      <td>1.410987</td>\n",
       "      <td>33.0</td>\n",
       "      <td>0.0</td>\n",
       "    </tr>\n",
       "  </tbody>\n",
       "</table>\n",
       "</div>"
      ],
      "text/plain": [
       "      hour  hour_bef_temperature  hour_bef_precipitation  hour_bef_windspeed  \\\n",
       "117     15                  28.4                     0.0            1.808289   \n",
       "118     20                  22.7                     0.0            1.410987   \n",
       "292     16                  29.0                     0.0            1.629241   \n",
       "362     15                  29.6                     0.0            1.252763   \n",
       "641     16                  30.0                     0.0            1.435085   \n",
       "1215    19                  24.4                     0.0            1.526056   \n",
       "1427    18                  28.1                     0.0            1.686399   \n",
       "1430    17                  29.2                     0.0            1.589235   \n",
       "1466    18                  31.2                     0.0            1.163151   \n",
       "1474    14                  28.4                     0.0            1.410987   \n",
       "1497    16                  32.6                     0.0            1.410987   \n",
       "1608    15                  32.1                     0.0            1.064711   \n",
       "1622    17                  31.7                     0.0            1.386294   \n",
       "1949    15                  28.5                     0.0            1.481605   \n",
       "1964    16                  29.2                     0.0            1.410987   \n",
       "\n",
       "      hour_bef_humidity  hour_bef_ozone  \n",
       "117                43.0             0.0  \n",
       "118                41.0             0.0  \n",
       "292                41.0             0.0  \n",
       "362                22.0             0.0  \n",
       "641                16.0             0.0  \n",
       "1215               39.0             0.0  \n",
       "1427               25.0             0.0  \n",
       "1430               25.0             0.0  \n",
       "1466               42.0             0.0  \n",
       "1474               43.0             0.0  \n",
       "1497               32.0             0.0  \n",
       "1608               34.0             0.0  \n",
       "1622               40.0             0.0  \n",
       "1949               38.0             0.0  \n",
       "1964               33.0             0.0  "
      ]
     },
     "execution_count": 55,
     "metadata": {},
     "output_type": "execute_result"
    }
   ],
   "source": [
    "data.loc[[117, 118, 292, 362, 641, 1215, 1427, 1430, 1466, 1474, 1497, 1608, 1622, 1949, 1964], :]"
   ]
  },
  {
   "cell_type": "markdown",
   "id": "bc404d49",
   "metadata": {},
   "source": [
    "모두 0.0으로 잘 대체된 것을 확인할 수 있다."
   ]
  },
  {
   "cell_type": "markdown",
   "id": "e657bd55",
   "metadata": {},
   "source": [
    "#### **피처 엔지니어링**"
   ]
  },
  {
   "cell_type": "markdown",
   "id": "5cf52b43",
   "metadata": {},
   "source": [
    "이번에는 hour를 활용하여 time_slot이라는 새로운 범주형 변수를 생성해보기로 했다."
   ]
  },
  {
   "cell_type": "code",
   "execution_count": 56,
   "id": "3743457c",
   "metadata": {
    "scrolled": true
   },
   "outputs": [
    {
     "data": {
      "text/html": [
       "<div>\n",
       "<style scoped>\n",
       "    .dataframe tbody tr th:only-of-type {\n",
       "        vertical-align: middle;\n",
       "    }\n",
       "\n",
       "    .dataframe tbody tr th {\n",
       "        vertical-align: top;\n",
       "    }\n",
       "\n",
       "    .dataframe thead th {\n",
       "        text-align: right;\n",
       "    }\n",
       "</style>\n",
       "<table border=\"1\" class=\"dataframe\">\n",
       "  <thead>\n",
       "    <tr style=\"text-align: right;\">\n",
       "      <th></th>\n",
       "      <th>hour</th>\n",
       "      <th>hour_bef_temperature</th>\n",
       "      <th>hour_bef_precipitation</th>\n",
       "      <th>hour_bef_windspeed</th>\n",
       "      <th>hour_bef_humidity</th>\n",
       "      <th>hour_bef_ozone</th>\n",
       "      <th>time_slot</th>\n",
       "    </tr>\n",
       "  </thead>\n",
       "  <tbody>\n",
       "    <tr>\n",
       "      <th>0</th>\n",
       "      <td>20</td>\n",
       "      <td>16.3</td>\n",
       "      <td>1.0</td>\n",
       "      <td>0.916291</td>\n",
       "      <td>89.0</td>\n",
       "      <td>0.027</td>\n",
       "      <td>afternoon/evening</td>\n",
       "    </tr>\n",
       "    <tr>\n",
       "      <th>1</th>\n",
       "      <td>13</td>\n",
       "      <td>20.1</td>\n",
       "      <td>0.0</td>\n",
       "      <td>0.875469</td>\n",
       "      <td>48.0</td>\n",
       "      <td>0.042</td>\n",
       "      <td>afternoon</td>\n",
       "    </tr>\n",
       "    <tr>\n",
       "      <th>2</th>\n",
       "      <td>6</td>\n",
       "      <td>13.9</td>\n",
       "      <td>0.0</td>\n",
       "      <td>0.530628</td>\n",
       "      <td>79.0</td>\n",
       "      <td>0.033</td>\n",
       "      <td>dawn</td>\n",
       "    </tr>\n",
       "    <tr>\n",
       "      <th>3</th>\n",
       "      <td>23</td>\n",
       "      <td>8.1</td>\n",
       "      <td>0.0</td>\n",
       "      <td>1.308333</td>\n",
       "      <td>54.0</td>\n",
       "      <td>0.040</td>\n",
       "      <td>afternoon/evening</td>\n",
       "    </tr>\n",
       "    <tr>\n",
       "      <th>4</th>\n",
       "      <td>18</td>\n",
       "      <td>29.5</td>\n",
       "      <td>0.0</td>\n",
       "      <td>1.757858</td>\n",
       "      <td>7.0</td>\n",
       "      <td>0.057</td>\n",
       "      <td>afternoon</td>\n",
       "    </tr>\n",
       "  </tbody>\n",
       "</table>\n",
       "</div>"
      ],
      "text/plain": [
       "   hour  hour_bef_temperature  hour_bef_precipitation  hour_bef_windspeed  \\\n",
       "0    20                  16.3                     1.0            0.916291   \n",
       "1    13                  20.1                     0.0            0.875469   \n",
       "2     6                  13.9                     0.0            0.530628   \n",
       "3    23                   8.1                     0.0            1.308333   \n",
       "4    18                  29.5                     0.0            1.757858   \n",
       "\n",
       "   hour_bef_humidity  hour_bef_ozone          time_slot  \n",
       "0               89.0           0.027  afternoon/evening  \n",
       "1               48.0           0.042          afternoon  \n",
       "2               79.0           0.033               dawn  \n",
       "3               54.0           0.040  afternoon/evening  \n",
       "4                7.0           0.057          afternoon  "
      ]
     },
     "execution_count": 56,
     "metadata": {},
     "output_type": "execute_result"
    }
   ],
   "source": [
    "# 시간대를 범주형 변수로 변환\n",
    "bins = [0, 6, 12, 18, 24]  # 0-6시, 6-12시, 12-18시, 18-24시\n",
    "labels = ['dawn', 'morning', 'afternoon', 'afternoon/evening']\n",
    "data['time_slot'] = pd.cut(data['hour'], bins=bins, labels=labels, include_lowest=True)\n",
    "data.head()"
   ]
  },
  {
   "cell_type": "code",
   "execution_count": 57,
   "id": "3d6ed3cf",
   "metadata": {},
   "outputs": [
    {
     "data": {
      "text/html": [
       "<div>\n",
       "<style scoped>\n",
       "    .dataframe tbody tr th:only-of-type {\n",
       "        vertical-align: middle;\n",
       "    }\n",
       "\n",
       "    .dataframe tbody tr th {\n",
       "        vertical-align: top;\n",
       "    }\n",
       "\n",
       "    .dataframe thead th {\n",
       "        text-align: right;\n",
       "    }\n",
       "</style>\n",
       "<table border=\"1\" class=\"dataframe\">\n",
       "  <thead>\n",
       "    <tr style=\"text-align: right;\">\n",
       "      <th></th>\n",
       "      <th>hour</th>\n",
       "      <th>hour_bef_temperature</th>\n",
       "      <th>hour_bef_precipitation</th>\n",
       "      <th>hour_bef_windspeed</th>\n",
       "      <th>hour_bef_humidity</th>\n",
       "      <th>hour_bef_ozone</th>\n",
       "      <th>time_slot_dawn</th>\n",
       "      <th>time_slot_morning</th>\n",
       "      <th>time_slot_afternoon</th>\n",
       "      <th>time_slot_afternoon/evening</th>\n",
       "    </tr>\n",
       "  </thead>\n",
       "  <tbody>\n",
       "    <tr>\n",
       "      <th>0</th>\n",
       "      <td>20</td>\n",
       "      <td>16.3</td>\n",
       "      <td>1.0</td>\n",
       "      <td>0.916291</td>\n",
       "      <td>89.0</td>\n",
       "      <td>0.027</td>\n",
       "      <td>0</td>\n",
       "      <td>0</td>\n",
       "      <td>0</td>\n",
       "      <td>1</td>\n",
       "    </tr>\n",
       "    <tr>\n",
       "      <th>1</th>\n",
       "      <td>13</td>\n",
       "      <td>20.1</td>\n",
       "      <td>0.0</td>\n",
       "      <td>0.875469</td>\n",
       "      <td>48.0</td>\n",
       "      <td>0.042</td>\n",
       "      <td>0</td>\n",
       "      <td>0</td>\n",
       "      <td>1</td>\n",
       "      <td>0</td>\n",
       "    </tr>\n",
       "    <tr>\n",
       "      <th>2</th>\n",
       "      <td>6</td>\n",
       "      <td>13.9</td>\n",
       "      <td>0.0</td>\n",
       "      <td>0.530628</td>\n",
       "      <td>79.0</td>\n",
       "      <td>0.033</td>\n",
       "      <td>1</td>\n",
       "      <td>0</td>\n",
       "      <td>0</td>\n",
       "      <td>0</td>\n",
       "    </tr>\n",
       "    <tr>\n",
       "      <th>3</th>\n",
       "      <td>23</td>\n",
       "      <td>8.1</td>\n",
       "      <td>0.0</td>\n",
       "      <td>1.308333</td>\n",
       "      <td>54.0</td>\n",
       "      <td>0.040</td>\n",
       "      <td>0</td>\n",
       "      <td>0</td>\n",
       "      <td>0</td>\n",
       "      <td>1</td>\n",
       "    </tr>\n",
       "    <tr>\n",
       "      <th>4</th>\n",
       "      <td>18</td>\n",
       "      <td>29.5</td>\n",
       "      <td>0.0</td>\n",
       "      <td>1.757858</td>\n",
       "      <td>7.0</td>\n",
       "      <td>0.057</td>\n",
       "      <td>0</td>\n",
       "      <td>0</td>\n",
       "      <td>1</td>\n",
       "      <td>0</td>\n",
       "    </tr>\n",
       "  </tbody>\n",
       "</table>\n",
       "</div>"
      ],
      "text/plain": [
       "   hour  hour_bef_temperature  hour_bef_precipitation  hour_bef_windspeed  \\\n",
       "0    20                  16.3                     1.0            0.916291   \n",
       "1    13                  20.1                     0.0            0.875469   \n",
       "2     6                  13.9                     0.0            0.530628   \n",
       "3    23                   8.1                     0.0            1.308333   \n",
       "4    18                  29.5                     0.0            1.757858   \n",
       "\n",
       "   hour_bef_humidity  hour_bef_ozone  time_slot_dawn  time_slot_morning  \\\n",
       "0               89.0           0.027               0                  0   \n",
       "1               48.0           0.042               0                  0   \n",
       "2               79.0           0.033               1                  0   \n",
       "3               54.0           0.040               0                  0   \n",
       "4                7.0           0.057               0                  0   \n",
       "\n",
       "   time_slot_afternoon  time_slot_afternoon/evening  \n",
       "0                    0                            1  \n",
       "1                    1                            0  \n",
       "2                    0                            0  \n",
       "3                    0                            1  \n",
       "4                    1                            0  "
      ]
     },
     "metadata": {},
     "output_type": "display_data"
    }
   ],
   "source": [
    "# 범주형 변수 원-핫 인코딩\n",
    "data = pd.get_dummies(data, columns=['time_slot'])\n",
    "display(data.head())"
   ]
  },
  {
   "cell_type": "code",
   "execution_count": 58,
   "id": "12d3dc2f",
   "metadata": {},
   "outputs": [
    {
     "name": "stdout",
     "output_type": "stream",
     "text": [
      "(1459, 10)\n",
      "(715, 10)\n"
     ]
    }
   ],
   "source": [
    "# 전체 데이터 다시 나누기\n",
    "train = data.iloc[:train_len, :]\n",
    "test = data.iloc[train_len:, :]\n",
    "\n",
    "print(train.shape)\n",
    "print(test.shape)"
   ]
  },
  {
   "cell_type": "markdown",
   "id": "b914eb1d",
   "metadata": {},
   "source": [
    "이제 모델 학습을 위한 모든 준비가 끝났다!"
   ]
  },
  {
   "cell_type": "markdown",
   "id": "8b5ecb60",
   "metadata": {},
   "source": [
    "### **모델 정의 및 학습**"
   ]
  },
  {
   "cell_type": "code",
   "execution_count": 59,
   "id": "da65af5b",
   "metadata": {},
   "outputs": [],
   "source": [
    "# rmse 함수 정의\n",
    "def rmse(y_test, y_pred):\n",
    "    return np.sqrt(mean_squared_error(y_test, y_pred))"
   ]
  },
  {
   "cell_type": "code",
   "execution_count": 60,
   "id": "632f88b0",
   "metadata": {},
   "outputs": [],
   "source": [
    "# random state 값 고정시키기\n",
    "random_state = 18\n",
    "\n",
    "gboost = GradientBoostingRegressor(random_state=random_state)\n",
    "xgboost = XGBRegressor(random_state=random_state)\n",
    "lightgbm = LGBMRegressor(random_state=random_state)\n",
    "rdforest = RandomForestRegressor(random_state=random_state)\n",
    "extrees = ExtraTreesRegressor(random_state=random_state)\n",
    "\n",
    "models = [gboost, xgboost, lightgbm, rdforest, extrees]"
   ]
  },
  {
   "cell_type": "code",
   "execution_count": 61,
   "id": "ec697101",
   "metadata": {},
   "outputs": [],
   "source": [
    "# get_scores 함수 정의\n",
    "def get_scores(models, train, y):\n",
    "    df = {}\n",
    "    \n",
    "    for model in models:\n",
    "        # 모델 이름 획득\n",
    "        model_name = model.__class__.__name__\n",
    "        \n",
    "        # train, test 데이터셋 분리 - 여기에도 random_state를 고정합니다.\n",
    "        X_train, X_test, y_train, y_test = train_test_split(train, y, random_state=random_state, test_size=0.2)\n",
    "        \n",
    "        # 모델 학습\n",
    "        model.fit(X_train, y_train)\n",
    "        \n",
    "        # 예측 \n",
    "        y_pred = model.predict(X_test)\n",
    "        \n",
    "        # 예측 결과의 rmse값 저장\n",
    "        df[model_name] = rmse(y_test, y_pred)\n",
    "        \n",
    "        # dataframe에 저장\n",
    "        score_df = pd.DataFrame(df, index=['RMSE']).T.sort_values('RMSE', ascending=False)\n",
    "            \n",
    "    return score_df"
   ]
  },
  {
   "cell_type": "code",
   "execution_count": 62,
   "id": "020726c8",
   "metadata": {},
   "outputs": [
    {
     "data": {
      "text/html": [
       "<div>\n",
       "<style scoped>\n",
       "    .dataframe tbody tr th:only-of-type {\n",
       "        vertical-align: middle;\n",
       "    }\n",
       "\n",
       "    .dataframe tbody tr th {\n",
       "        vertical-align: top;\n",
       "    }\n",
       "\n",
       "    .dataframe thead th {\n",
       "        text-align: right;\n",
       "    }\n",
       "</style>\n",
       "<table border=\"1\" class=\"dataframe\">\n",
       "  <thead>\n",
       "    <tr style=\"text-align: right;\">\n",
       "      <th></th>\n",
       "      <th>RMSE</th>\n",
       "    </tr>\n",
       "  </thead>\n",
       "  <tbody>\n",
       "    <tr>\n",
       "      <th>XGBRegressor</th>\n",
       "      <td>38.809865</td>\n",
       "    </tr>\n",
       "    <tr>\n",
       "      <th>LGBMRegressor</th>\n",
       "      <td>38.739018</td>\n",
       "    </tr>\n",
       "    <tr>\n",
       "      <th>GradientBoostingRegressor</th>\n",
       "      <td>37.480700</td>\n",
       "    </tr>\n",
       "    <tr>\n",
       "      <th>ExtraTreesRegressor</th>\n",
       "      <td>37.215812</td>\n",
       "    </tr>\n",
       "    <tr>\n",
       "      <th>RandomForestRegressor</th>\n",
       "      <td>36.311253</td>\n",
       "    </tr>\n",
       "  </tbody>\n",
       "</table>\n",
       "</div>"
      ],
      "text/plain": [
       "                                RMSE\n",
       "XGBRegressor               38.809865\n",
       "LGBMRegressor              38.739018\n",
       "GradientBoostingRegressor  37.480700\n",
       "ExtraTreesRegressor        37.215812\n",
       "RandomForestRegressor      36.311253"
      ]
     },
     "execution_count": 62,
     "metadata": {},
     "output_type": "execute_result"
    }
   ],
   "source": [
    "get_scores(models, train, y)"
   ]
  },
  {
   "cell_type": "markdown",
   "id": "95852ba8",
   "metadata": {},
   "source": [
    "### **교차 검증**"
   ]
  },
  {
   "cell_type": "code",
   "execution_count": 63,
   "id": "82e47867",
   "metadata": {},
   "outputs": [],
   "source": [
    "models = [{'model':gboost, 'name':'GradientBoosting'}, {'model':xgboost, 'name':'XGBoost'},\n",
    "         {'model':lightgbm, 'name':'LightGBM'}, {'model':rdforest, 'name':'RandomForest'}, {'model':extrees, 'name':'ExtraTrees'} ]"
   ]
  },
  {
   "cell_type": "code",
   "execution_count": 64,
   "id": "e3b70003",
   "metadata": {},
   "outputs": [],
   "source": [
    "def get_cv_score(models):\n",
    "    kfold = KFold(n_splits=5, random_state=18, shuffle = True).get_n_splits(train.values)\n",
    "    for m in models:\n",
    "        print(\"Model {} CV score : {:.4f}\".format(m['name'], np.mean(cross_val_score(m['model'], train.values, y)), kf=kfold))"
   ]
  },
  {
   "cell_type": "code",
   "execution_count": 65,
   "id": "fac803fb",
   "metadata": {},
   "outputs": [
    {
     "name": "stdout",
     "output_type": "stream",
     "text": [
      "Model GradientBoosting CV score : 0.7455\n",
      "Model XGBoost CV score : 0.7356\n",
      "Model LightGBM CV score : 0.7471\n",
      "Model RandomForest CV score : 0.7493\n",
      "Model ExtraTrees CV score : 0.7406\n"
     ]
    }
   ],
   "source": [
    "get_cv_score(models)"
   ]
  },
  {
   "cell_type": "markdown",
   "id": "7a54a1d5",
   "metadata": {},
   "source": [
    "### **Make Submission**"
   ]
  },
  {
   "cell_type": "code",
   "execution_count": 66,
   "id": "f03bd0e2",
   "metadata": {},
   "outputs": [],
   "source": [
    "def AveragingBlending(models, train, y, test):\n",
    "    for m in models : \n",
    "        m['model'].fit(train.values, y)\n",
    "    \n",
    "    predictions = np.column_stack([\n",
    "        m['model'].predict(test.values) for m in models\n",
    "    ])\n",
    "    return np.mean(predictions, axis=1)"
   ]
  },
  {
   "cell_type": "code",
   "execution_count": 67,
   "id": "74872757",
   "metadata": {},
   "outputs": [],
   "source": [
    "y_pred = AveragingBlending(models, train, y, test)"
   ]
  },
  {
   "cell_type": "code",
   "execution_count": 68,
   "id": "e1a1c5ca",
   "metadata": {},
   "outputs": [],
   "source": [
    "test = pd.DataFrame(data={'id':sub_id,'count':y_pred})"
   ]
  },
  {
   "cell_type": "code",
   "execution_count": 69,
   "id": "778ef8d6",
   "metadata": {},
   "outputs": [],
   "source": [
    "test.to_csv('submission.csv', index=False)"
   ]
  },
  {
   "cell_type": "markdown",
   "id": "851500f9",
   "metadata": {},
   "source": [
    "### **최종 점수**"
   ]
  },
  {
   "attachments": {
    "image.png": {
     "image/png": "[encoded data removed]"
    }
   },
   "cell_type": "markdown",
   "id": "d894c85b",
   "metadata": {},
   "source": [
    "![image.png](attachment:image.png)"
   ]
  }
 ],
 "metadata": {
  "kernelspec": {
   "display_name": "Python 3 (ipykernel)",
   "language": "python",
   "name": "python3"
  },
  "language_info": {
   "codemirror_mode": {
    "name": "ipython",
    "version": 3
   },
   "file_extension": ".py",
   "mimetype": "text/x-python",
   "name": "python",
   "nbconvert_exporter": "python",
   "pygments_lexer": "ipython3",
   "version": "3.9.7"
  }
 },
 "nbformat": 4,
 "nbformat_minor": 5
}
